{
 "cells": [
  {
   "cell_type": "markdown",
   "metadata": {
    "collapsed": true,
    "jupyter": {
     "outputs_hidden": true
    }
   },
   "source": [
    "##### Module 4: Concurrency\n",
    "Course: Advanced Programming for CSAI (Spring 2025)"
   ]
  },
  {
   "cell_type": "markdown",
   "metadata": {},
   "source": [
    "Topics covered in this module:  \n",
    "- Concurrent Programming.\n",
    "- Threading and Multiprocessing.\n",
    "- Communication between threads and processes.\n",
    "\n",
    "**Warning**: some students found problems when running the multiprocessing library from within Jupyter Notebooks on Windows. The problems were solved when running the notebooks from JupyterLab: https://jupyterlab.uvt.nl. \n",
    "\n",
    "You are advised to work on this notebook after, or in parallel to, consulting other materials of the module, such as the slide deck and book chapters. The notebook contains examples and exercises that should help you understand and apply the concepts introduced in the rest of materials. You may also use the official Python docs: https://docs.python.org/3/.\n",
    "\n",
    "Do not hesitate to be creative when trying out the examples: you can play with the code. You can try variants of the examples and exercises, print values of the variables to understand what is going on at every step, and come up with different solutions to the same exercise and think about relative advantages of each one.\n",
    "\n",
    "The notebook also contains formative assignments. These are indicated as FA-n, where n is a number id. As explained on the course guide, you have to submit these. Please submit your best effort (*i.e.*, FA-n questions with no answer will be considered incomplete), and **if your solution does not work or you think it is inadequate, add a comment explaining why you could not proceed further**.\n",
    "\n",
    "To submit the formative assignments, we ask you to upload the filled-in notebook. The notebook you upload should contain *at least* the formative assigments. It's not a problem if you upload the notebook with additional code, like the variants and tests mentioned above. However, to grade your assignments, we will only look at the answers to the requested exercises (those indicated with FA-n), so **make sure you store your answers in the corresponding variables and/or to name your functions as indicated**.\n",
    "\n",
    "Optional exercises are, as the name indicates, not mandatory for the formative assignments. These are exercises that suggest you to create an alternative approach, or which propose a longer problem that allows for the integration of earlier concepts in one solution; in general, they present scenarios where you can be more creative. To make the most of the course, it is best to try them out and share your solutions on the Discussion Board, so that your peers can comment on them. You are also encouraged to comment on the exercises of your fellow students. This will help you sharpen your evaluation skills, which is a great asset in programming, as in turn this will help you devise more robust, efficient and maintainable solutions. \n",
    "\n",
    "\n",
    "### /!\\ Before submitting your notebook\n",
    "\n",
    "Please check it can be ran without errors! You can check this by pressing kernel --> restart and run all before submitting. If it does not run without errors, it is your **responsibility** to fix the problem either by resolving the bug in your code or by commenting it out along with a comment.\n",
    "\n",
    "\n",
    "---"
   ]
  },
  {
   "cell_type": "markdown",
   "metadata": {},
   "source": [
    "## Threads and Processes\n",
    "### Example: Pot of Sweets"
   ]
  },
  {
   "cell_type": "markdown",
   "metadata": {},
   "source": [
    "Let's start with an example. Imagine you want to have a program that adds one sweet to a pot of sweets every second. The program could be as follows:"
   ]
  },
  {
   "cell_type": "code",
   "execution_count": 1,
   "metadata": {
    "scrolled": true
   },
   "outputs": [
    {
     "name": "stdout",
     "output_type": "stream",
     "text": [
      "added a sweet\n",
      "added a sweet\n",
      "added a sweet\n",
      "added a sweet\n",
      "added a sweet\n",
      "added a sweet\n",
      "added a sweet\n",
      "added a sweet\n",
      "added a sweet\n",
      "added a sweet\n",
      "added a sweet\n",
      "added a sweet\n",
      "added a sweet\n",
      "added a sweet\n",
      "added a sweet\n",
      "added a sweet\n",
      "added a sweet\n",
      "added a sweet\n",
      "added a sweet\n",
      "added a sweet\n"
     ]
    }
   ],
   "source": [
    "import time\n",
    "\n",
    "def addSweet(potOfSweets): \n",
    "    potOfSweets += 1\n",
    "    return potOfSweets\n",
    "\n",
    "\n",
    "potOfSweets= 0\n",
    "runtime = 20\n",
    "\n",
    "#returns the current time, so time at the start of the program\n",
    "startTime = time.time()\n",
    "\n",
    "#this loop runs for twenty seconds after the starting time\n",
    "while(time.time()<startTime+runtime): \n",
    "    #and adds one sweet...\n",
    "    potOfSweets = addSweet(potOfSweets)\n",
    "    #then waits one second\n",
    "    time.sleep(1)\n",
    "    print(\"added a sweet\")\n",
    "    \n",
    "    "
   ]
  },
  {
   "cell_type": "markdown",
   "metadata": {},
   "source": [
    "Suppose you wanted to add a switch to this program so that you can control when sweets get added. If the switch is on, the sweets get added every second, but if it is off, no sweets get added. You want the user to control the switch by inserting \"on\" or \"off\" in the console. How would you implement this in the program above? \n",
    "\n",
    "You could try something like the following:"
   ]
  },
  {
   "cell_type": "code",
   "execution_count": 2,
   "metadata": {},
   "outputs": [
    {
     "name": "stdin",
     "output_type": "stream",
     "text": [
      "Insert switch position: on\n"
     ]
    },
    {
     "name": "stdout",
     "output_type": "stream",
     "text": [
      "added a sweet\n"
     ]
    },
    {
     "name": "stdin",
     "output_type": "stream",
     "text": [
      "Insert switch position: off\n",
      "Insert switch position: off\n",
      "Insert switch position: stop\n"
     ]
    },
    {
     "name": "stdout",
     "output_type": "stream",
     "text": [
      "Unknown value stop. Insert values \"on\" or \"off\"\n"
     ]
    },
    {
     "name": "stdin",
     "output_type": "stream",
     "text": [
      "Insert switch position: end\n"
     ]
    },
    {
     "name": "stdout",
     "output_type": "stream",
     "text": [
      "Unknown value end. Insert values \"on\" or \"off\"\n"
     ]
    },
    {
     "name": "stdin",
     "output_type": "stream",
     "text": [
      "Insert switch position: hi\n"
     ]
    },
    {
     "name": "stdout",
     "output_type": "stream",
     "text": [
      "Unknown value hi. Insert values \"on\" or \"off\"\n",
      "Total amount of sweets:  1\n"
     ]
    }
   ],
   "source": [
    "import time\n",
    "from pcinput import getString #This file has been provided for you; please download it from Canvas\n",
    "\n",
    "def addSweet(potOfSweets): \n",
    "    potOfSweets += 1\n",
    "    return potOfSweets\n",
    "\n",
    "potOfSweets= 0\n",
    "runtime = 20\n",
    "\n",
    "#returns the current time, so time at the start of the program\n",
    "startTime = time.time()\n",
    "\n",
    "switch = True\n",
    "\n",
    "\n",
    "#this loop runs for 20 seconds after the starting time\n",
    "while(time.time()<startTime+runtime): \n",
    "    switchPosition = getString(\"Insert switch position:\") #asks the user what position the switch should have\n",
    "    if switchPosition == \"on\": #so when this is complete and =True then it goes straight to the next if \n",
    "        switch = True\n",
    "    elif switchPosition == \"off\":\n",
    "        switch = False\n",
    "    else:\n",
    "        print(\"Unknown value {}. Insert values \\\"on\\\" or \\\"off\\\"\".format(switchPosition))\n",
    "        switch = False        \n",
    "    if switch:\n",
    "        potOfSweets = addSweet(potOfSweets)\n",
    "        print(\"added a sweet\")\n",
    "    #then waits one second\n",
    "    time.sleep(1)\n",
    "\n",
    "print(\"Total amount of sweets: \", potOfSweets) #print the amount of sweets"
   ]
  },
  {
   "cell_type": "markdown",
   "metadata": {},
   "source": [
    "This program uses a polling approach: it actively and constantly queries for the status of the switch. It succeeds in its mission, but the fact that the program needs to wait for the user input at every time-step is not very efficient, specially when the user just wants to keep the switch on.\n",
    "\n",
    "Ideally, we would prefer that the program keeps adding sweets while the switch is on, without having to wait for the user's input.  In other words, we would like that adding sweets is done *concurrently* to checking the switch."
   ]
  },
  {
   "cell_type": "markdown",
   "metadata": {},
   "source": [
    "## Solutions to concurrency"
   ]
  },
  {
   "cell_type": "markdown",
   "metadata": {},
   "source": [
    "When you want different parts of your program running concurrently, you can choose between two ways of implementing this behavior: **threading** and **multiprocessing**. \n",
    "\n",
    "First, let's note that the potOfSweets has two main functionalities: adding candy to the pot (let's call it A), and keeping track of the switch (let's call it B). In the implementation above, they are executed in alternation, as ABABABAB...However, B cannot start until A has finished, and vice versa. \n",
    "\n",
    "With concurrent programming, we can do one of two things: either allow for A and B to alternate without the need that they wait for each other, or allow A and B to run fully in parallel. For the latter to happen, however, you need to have multiple cores. \n",
    "\n",
    "The first type of solution can be implemented with threads. In this case, you would define a thread for A and a thread for B. The threads would then run with interleaved computation: they take turns in using the CPU, but they do not have to wait for each other to finish (*i.e.*, we do not have to wait for the user to introduce information). As a programmer, you do not control which thread is being executed: this happens behind the curtains.\n",
    "\n",
    "With a multiprocessing solution, we would define process A and process B. If there is a single CPU core, the processes will also take turns, without having to wait for each other to finish. However, if you have multiple cores, the processes could even run in parallel (*i.e.*, at the same time).\n",
    "\n",
    "With threads, the use of multiple CPU cores is limited: the Global Interpreter Lock (GIL) in the Python interpreter makes sure **only one thread** can be executed at a time. Concurrency is therefore simulated by switching rapidly between threads. Thus, threading puts a ceiling on performance\\*.  \n",
    "\n",
    "Multiprocessing goes around the GIL by spawning an entirely different process. Effectively, your operating system sees each process as a different program, and schedules the CPU time as it normally does for any open program, taking advantage of multiple processors if available. However, one of the disadvantages of this approach is that there is no shared memory between processes, so exchanging data between processes is less efficient than between threads. Furthermore, the creation and destruction of processes has some overhead.\n",
    "\n",
    "\\* There are some exceptions, like when using Python libraries that are written in C (like TensorFlow, for example).\n",
    "\n",
    "---"
   ]
  },
  {
   "cell_type": "markdown",
   "metadata": {},
   "source": [
    "## Threading"
   ]
  },
  {
   "cell_type": "markdown",
   "metadata": {},
   "source": [
    "### Simple implementation"
   ]
  },
  {
   "cell_type": "markdown",
   "metadata": {},
   "source": [
    "Python provides the <code>threading</code> library to implement threading: https://docs.python.org/3/library/threading.html\n",
    "\n",
    "An implementation of a thread can be done by calling the object constructor of a thread with a function as a keyword argument. \n",
    "\n",
    "Run this code and note the interleaved computation. You may see a different output when you run it again!"
   ]
  },
  {
   "cell_type": "code",
   "execution_count": 3,
   "metadata": {},
   "outputs": [
    {
     "name": "stdout",
     "output_type": "stream",
     "text": [
      "Hello, world!We can run other instructions while the thread is alive.\n",
      "\n",
      "Hello, world!\n",
      "Hello, world!\n",
      "The thread keeps running while the main program sleeps.\n",
      "Hello, world!\n",
      "Hello, world!\n",
      "Hello, world!\n",
      "Hello, world!\n",
      "Hello, world!\n",
      "Hello, world!\n",
      "Hello, world!\n",
      "end\n"
     ]
    }
   ],
   "source": [
    "import threading\n",
    "import time\n",
    "\n",
    "#This is a simple function\n",
    "def sayMessage(message, reps): \n",
    "    for _ in range(reps):      # `_` is commonly used as a throwaway variable, a placeholder in loops\n",
    "        print(message)\n",
    "        time.sleep(1)\n",
    "\n",
    "    \n",
    "#We create a thread to run our function\n",
    "t1 = threading.Thread(target = sayMessage, #the target is the function that the thread will run\n",
    "                      args = (\"Hello, world!\", 10)) #these are the arguments to such function\n",
    "\n",
    "#start the thread\n",
    "t1.start() \n",
    "\n",
    "print('We can run other instructions while the thread is alive.') #this is the 1st line of the Main thread\n",
    "\n",
    "\n",
    "time.sleep(3) #pause the main program ; #while waiting the program executes the (side) threads 'hello world'\n",
    "\n",
    "\n",
    "print('The thread keeps running while the main program sleeps.') #this is the 2nd line of the Main thread\n",
    "\n",
    "#wait until the thread ends: https://docs.python.org/3/library/threading.html#threading.Thread.join\n",
    "t1.join() #after join will never be printed until the whole process is done\n",
    "\n",
    "#the following instruction is only printed after t1 has finished\n",
    "print('end')\n"
   ]
  },
  {
   "cell_type": "markdown",
   "metadata": {},
   "source": [
    "We can create additional threads of the same function. Note the interleaved computation:"
   ]
  },
  {
   "cell_type": "code",
   "execution_count": 4,
   "metadata": {},
   "outputs": [
    {
     "name": "stdout",
     "output_type": "stream",
     "text": [
      "Hello, world!\n",
      "Hello, all!\n",
      "Hello, world!Hello, all!\n",
      "\n",
      "Hello, all!\n",
      "Hello, world!\n",
      "Hello, world!Hello, all!\n",
      "\n",
      "Hello, world!\n",
      "Hello, world!\n",
      "Hello, world!\n",
      "Hello, world!\n",
      "Hello, world!\n",
      "Hello, world!\n"
     ]
    }
   ],
   "source": [
    "t1 = threading.Thread(target = sayMessage, args = (\"Hello, world!\", 10)) \n",
    "t2 = threading.Thread(target = sayMessage, args = (\"Hello, all!\", 4)) \n",
    "\n",
    "#here we dont have Main threads\n",
    "t1.start() #start the thread\n",
    "t2.start() #start a second thread\n",
    "t1.join() #waits until thread ends\n",
    "t2.join() #waits until thread ends"
   ]
  },
  {
   "cell_type": "markdown",
   "metadata": {},
   "source": [
    "### FA-1:\n",
    "\n",
    "Let's say we have a list of messages of unknown length, and we want to use the function sayMessage defined above for each one. We want the number of repetitions to be random, between 1 and 10. We want to create a thread for each call to the function.\n",
    "\n",
    "Below there is a list of dry fruits, which we will use as an example of a message list. \n",
    "\n",
    "Write the missing code, such that:\n",
    "\n",
    "1 - you create as many threads as messages in a list (in this case, **dry_fruits**) and save the threads in the **threads** list.\n",
    "\n",
    "2 - after the threads have been created, start each one of them\n",
    "\n",
    "3 - before the program finishes, you make sure all the threads have finished\n",
    "\n",
    "**Hint**: each of these steps can be implemented in a very short **for** loop (although you are welcome to write your code with a different approach)"
   ]
  },
  {
   "cell_type": "code",
   "execution_count": 5,
   "metadata": {},
   "outputs": [
    {
     "name": "stdout",
     "output_type": "stream",
     "text": [
      "achene\n",
      "capsule\n",
      "caryopsis\n",
      "cypsela\n",
      "fibrous drupe\n",
      "follicle\n",
      "legume\n",
      "loment\n",
      "nut\n",
      "samara\n",
      "schizocarp\n",
      "silique\n",
      "silicle\n",
      "utricle\n",
      "capsule\n",
      "utricle\n",
      "schizocarp\n",
      "samara\n",
      "achene\n",
      "legume\n",
      "fibrous drupe\n",
      "nut\n",
      "loment\n",
      "cypsela\n",
      "silicle\n",
      "caryopsis\n",
      "follicle\n",
      "silique\n",
      "schizocarpsamara\n",
      "loment\n",
      "nut\n",
      "caryopsis\n",
      "follicle\n",
      "silique\n",
      "fibrous drupe\n",
      "utricle\n",
      "achene\n",
      "\n",
      "cypsela\n",
      "legume\n",
      "legume\n",
      "samara\n",
      "fibrous drupe\n",
      "schizocarp\n",
      "nut\n",
      "achene\n",
      "loment\n",
      "follicle\n",
      "cypsela\n",
      "nut\n",
      "schizocarp\n",
      "cypsela\n",
      "follicle\n",
      "achene\n",
      "loment\n",
      "fibrous drupe\n",
      "legume\n",
      "schizocarpnut\n",
      "cypsela\n",
      "follicle\n",
      "fibrous drupe\n",
      "achene\n",
      "loment\n",
      "legume\n",
      "\n",
      "cypsela\n",
      "schizocarp\n",
      "achene\n",
      "nut\n",
      "fibrous drupe\n",
      "schizocarpfibrous drupe\n",
      "cypsela\n",
      "\n",
      "fibrous drupe\n",
      "schizocarp\n",
      "cypsela\n",
      "fibrous drupe\n",
      "End of program.\n"
     ]
    }
   ],
   "source": [
    "dry_fruits=['achene',\n",
    "    'capsule',\n",
    "    'caryopsis',\n",
    "    'cypsela',\n",
    "    'fibrous drupe',\n",
    "    'follicle',\n",
    "    'legume',\n",
    "    'loment',\n",
    "    'nut',\n",
    "    'samara',\n",
    "    'schizocarp',\n",
    "    'silique',\n",
    "    'silicle', \n",
    "    'utricle' ]\n",
    "\n",
    "threads = []\n",
    "\n",
    "#### FA-1 ####################################\n",
    "import random\n",
    "def sayMessage(message, reps): \n",
    "    for _ in range(reps): \n",
    "        print(message)\n",
    "        time.sleep(1)\n",
    "\n",
    "for word in dry_fruits:\n",
    "    t = threading.Thread(target = sayMessage, args = (word, random.randint(1,10)) ) #each thread runs random number of times parallel to the other threads also with random number of times\n",
    "    threads.append(t)\n",
    "\n",
    "for thread in threads: #it starts all the 10 threads together and when they are done then it goes to join\n",
    "    thread.start()\n",
    "\n",
    "for thread in threads:\n",
    "    thread.join() #only when all the threads are done then it will print the print('End of program.')\n",
    "##############################################\n",
    "\n",
    "print('End of program.')"
   ]
  },
  {
   "cell_type": "markdown",
   "metadata": {},
   "source": [
    "#### FA-2:\n",
    "After creating one thread per message in FA-1, let's verify that \n",
    "all threads are truly started before we continue.\n",
    "\n",
    "1) Right after creating each thread, store the thread object in 'threads'.\n",
    "2) Then create a short loop that prints each thread's 'is_alive()' status.\n",
    "3) Confirm they're all alive before you join them.\n",
    "\n",
    "Expected outcome:\n",
    "- A list of boolean values or lines like \"Thread #0: True\", \"Thread #1: True\", etc. \n",
    "  if the threads haven't finished yet."
   ]
  },
  {
   "cell_type": "code",
   "execution_count": 6,
   "metadata": {},
   "outputs": [
    {
     "name": "stdout",
     "output_type": "stream",
     "text": [
      "achene\n",
      "capsule\n",
      "caryopsis\n",
      "cypsela\n",
      "fibrous drupe\n",
      "follicle\n",
      "legume\n",
      "loment\n",
      "nut\n",
      "samara\n",
      "schizocarp\n",
      "silique\n",
      "silicle\n",
      "utricle\n",
      "Thread #0: True\n",
      "Thread #1: True\n",
      "Thread #2: True\n",
      "Thread #3: True\n",
      "Thread #4: True\n",
      "Thread #5: True\n",
      "Thread #6: True\n",
      "Thread #7: True\n",
      "Thread #8: True\n",
      "Thread #9: True\n",
      "Thread #10: True\n",
      "Thread #11: True\n",
      "Thread #12: True\n",
      "Thread #13: True\n",
      "capsule\n",
      "cypsela\n",
      "achene\n",
      "caryopsis\n",
      "legume\n",
      "follicle\n",
      "schizocarp\n",
      "silicle\n",
      "samara\n",
      "nut\n",
      "utricle\n",
      "loment\n",
      "silique\n",
      "achenecypsela\n",
      "capsule\n",
      "\n",
      "silicle\n",
      "samara\n",
      "loment\n",
      "silique\n",
      "schizocarp\n",
      "nut\n",
      "legume\n",
      "utricle\n",
      "follicle\n",
      "capsulecypsela\n",
      "achene\n",
      "\n",
      "samara\n",
      "loment\n",
      "follicle\n",
      "silicle\n",
      "nut\n",
      "schizocarp\n",
      "silique\n",
      "utricle\n",
      "legume\n",
      "cypsela\n",
      "achene\n",
      "loment\n",
      "samara\n",
      "schizocarp\n",
      "nut\n",
      "silique\n",
      "utricle\n",
      "legume\n",
      "silicle\n",
      "follicle\n",
      "achene\n",
      "legume\n",
      "utricle\n",
      "samara\n",
      "nut\n",
      "silique\n",
      "silicle\n",
      "follicle\n",
      "loment\n",
      "schizocarp\n",
      "achene\n",
      "follicle\n",
      "loment\n",
      "nut\n",
      "utricle\n",
      "samara\n",
      "silique\n",
      "follicleloment\n",
      "nut\n",
      "silique\n",
      "\n",
      "samara\n",
      "utricle\n",
      "samarasilique\n",
      "\n",
      "follicle\n",
      "nut\n",
      "nut\n",
      "follicle\n"
     ]
    }
   ],
   "source": [
    "## Your solution goes here: ##\n",
    "## FA-2:\n",
    "import threading\n",
    "import time\n",
    "dry_fruits=['achene',\n",
    "    'capsule',\n",
    "    'caryopsis',\n",
    "    'cypsela',\n",
    "    'fibrous drupe',\n",
    "    'follicle',\n",
    "    'legume',\n",
    "    'loment',\n",
    "    'nut',\n",
    "    'samara',\n",
    "    'schizocarp',\n",
    "    'silique',\n",
    "    'silicle', \n",
    "    'utricle' ]\n",
    "threads = []\n",
    "import random\n",
    "def sayMessage(message, reps): \n",
    "    for _ in range(reps): \n",
    "        print(message)\n",
    "        time.sleep(1)\n",
    "\n",
    "for word in dry_fruits:\n",
    "    t = threading.Thread(target = sayMessage, args = (word, random.randint(1,10)) )\n",
    "    threads.append(t)\n",
    "    \n",
    "\n",
    "for thread in threads: #if we dont have this part with start - then the Main thread will be False=not alive\n",
    "    thread.start()\n",
    "\n",
    "for i, t in enumerate(threads): #this is the Main thread; #the results are printed one after another because we dont have sleep func in the main thread\n",
    "    print(f\"Thread #{i}: {t.is_alive()}\")\n",
    "\n",
    "for thread in threads:\n",
    "    thread.join()\n",
    "\n",
    "##############################\n",
    "\n",
    "# Example usage:\n",
    "# for i, t in enumerate(threads):\n",
    "#     print(f\"Thread #{i}: {t.is_alive()}\")"
   ]
  },
  {
   "cell_type": "markdown",
   "metadata": {},
   "source": [
    "#### FA-3:\n",
    "Add a small random sleep in 'sayMessage' for each iteration (e.g., time.sleep(random.uniform(0.1, 0.5)))\n",
    "so messages interleave more unpredictably.\n",
    "\n",
    "1) Modify 'sayMessage' or create a new function 'sayMessageRandom' that sleeps a random fraction of a second.\n",
    "2) Create several threads using 'sayMessageRandom' with different messages.\n",
    "3) Observe the interleaved output.\n",
    "\n",
    "Expected outcome:\n",
    "- The threads' outputs appear in more random order due to the varying sleep intervals."
   ]
  },
  {
   "cell_type": "code",
   "execution_count": 8,
   "metadata": {},
   "outputs": [
    {
     "name": "stdout",
     "output_type": "stream",
     "text": [
      "Hello concurrency!\n",
      "Hi!\n",
      "Yes!\n",
      "Hello concurrency!\n",
      "Hi!\n",
      "Hi!Yes!\n",
      "\n",
      "Hi!\n",
      "Hello concurrency!\n",
      "Yes!\n",
      "Hello concurrency!\n",
      "Yes!\n",
      "Hi!\n",
      "Hello concurrency!\n",
      "Yes!\n"
     ]
    }
   ],
   "source": [
    "## Your solution goes here: ##\n",
    "## FA-3:\n",
    "import random\n",
    "def sayMessageRandom(message, reps): \n",
    "    for _ in range(reps): \n",
    "        print(message)\n",
    "        time.sleep(random.uniform(0.1, 0.5))\n",
    "\n",
    "t1 = threading.Thread(target=sayMessageRandom, args=(\"Hello concurrency!\", 5))\n",
    "\n",
    "t2 = threading.Thread(target=sayMessageRandom, args=(\"Hi!\", 5))\n",
    "\n",
    "t3 = threading.Thread(target=sayMessageRandom, args=(\"Yes!\", 5))\n",
    "\n",
    "\n",
    "t1.start()\n",
    "t2.start()\n",
    "t3.start()\n",
    "t1.join()\n",
    "t2.join()\n",
    "t3.join()\n",
    "##############################\n",
    "\n",
    "# Example usage:\n",
    "# t1 = threading.Thread(target=sayMessageRandom, args=(\"Hello concurrency!\", 5))\n",
    "# t1.start()\n",
    "# t1.join()"
   ]
  },
  {
   "cell_type": "markdown",
   "metadata": {},
   "source": [
    "### Class implementation"
   ]
  },
  {
   "cell_type": "markdown",
   "metadata": {},
   "source": [
    "It is also possible to integrate threads (or processes) into a dedicated class. Below is an example of how you can use an object-oriented solution, by creating a class for your threads that inherits from Thread:"
   ]
  },
  {
   "cell_type": "code",
   "execution_count": 9,
   "metadata": {},
   "outputs": [
    {
     "name": "stdout",
     "output_type": "stream",
     "text": [
      "Hello, world!\n",
      "Hello, world!\n",
      "Hello, world!\n",
      "Hello, world!\n",
      "Hello, world!\n",
      "Hello, world!\n",
      "Hello, world!\n",
      "Hello, world!\n",
      "Hello, world!\n",
      "Hello, world!\n",
      "Hello, world!\n",
      "Hello, world!\n",
      "Hello, world!\n",
      "Hello, world!\n",
      "Hello, world!\n",
      "Hello, world!\n",
      "Hello, world!\n",
      "Hello, world!\n",
      "Hello, world!\n",
      "Hello, world!\n",
      "we can run other code on the meantime\n",
      "done\n"
     ]
    }
   ],
   "source": [
    "import threading\n",
    "\n",
    "class myThread(threading.Thread): #we inherit from Thread class\n",
    "  \n",
    "    def __init__(self, message): \n",
    "        \n",
    "        threading.Thread.__init__(self) #we call the initialization of Thread\n",
    "        self.message = message #we can add anything here\n",
    "        \n",
    "    #We need to override the run method of Thread\n",
    "    # This is the function that will be called by the thread method start\n",
    "    def run(self): \n",
    "        for _ in range(20):\n",
    "            print(self.message) #note access to the arguments of the target goes through class attributes\n",
    "\n",
    "m = myThread(\"Hello, world!\")\n",
    "m.start() #use .start() to start a new thread. If you use .run() the method will not be executed in a different thread.\n",
    "#start will automatically call the run() func we dont have to call run directly\n",
    "print('we can run other code on the meantime')\n",
    "m.join()\n",
    "print('done')"
   ]
  },
  {
   "cell_type": "markdown",
   "metadata": {},
   "source": [
    "### FA-4:\n",
    "\n",
    "\n",
    "The code below provides a function to download comics from XCKD. Create a class *ComicThread* and use it to download 10 comics concurrently (note that you don't need to modify *get_issue*)."
   ]
  },
  {
   "cell_type": "code",
   "execution_count": 10,
   "metadata": {},
   "outputs": [
    {
     "name": "stdout",
     "output_type": "stream",
     "text": [
      "Image successfully Downloaded:  landscape_cropped_(1).jpg\n",
      "Image successfully Downloaded:  red_spiders_small.jpg\n",
      "Image successfully Downloaded:  blownapart_color.jpg\n",
      "Image successfully Downloaded:  tree_cropped_(1).jpg\n",
      "Image successfully Downloaded:  barrel_cropped_(1).jpg\n",
      "Image successfully Downloaded:  island_color.jpg\n",
      "Image successfully Downloaded:  pi.jpg\n",
      "Image successfully Downloaded:  firefly.jpg\n",
      "Image successfully Downloaded:  irony_color.jpg\n",
      "Image successfully Downloaded:  girl_sleeping_noline_(1).jpg\n",
      "all comics are downloaded\n"
     ]
    }
   ],
   "source": [
    "#Note: you can install the libraries below with pip3 or conda\n",
    "#However, sometimes Jupyter Notebooks do not see them.\n",
    "#If you experience too much trouble importing the libraries, solve\n",
    "#this exercise in an external environment (e.g. PyCharm, Spyder, ...)\n",
    "#and then paste your solution here for submission.\n",
    "import requests, shutil\n",
    "from bs4 import BeautifulSoup as bs\n",
    "import threading\n",
    "\n",
    "\n",
    "# code adapted from:\n",
    "# https://github.com/chavarera/python-mini-projects/blob/master/projects/XKCD_downloader/xkcd_dowloader.py\n",
    "def get_issue(issue_number):\n",
    "    \n",
    "    url = \"https://xkcd.com/\"+ str(issue_number)\n",
    "\n",
    "    response = requests.get(url)\n",
    "\n",
    "    #Checking if we can fetch the url or not\n",
    "    if response.status_code ==200:\n",
    "        soup = bs(response.content, 'html.parser')\n",
    "        image_link = soup.find_all('img')[1]['src']\n",
    "        image_name = image_link.split('/')[-1]\n",
    "        image_url = \"https:\" + image_link\n",
    "        r = requests.get(image_url, stream=True)\n",
    "        if r.status_code == 200:\n",
    "            #This ensures the image file is loaded correctly\n",
    "            r.raw.decode_content = True\n",
    "\n",
    "            # Creating the image file\n",
    "            with open(image_name, 'wb') as f:\n",
    "                shutil.copyfileobj(r.raw, f)\n",
    "\n",
    "            print('Image successfully Downloaded: ', image_name)\n",
    "        else:\n",
    "            print('Image Couldn\\'t be retreived')\n",
    "    else:\n",
    "        print(\"Issue number {} is invalid\".format(issue))\n",
    "\n",
    "\n",
    "\n",
    "## FA -4 ###############################################\n",
    "\n",
    "class ComicThread(threading.Thread):\n",
    "    def __init__(self, issue_number): \n",
    "        threading.Thread.__init__(self) #we dont know yet this init; instead of threading.Thread we can write super.__init__(self) to get the init of this other class\n",
    "        self.issue_number=issue_number\n",
    "        \n",
    "    def run(self): \n",
    "        get_issue(self.issue_number)\n",
    "\n",
    "threads=[]\n",
    "for i in range(1,11): #we start from 1 because for 0 index it raises an error; this is a problem of the given resource not the code\n",
    "    t=ComicThread(i) #i is the issue_number and ComicThread is threading.Thread\n",
    "    threads.append(t)\n",
    "    t.start()\n",
    "\n",
    "for thread in threads:\n",
    "    thread.join()\n",
    "\n",
    "print('all comics are downloaded')\n",
    "\n",
    "\n",
    "########################################################"
   ]
  },
  {
   "cell_type": "markdown",
   "metadata": {},
   "source": [
    "#### FA-5:\n",
    "Create 3 threads of 'ComicThread' to download 3 different comic issues \n",
    "(e.g., issues 101, 150, 200). Start them all and wait for them to complete. \n",
    "Print a final message \"All 3 comics downloaded.\"\n",
    "\n",
    "Expected outcome:\n",
    "- The 3 images for issues 101, 150, and 200 are fetched concurrently, \n",
    "  with messages like \"Image successfully Downloaded: <filename>\" \n",
    "  appearing in unpredictable order.\n"
   ]
  },
  {
   "cell_type": "code",
   "execution_count": 11,
   "metadata": {},
   "outputs": [
    {
     "name": "stdout",
     "output_type": "stream",
     "text": [
      "Image successfully Downloaded:  laser_scope.jpg\n",
      "Image successfully Downloaded:  bill_nye.png\n",
      "Image successfully Downloaded:  grownups.png\n",
      "all comics are downloaded\n"
     ]
    }
   ],
   "source": [
    "## Your solution goes here: ##\n",
    "## FA-5:\n",
    "import threading\n",
    "class ComicThread(threading.Thread):\n",
    "    def __init__(self, issue_number): \n",
    "        threading.Thread.__init__(self) #we dont know yet this init; instead of threading.Thread we can write super.__init__(self) to get the init of this other class\n",
    "        self.issue_number=issue_number\n",
    "        \n",
    "    def run(self): \n",
    "        get_issue(self.issue_number)\n",
    "\n",
    "# t2 = threading.Thread(target=sayMessageRandom, args=(\"Hi!\", 5))\n",
    "t1=ComicThread(101)\n",
    "t2=ComicThread(150)\n",
    "t3=ComicThread(200)\n",
    "    \n",
    "t1.start()\n",
    "t2.start()\n",
    "t3.start()\n",
    "\n",
    "t1.join()\n",
    "t2.join()\n",
    "t3.join()\n",
    "\n",
    "print('all comics are downloaded')\n",
    "\n",
    "##############################\n",
    "\n",
    "# Example usage:\n",
    "# t1 = ComicThread(101)\n",
    "# t2 = ComicThread(150)\n",
    "# t3 = ComicThread(200)\n",
    "# ...\n",
    "# print(\"All 3 comics downloaded.\")"
   ]
  },
  {
   "cell_type": "markdown",
   "metadata": {},
   "source": [
    "---\n",
    "## Thread communication"
   ]
  },
  {
   "cell_type": "markdown",
   "metadata": {},
   "source": [
    "Threads \"live\" within the process that creates them, *i.e.*, they have access to the memory of their parent process. This means that threads can see the variables that are in the scope of the thread creation call. You can see this in the example below."
   ]
  },
  {
   "cell_type": "code",
   "execution_count": 2,
   "metadata": {},
   "outputs": [
    {
     "name": "stdout",
     "output_type": "stream",
     "text": [
      "Good Morning\n",
      "Hello, world!\n",
      "Hello, world!\n",
      "End.\n"
     ]
    }
   ],
   "source": [
    "import threading\n",
    "import time\n",
    "    #greetandmessage is the side thread\n",
    "def greetAndMessage(message, reps): #greetAndMessage is a side thread and it can access the greeting variable because it is a global\n",
    "    time.sleep(2)\n",
    "    print(greeting) #The thread has access to this variable, which lives in the memory of the parent process\n",
    "    for _ in range(reps):\n",
    "        print(message)\n",
    "\n",
    "    \n",
    "\n",
    "greeting = \"Good Morning\"\n",
    "#We create a thread to run our function\n",
    "t1 = threading.Thread(target = greetAndMessage, \n",
    "                      args = (\"Hello, world!\", 2)) #this is the Main Thread and it calls the greetAndMessage and makes greetAndMessage a thread so in the end t1 can access greeting\n",
    "#start the thread\n",
    "t1.start()\n",
    "#wait until the thread ends to finish the program:\n",
    "t1.join() \n",
    "print(\"End.\")\n",
    "\n",
    "#it is like triangle: greetandmessage -> greeting; t1->greetand message; t1->greeting"
   ]
  },
  {
   "cell_type": "markdown",
   "metadata": {},
   "source": [
    "Having direct access to the memory of the parent can be an advantage, but it may also have undesirable effects. The following example is likely to not produce the output you expect:"
   ]
  },
  {
   "cell_type": "code",
   "execution_count": 3,
   "metadata": {
    "scrolled": true
   },
   "outputs": [
    {
     "name": "stdout",
     "output_type": "stream",
     "text": [
      "Good Afternoon\n",
      "Hello, world!\n",
      "Hello, world!\n",
      "Good Afternoon\n",
      "Hello, world!\n",
      "Hello, world!\n"
     ]
    }
   ],
   "source": [
    "import threading\n",
    "import time\n",
    "#everything here is a main thread; the only side thread is the greetandmessage function defined above and called here inside t1 and t2\n",
    "t1 = threading.Thread(target = greetAndMessage, \n",
    "                      args = (\"Hello, world!\", 2)) \n",
    "\n",
    "t2 = threading.Thread(target = greetAndMessage, \n",
    "                      args = (\"Hello, world!\", 2)) \n",
    "\n",
    "greeting=\"Good Morning\" #main thread\n",
    "\n",
    "#start thread 1, expecting to see Good Morning\n",
    "t1.start() \n",
    "\n",
    "#because we dont have sleep() here, the good afternoon will run so fast after the good morning that it will overwrite good morning\n",
    "\n",
    "#now another one for Good Afternoon\n",
    "greeting = \"Good Afternoon\"  #main thread; this overwrites the good morning even though the 1st thread got started\n",
    "t2.start()\n",
    "\n",
    "#wait until the thread ends to finish the program\n",
    "t1.join() \n",
    "t2.join()"
   ]
  },
  {
   "cell_type": "markdown",
   "metadata": {},
   "source": [
    "For the example above, the solution is simple. \n",
    "\n",
    "### FA-6:\n",
    "\n",
    "How would you re-organize the code in the example above so that t1 greets Good Morning?"
   ]
  },
  {
   "cell_type": "code",
   "execution_count": 14,
   "metadata": {},
   "outputs": [
    {
     "name": "stdout",
     "output_type": "stream",
     "text": [
      "Good Morning\n",
      "Hello, world!\n",
      "Hello, world!\n",
      "Good Afternoon\n",
      "Hello, world!\n",
      "Hello, world!\n"
     ]
    }
   ],
   "source": [
    "#### FA-6 #####################\n",
    "import threading\n",
    "import time\n",
    "\n",
    "t1 = threading.Thread(target = greetAndMessage, #one way is to add time.sleep() func; 2nd way is to add extra par the actual greeting: args = (\"Hello, world!\", 2,\"Good Morning\")) \n",
    "                      args = (\"Hello, world!\", 2)) \n",
    "\n",
    "t2 = threading.Thread(target = greetAndMessage, \n",
    "                      args = (\"Hello, world!\", 2)) \n",
    "\n",
    "greeting=\"Good Morning\" #main thread\n",
    "\n",
    "#start thread 1, expecting to see Good Morning\n",
    "t1.start() \n",
    "\n",
    "time.sleep(4) \n",
    "#now another one for Good Afternoon\n",
    "greeting = \"Good Afternoon\"  \n",
    "t2.start()\n",
    "\n",
    "#wait until the thread ends to finish the program\n",
    "t1.join() \n",
    "t2.join()\n",
    "\n",
    "##############################"
   ]
  },
  {
   "cell_type": "markdown",
   "metadata": {},
   "source": [
    "#### FA-7:\n",
    "Define a function 'threadWithGreeting(greet)' that returns a newly created \n",
    "Thread object which, when started, prints the greet string 3 times. \n",
    "Demonstrate by creating 2 or 3 threads with different greetings.\n",
    "\n",
    "Expected outcome:\n",
    "- Something like:\n",
    "  Thread 1 => \"Hello from T1\"\n",
    "  Thread 1 => ...\n",
    "  Thread 2 => \"Hola from T2\"\n",
    "  ..."
   ]
  },
  {
   "cell_type": "code",
   "execution_count": 15,
   "metadata": {},
   "outputs": [
    {
     "name": "stdout",
     "output_type": "stream",
     "text": [
      "Morning from T1\n",
      "Morning from T1\n",
      "Morning from T1\n",
      "Evening from T2\n",
      "Evening from T2\n",
      "Evening from T2\n"
     ]
    }
   ],
   "source": [
    "## Your solution goes here: ##\n",
    "## FA-7:\n",
    "\n",
    "def myfunc(greet):\n",
    "    for i in range(3):\n",
    "        print(greet)\n",
    "\n",
    "        \n",
    "def threadWithGreeting(greet):\n",
    "    return threading.Thread(target=myfunc, args=(greet,)) #each thread has its own greet since it is passed as an argument; so they dont dep on one and the same greet\n",
    "\n",
    "##############################\n",
    "\n",
    "# Example usage:\n",
    "t1 = threadWithGreeting(\"Morning from T1\")\n",
    "t2 = threadWithGreeting(\"Evening from T2\")\n",
    "t1.start()\n",
    "t2.start()\n",
    "t1.join()\n",
    "t2.join()"
   ]
  },
  {
   "cell_type": "markdown",
   "metadata": {},
   "source": [
    "However, this can easily get complicated if threads depend on the values of shared variables. This becomes particularly delicate when threads use shared variables to communicate between them. That's the case in the next example.\n",
    "\n",
    "The following code is written with the expectation that the first thread that executes f shows a greeting, and then sets it to an empty string such that the rest of threads don't greet again.\n",
    "\n",
    "If you run it as is, it may likely produce the desired behavior. But if you uncomment the time.sleep, you will likely see a different behavior (if you don't, increase the argument to sleep). "
   ]
  },
  {
   "cell_type": "code",
   "execution_count": 16,
   "metadata": {},
   "outputs": [
    {
     "name": "stdout",
     "output_type": "stream",
     "text": [
      "Hi\n",
      "other stuff that this function does\n",
      "\n",
      "other stuff that this function does\n",
      "\n",
      "other stuff that this function does\n",
      "\n",
      "other stuff that this function does\n",
      "\n",
      "other stuff that this function does\n",
      "\n",
      "other stuff that this function does\n",
      "\n",
      "other stuff that this function does\n",
      "\n",
      "other stuff that this function does\n",
      "\n",
      "other stuff that this function does\n",
      "\n",
      "other stuff that this function does\n"
     ]
    }
   ],
   "source": [
    "import threading, time\n",
    "\n",
    "greeting='Hi' #1\n",
    "\n",
    "def greet_once():  #5\n",
    "    global greeting #6\n",
    "    print(greeting) #7 we print the global; the 1st thread comes here and it is 'Hi'\n",
    "    #time.sleep(2)\n",
    "    greeting = '' #8 we change the global to empty str; the 2nd thread and the rest come here and be empty strings \n",
    "    print('other stuff that this function does') #9\n",
    "\n",
    "threads = [] #2\n",
    "\n",
    "for _ in range(10): #3 we create 10 threads but we havent started them yet\n",
    "    threads.append(threading.Thread(target = greet_once))\n",
    "\n",
    "for t in threads:\n",
    "    t.start() #4 when i start the thread, it goes to the function greet_once();\n",
    "\n",
    "    \n",
    "for t in threads:\n",
    "    t.join() #10\n"
   ]
  },
  {
   "cell_type": "markdown",
   "metadata": {},
   "source": [
    "### FA-8:\n",
    "\n",
    "Why does the code (with uncommented time.sleep(2)) not produced the desired behavior?"
   ]
  },
  {
   "cell_type": "code",
   "execution_count": null,
   "metadata": {},
   "outputs": [],
   "source": [
    "#### FA-8 #####################\n",
    "\n",
    "fa8_answer = \"\"\"\n",
    "Because of the sleep() func, the 1st thread is sleeping for 2 seconds this makes the other threads to get started and print the greeting before reset the greeting to empty string.\n",
    "\"\"\"\n",
    "\n",
    "##############################"
   ]
  },
  {
   "cell_type": "code",
   "execution_count": 17,
   "metadata": {},
   "outputs": [
    {
     "name": "stdout",
     "output_type": "stream",
     "text": [
      "Hi\n",
      "Hi\n",
      "Hi\n",
      "Hi\n",
      "Hi\n",
      "Hi\n",
      "Hi\n",
      "Hi\n",
      "Hi\n",
      "Hi\n",
      "other stuff that this function does\n",
      "other stuff that this function does\n",
      "other stuff that this function does\n",
      "other stuff that this function does\n",
      "other stuff that this function does\n",
      "other stuff that this function does\n",
      "other stuff that this function does\n",
      "other stuff that this function does\n",
      "other stuff that this function does\n",
      "other stuff that this function does\n"
     ]
    }
   ],
   "source": [
    "import threading, time\n",
    "\n",
    "greeting='Hi' #1\n",
    "\n",
    "def greet_once():  #5\n",
    "    global greeting #6\n",
    "    print(greeting) #7 we print the global; the 1st thread comes here and it is 'Hi'\n",
    "    time.sleep(2)\n",
    "    greeting = '' #8 we change the global to empty str; the 2nd thread and the rest come here and be empty strings \n",
    "    print('other stuff that this function does') #9\n",
    "\n",
    "threads = [] #2\n",
    "\n",
    "for _ in range(10): #3 we create 10 threads but we havent started them yet\n",
    "    threads.append(threading.Thread(target = greet_once))\n",
    "\n",
    "for t in threads:\n",
    "    t.start() #4 when i start the thread, it goes to the function greet_once();\n",
    "\n",
    "    \n",
    "for t in threads:\n",
    "    t.join() #10\n"
   ]
  },
  {
   "cell_type": "markdown",
   "metadata": {},
   "source": [
    "#### FA-9:\n",
    "We saw an example with greet_once() that modifies the global 'greeting'. \n",
    "Now let's add a second global variable 'mode' = 'happy' or 'serious'. \n",
    "Inside greet_once() we print something extra if mode=='happy'. \n",
    "Demonstrate how multiple threads can cause unexpected outputs \n",
    "if they simultaneously modify 'mode' without coordination.\n",
    "\n",
    "Expected outcome:\n",
    "- Potentially jumbled or inconsistent prints due to race conditions on 'mode'."
   ]
  },
  {
   "cell_type": "code",
   "execution_count": 18,
   "metadata": {},
   "outputs": [
    {
     "name": "stdout",
     "output_type": "stream",
     "text": [
      "Hi\n",
      "Happy greeting\n",
      "Hi\n",
      "Hi\n",
      "Hi\n",
      "Hi\n",
      "Hi\n",
      "Hi\n",
      "Hi\n",
      "Hi\n",
      "Hi\n",
      "Serious GreetingSerious Greeting\n",
      "other stuff that this function does\n",
      "other stuff that this function does\n",
      "other stuff that this function does\n",
      "other stuff that this function does\n",
      "\n",
      "other stuff that this function does\n",
      "other stuff that this function does\n",
      "other stuff that this function does\n",
      "other stuff that this function does\n",
      "other stuff that this function does\n",
      "other stuff that this function does\n"
     ]
    }
   ],
   "source": [
    "## Your solution goes here: ##\n",
    "## FA-9:\n",
    "import threading, time\n",
    "\n",
    "greeting='Hi' \n",
    "mode = 'happy'\n",
    "def greet_once():  \n",
    "    global greeting\n",
    "    print(greeting) #1st th print hi and goes to print('Happy greeting'); the 2nd and the rest threads print hi and go to the waiting\n",
    "    global mode\n",
    "    if mode == 'happy':\n",
    "        print('Happy greeting')\n",
    "        mode = 'serious'\n",
    "    time.sleep(2) #when all the threads are here again the same process repeat but we start with serious because we changed it in the 1st func\n",
    "    if mode == 'serious': \n",
    "        print('Serious Greeting')\n",
    "        mode = 'happy'\n",
    "    \n",
    "    greeting = '' \n",
    "    print('other stuff that this function does') \n",
    "    \n",
    "threads = [] \n",
    "\n",
    "for _ in range(10):\n",
    "    threads.append(threading.Thread(target = greet_once))\n",
    "\n",
    "for t in threads:\n",
    "    t.start() \n",
    "\n",
    "    \n",
    "for t in threads:\n",
    "    t.join() \n",
    "##############################\n",
    "\n",
    "# Example usage:\n",
    "# greeting='Hello'\n",
    "# mode='happy'\n",
    "# ...\n"
   ]
  },
  {
   "cell_type": "markdown",
   "metadata": {},
   "source": [
    "#### FA-10:\n",
    "Use a threading.Lock to protect access to 'greeting' from the greet_once() example. \n",
    "This ensures only one thread at a time can modify or read 'greeting'. \n",
    "Verify that with the lock, only one actual greeting is printed.\n",
    "\n",
    "Expected outcome:\n",
    "- Exactly one greeting is printed. The other threads see greeting as empty or something else."
   ]
  },
  {
   "cell_type": "code",
   "execution_count": 19,
   "metadata": {},
   "outputs": [
    {
     "name": "stdout",
     "output_type": "stream",
     "text": [
      "Hi\n",
      "other stuff that this function does\n",
      "other stuff that this function does\n",
      "other stuff that this function does\n",
      "other stuff that this function does\n",
      "other stuff that this function does\n",
      "other stuff that this function does\n",
      "other stuff that this function does\n",
      "other stuff that this function does\n",
      "other stuff that this function does\n",
      "other stuff that this function does\n"
     ]
    }
   ],
   "source": [
    "## Your solution goes here: ##\n",
    "## FA-10:\n",
    "import threading, time\n",
    "\n",
    "greeting='Hi'\n",
    "lock = threading.Lock()\n",
    "\n",
    "def greet_once():  \n",
    "    \n",
    "    global greeting\n",
    "\n",
    "    with lock: # when the first thread comes then it will lock it for the other threads until it comes out of the lock; every thread is locked when it comes here\n",
    "        if greeting:\n",
    "            print(greeting) \n",
    "            greeting = '' #this line change the greeting to empty str for every next thread after the 1st one\n",
    "\n",
    "    print('other stuff that this function does') \n",
    "    \n",
    "threads = [] \n",
    "\n",
    "for _ in range(10):\n",
    "    threads.append(threading.Thread(target = greet_once))\n",
    "\n",
    "for t in threads:\n",
    "    t.start() \n",
    "\n",
    "    \n",
    "for t in threads:\n",
    "    t.join() \n",
    "\n",
    "##############################\n",
    "\n",
    "# Example usage:\n",
    "# lock = threading.Lock()\n",
    "# ...\n",
    "# def greet_once_locked():\n",
    "#   with lock:\n",
    "#       # read/modify greeting"
   ]
  },
  {
   "cell_type": "markdown",
   "metadata": {},
   "source": [
    "## Thread communication with queues"
   ]
  },
  {
   "cell_type": "markdown",
   "metadata": {},
   "source": [
    "As you have seen in the course materials, a Queue is a useful datastructure for thread communication. The reason why we prefer to use Queues rather than lists is because Queues add some methods to ensure Thread Safety.\n",
    "\n",
    "This is one example from the chapter you have read, with some added comments:"
   ]
  },
  {
   "cell_type": "code",
   "execution_count": 20,
   "metadata": {},
   "outputs": [
    {
     "name": "stdout",
     "output_type": "stream",
     "text": [
      "Got number 0\n",
      "Got number 1\n",
      "Got number 1\n",
      "Got number 2\n",
      "Got number 3\n",
      "Got number 5\n",
      "Done\n"
     ]
    }
   ],
   "source": [
    "import threading\n",
    "from queue import Queue     # (a,b,c,d,S) S is sentinel and it is always in the end of the queue and we take out each element in consequtive order;\n",
    "                            #when we reach S -> end of the queue\n",
    "\n",
    "SENTINEL = object() #this is an empty object, used just as a signal\n",
    "          #q is a key letter representing queue -> we can use any other letter; n is how many numbers we want in the queue\n",
    "def producer(q, n): #this function produces Fibonacci numbers\n",
    "    a, b = 0, 1 #just because of the fibonacci task we need the 1st two nums to be spefic nums so we can sum them and create the 3rd num\n",
    "    while a <= n: #continue adding a num in the fib sequence until the current num is <= the count of nums\n",
    "        q.put(a)    #we add next fib number in the queue to the queue\n",
    "        a, b = b, a + b \n",
    "    q.put(SENTINEL)\n",
    "    \n",
    "def consumer(q):\n",
    "    while True:\n",
    "        num = q.get()  #read from the queue\n",
    "        q.task_done()  #every time we read from a queue with get, we should\n",
    "                       #signal a task_done\n",
    "                       #otherwise the element is blocked and .join() won't finish\n",
    "        if num is SENTINEL:\n",
    "            break\n",
    "        print(\"Got number {}\".format(num))\n",
    "    \n",
    "#We create one single queue\n",
    "q = Queue()\n",
    "#We create multiple threads with access to the queue\n",
    "cns = threading.Thread(target=consumer, args=(q, )) #consumer does not need to know the end of the sequence; when Sentinel is met-> break \n",
    "prd1 = threading.Thread(target=producer, args=(q, 5)) #thi sis the input so we need to know where the of the seq is = 5\n",
    "\n",
    "\n",
    "#We start the two threads\n",
    "cns.start()\n",
    "prd1.start()\n",
    "\n",
    "\n",
    "#When all the the numbers from the queue have been processed\n",
    "q.join() #!!! we write this without q.start() - this means that we took all the nums out\n",
    "cns.join()\n",
    "prd1.join()\n",
    "print('Done')"
   ]
  },
  {
   "cell_type": "markdown",
   "metadata": {},
   "source": [
    "# FA-11:\n",
    "\n",
    "Modify the example of *greet_once* by creating a new function *greet_once_queue* such that it uses a Queue instead of a global variable. "
   ]
  },
  {
   "cell_type": "code",
   "execution_count": 5,
   "metadata": {},
   "outputs": [
    {
     "name": "stdout",
     "output_type": "stream",
     "text": [
      "Hi\n",
      "other stuff that this function does\n",
      "other stuff that this function does\n",
      "other stuff that this function does\n",
      "other stuff that this function does\n",
      "other stuff that this function does\n",
      "other stuff that this function does\n",
      "other stuff that this function does\n",
      "other stuff that this function does\n",
      "other stuff that this function does\n",
      "other stuff that this function does\n"
     ]
    }
   ],
   "source": [
    "###### FA - 11 ###############\n",
    "import threading, time\n",
    "from queue import Queue \n",
    "\n",
    "#because we use queue and we dont have lock but only if statement, only the 1st thread can take the 'Hi' and even if the 2nd thread is fast and it comes right after the 1st thread - it can still not take the 'Hi', so 'Hi' is taken once only\n",
    "greeting_queue = Queue()\n",
    "greeting_queue.put('Hi')\n",
    "\n",
    "def greet_once_queue(greeting_queue):  \n",
    "    try:\n",
    "        greeting = greeting_queue.get_nowait() # When First thread comes, it will get the Hi from queue and now queue is empty. all the other thread will not be able to get anything out of the queue so printing Hi only once\n",
    "    except:\n",
    "        greeting = ''\n",
    "\n",
    "   \n",
    "    if greeting:  # it was printing empty spaces in greeting that's why I put a barrier of: if there is a greeting then print it otherwise no.\n",
    "        print(greeting)\n",
    "    # time.sleep(2)\n",
    "    print('other stuff that this function does') \n",
    "\n",
    "threads = [] \n",
    "\n",
    "for _ in range(10): \n",
    "    threads.append(threading.Thread(target = greet_once_queue,args=(greeting_queue,)))\n",
    "\n",
    "for t in threads:\n",
    "    t.start() \n",
    "\n",
    "\n",
    "for t in threads:\n",
    "    t.join() \n",
    "\n",
    "############################"
   ]
  },
  {
   "cell_type": "markdown",
   "metadata": {},
   "source": [
    "#### FA-12:\n",
    "In 'greet_once_queue', after greeting once, enqueue (i.e., add) a short confirmation message \n",
    "like \"Greeting complete!\" to a 'messages' queue. \n",
    "Then in the main thread, read from 'messages' and print them all.\n",
    "\n",
    "Expected outcome:\n",
    "- We see exactly one \"Hi\" from greet, plus \"Greeting complete!\" \n",
    "  in the main thread after greet finishes."
   ]
  },
  {
   "cell_type": "code",
   "execution_count": 6,
   "metadata": {},
   "outputs": [
    {
     "name": "stdout",
     "output_type": "stream",
     "text": [
      "other stuff that this function does\n",
      "other stuff that this function does\n",
      "other stuff that this function does\n",
      "other stuff that this function does\n",
      "other stuff that this function does\n",
      "other stuff that this function does\n",
      "other stuff that this function does\n",
      "other stuff that this function does\n",
      "other stuff that this function does\n",
      "other stuff that this function does\n",
      "other stuff that this function does\n",
      "From greet: Hi\n",
      "From greet: Greeting complete!\n"
     ]
    }
   ],
   "source": [
    "## Your solution goes here: ## \n",
    "\n",
    "## FA-12: \n",
    "'''\n",
    "#this is the solution that you expect: when we use two queues and we don't use global variable -> but this gives us a wrong answer because the queues overlap\n",
    "import threading, time\n",
    "from queue import Queue \n",
    "\n",
    "greeting_queue = Queue()\n",
    "greeting_queue.put('Hi')\n",
    "\n",
    "def greet_once_queue(q_messages): \n",
    "    try:\n",
    "        greeting = greeting_queue.get_nowait() \n",
    "        print(greeting)\n",
    "    except:\n",
    "        greeting = ''\n",
    "    if greeting:  \n",
    "        q_messages.put(greeting)\n",
    "        q_messages.put(\"Greeting complete!\")\n",
    "        \n",
    "    # time.sleep(2)\n",
    "    # print('other stuff that this function does') \n",
    "\n",
    "threads = [] \n",
    "\n",
    "for _ in range(10): \n",
    "    threads.append(threading.Thread(target = greet_once_queue,args=((greeting_queue,))))\n",
    "\n",
    "for t in threads:\n",
    "    t.start() \n",
    "\n",
    "for t in threads:\n",
    "    t.join() \n",
    "############################\n",
    "# Example usage:\n",
    "q_messages = Queue()\n",
    "greet_once_queue(q_messages)\n",
    "while not q_messages.empty():\n",
    "    print(\"From greet:\", q_messages.get())\n",
    "\n",
    "output:\n",
    "\n",
    "Hi\n",
    "Hi\n",
    "Greeting complete!\n",
    "Hi\n",
    "Greeting complete!\n",
    "Greeting complete!\n",
    "Greeting complete!\n",
    "Hi\n",
    "Greeting complete!\n",
    "Greeting complete!\n",
    "Greeting complete!\n",
    "From greet: Greeting complete!\n",
    "From greet: Greeting complete!\n",
    "'''\n",
    "#This solution below is the solution when we use 1 queue and we use global variable which seems to be more correct because it gives the expected output\n",
    "\n",
    "#enqueue (i.e., add) = adding sth to the que\n",
    "#dequeue = delete \n",
    "\n",
    "import threading, time\n",
    "from queue import Queue \n",
    "\n",
    "greeting  = \"Hi\"\n",
    "\n",
    "\n",
    "def greet_once_queue(q_messages):  \n",
    "    global greeting\n",
    "    if greeting: \n",
    "        q_messages.put(greeting)\n",
    "        q_messages.put(\"Greeting complete!\")\n",
    "    else:\n",
    "        greeting = \"\"\n",
    "    # time.sleep(2)\n",
    "    print('other stuff that this function does') \n",
    "\n",
    "threads = [] \n",
    "\n",
    "for _ in range(10): \n",
    "    threads.append(threading.Thread(target = greet_once_queue,args=(greeting_queue,)))\n",
    "\n",
    "for t in threads:\n",
    "    t.start() \n",
    "\n",
    "\n",
    "for t in threads:\n",
    "    t.join() \n",
    "    \n",
    "q_messages = Queue()\n",
    "greet_once_queue(q_messages)\n",
    "while not q_messages.empty():\n",
    "    print(\"From greet:\", q_messages.get())\n",
    "##############################\n",
    "\n",
    "# Example usage:\n",
    "# q_messages = Queue()\n",
    "# greet_once_queue(q_messages)\n",
    "# while not q_messages.empty():\n",
    "#     print(\"From greet:\", q_messages.get())"
   ]
  },
  {
   "cell_type": "markdown",
   "metadata": {},
   "source": [
    "#### FA-13:\n",
    "Spawn multiple threads that each call greet_once_queue. \n",
    "Give each thread a different greeting string via a queue.\n",
    "\n",
    "1) Each thread pulls its greeting from a 'greeting_queue' \n",
    "2) The main thread enqueues multiple greetings, e.g. \"Hello\", \"Hi\", \"Hey\" \n",
    "3) Observe the single-greeting behavior in parallel threads.\n",
    "\n",
    "Expected outcome:\n",
    "- Each thread greets exactly once, producing messages in random interleaving."
   ]
  },
  {
   "cell_type": "code",
   "execution_count": 23,
   "metadata": {},
   "outputs": [
    {
     "name": "stdout",
     "output_type": "stream",
     "text": [
      "Thread Thread-123 says Hello\n",
      "Thread Thread-124 says Hi\n",
      "Thread Thread-125 says Hey\n",
      "other stuff that this function doesother stuff that this function does\n",
      "other stuff that this function does\n",
      "\n"
     ]
    }
   ],
   "source": [
    "## Your solution goes here: ##\n",
    "## FA-13:\n",
    "import threading, time\n",
    "from queue import Queue \n",
    "\n",
    "\n",
    "def greet_once_queue(greeting_q):  \n",
    "    if not greeting_q.empty(): #this step is needed when we have more threads than the greetings; but in our case, it is okay without this step too\n",
    "        greeting = greeting_q.get() #once we get one greeting out, the list forgets it just like in generators\n",
    "        greeting_q.task_done()\n",
    "        print(f\"Thread {threading.current_thread().name} says {greeting}\")\n",
    "    # else:\n",
    "        # greeting = \"\"\n",
    "    time.sleep(2)\n",
    "    print('other stuff that this function does') \n",
    "\n",
    "# Example usage:\n",
    "greeting_q = Queue()\n",
    "for g_str in [\"Hello\", \"Hi\", \"Hey\"]:\n",
    "    greeting_q.put(g_str)\n",
    "\n",
    "\n",
    "threads = [] \n",
    "for _ in range(3): #  there were 3 greetings [\"Hello\", \"Hi\", \"Hey\"]. And we can't get the length dynamically since they were not stored into a variable\n",
    "    t = threading.Thread(target=greet_once_queue, args=(greeting_q,))\n",
    "    threads.append(t)\n",
    "    t.start() #this we can do with a for loop too; the difference is that if we have for loop, then 1st the 3 threads will be created then started parallel\n",
    "    #now we create one thread and start it, after we create the 2nd and we start it etc \n",
    "        \n",
    "for thread in threads:\n",
    "    thread.join()\n",
    "##############################"
   ]
  },
  {
   "cell_type": "markdown",
   "metadata": {},
   "source": [
    "---\n",
    "## Threading implementation of the Pot of Sweets"
   ]
  },
  {
   "cell_type": "markdown",
   "metadata": {},
   "source": [
    "Now we are ready to implement a threading version of the Pot of Sweets. The queues are used here to communicate between the main process and the thread."
   ]
  },
  {
   "cell_type": "code",
   "execution_count": 24,
   "metadata": {},
   "outputs": [
    {
     "name": "stdout",
     "output_type": "stream",
     "text": [
      "added a sweet\n",
      "\n",
      "added a sweet\n",
      "\n",
      "added a sweet\n",
      "\n",
      "added a sweet\n",
      "\n",
      "added a sweet\n",
      "\n"
     ]
    },
    {
     "name": "stdin",
     "output_type": "stream",
     "text": [
      "Insert switch position: on\n"
     ]
    },
    {
     "name": "stdout",
     "output_type": "stream",
     "text": [
      "added a sweet\n",
      "\n",
      "added a sweet\n",
      "\n",
      "added a sweet\n",
      "\n"
     ]
    },
    {
     "name": "stdin",
     "output_type": "stream",
     "text": [
      "Insert switch position: off\n",
      "Insert switch position: on\n"
     ]
    },
    {
     "name": "stdout",
     "output_type": "stream",
     "text": [
      "added a sweet\n",
      "\n",
      "added a sweet\n",
      "\n",
      "added a sweet\n",
      "\n"
     ]
    },
    {
     "name": "stdin",
     "output_type": "stream",
     "text": [
      "Insert switch position: stop\n"
     ]
    },
    {
     "name": "stdout",
     "output_type": "stream",
     "text": [
      "Stopping addSweet.\n",
      "\n",
      "Done!\n",
      "\n",
      "Total amount of sweets:  11\n",
      "Program done.\n"
     ]
    }
   ],
   "source": [
    "import time, threading, queue\n",
    "from pcinput import getString\n",
    "\n",
    "\n",
    "def addSweet(q,s):\n",
    "    switch = True\n",
    "    potOfSweets = 0\n",
    "    while True:\n",
    "        time.sleep(1)\n",
    "        if not(s.empty()): #s is supposted to carry the signals from the user and if there is no signal word like 'stop', a new row 'added a sweet' will be printed\n",
    "            sig = s.get()\n",
    "            s.task_done()\n",
    "            if sig == \"on\": #on continue printing sweets\n",
    "                switch = True\n",
    "            if sig == \"off\": #off stop printing sweets but the thread is still alive\n",
    "                switch = False\n",
    "            if sig == \"stop\": #this stops the thread and makes it not alive\n",
    "                print(\"Stopping addSweet.\\n\")\n",
    "                q.put(potOfSweets) #put the pile of sweets in the queue\n",
    "                break\n",
    "        if switch:\n",
    "            print(\"added a sweet\\n\")\n",
    "            q.put(1)\n",
    "            \n",
    "    print(\"Done!\\n\")\n",
    "    \n",
    "    return\n",
    "    \n",
    "# ---\n",
    "\n",
    "#START POINT\n",
    "#We start with the switch on\n",
    "switch = True \n",
    "\n",
    "#We create two queues, to be used by addSweet\n",
    "q = queue.Queue() #this queue will handle the amount of sweets in the pot\n",
    "s = queue.Queue() #this queue will handle the control signals\n",
    "\n",
    "#We create a thread for addSweet, with the queues as arguments\n",
    "t = threading.Thread(target = addSweet, args = (q,s))\n",
    "\n",
    "#Start the thread\n",
    "t.start()\n",
    "\n",
    "    \n",
    "# This won't stop until the user sends a stop signal!\n",
    "signal='on'\n",
    "while signal != 'stop': #we have two stops this is the 1st\n",
    "    if not t.is_alive():# this is the 2nd #when the thread is done, break\n",
    "        break \n",
    "    \n",
    "    #Prompt the user, asking what position the switch should have, and collect user's input in signal\n",
    "    signal = getString(\"Insert switch position:\")\n",
    "    \n",
    "    #Put user input in s queue\n",
    "    s.put(signal) \n",
    "    \n",
    "    \n",
    "#Wait for signal cue to be fully processed\n",
    "s.join()\n",
    "#Wait for thread to end\n",
    "t.join() \n",
    "    \n",
    "#Count sweets in queue\n",
    "total=0 #when the thread is ready, we come here and count how many things we have in the queue and we print the count at the end\n",
    "while not q.empty():\n",
    "    potOfSweets = q.get() #refresh the amount of sweets on the pile one last time.\n",
    "    q.task_done()\n",
    "    total+=potOfSweets\n",
    "\n",
    "print(\"Total amount of sweets: \", total) #print the amount of sweets in the pile\n",
    "\n",
    "#Wait for queue to be fully processed\n",
    "q.join()\n",
    "\n",
    "print('Program done.')\n",
    "\n"
   ]
  },
  {
   "cell_type": "markdown",
   "metadata": {},
   "source": [
    "---\n",
    "## Multiprocessing\n",
    "\n",
    "Python provides the <code>multiprocessing</code> library to implement multiprocessing: https://docs.python.org/3/library/multiprocessing.html\n",
    "\n",
    "\n",
    "Before we start, a note of caution. Since multiprocessing will create independent processes (which will be visible to your operating system), it is more sensible to compatibility issues. In this course, some students have experienced problems when using multiprocessing with Jupyter Notebooks on Windows. If you experience that, you may try one of these solutions:\n",
    "\n",
    "* run this notebook from Jupyter Labs: https://jupyterlab.uvt.nl\n",
    "\n",
    "* copy your code in a .py file and run it from a Python interpreter (e.g. with conda, with an IDE such as Pycharm or Spyder, or simply from your command line)\n",
    "\n",
    "FYI, there exists a 3rd-party library called <code>multiprocess</code> which can be used as an alternative to multiprocessing, but we won't use it in this course. \n"
   ]
  },
  {
   "cell_type": "markdown",
   "metadata": {},
   "source": [
    "The creation of processes with the multiprocessing library is very similar to threading. This is the same example we used to introduce threading, but substituting the constructor from *threading.Thread* to *multiprocessing.Process*:"
   ]
  },
  {
   "cell_type": "code",
   "execution_count": 7,
   "metadata": {},
   "outputs": [
    {
     "name": "stdout",
     "output_type": "stream",
     "text": [
      "We can run other instructions while the process is alive\n",
      "The process keept running while the main program was sleeping\n",
      "end\n"
     ]
    }
   ],
   "source": [
    "import multiprocessing\n",
    "import time\n",
    "#one process has multiple threads; different processes can run in parallel too\n",
    "#  P1          P2      everything runs parallel\n",
    "#t t t t     t t t t   everything runs parallel\n",
    "def sayMessage(message, reps): \n",
    "    for _ in range(reps):\n",
    "        print(message)\n",
    "        time.sleep(1)\n",
    "\n",
    "    \n",
    "#We create a process to run our function\n",
    "p1 = multiprocessing.Process(target = sayMessage, \n",
    "                      args = (\"Hello, world!\", 10)) \n",
    "\n",
    "#start the process\n",
    "p1.start() \n",
    "\n",
    "print('We can run other instructions while the process is alive')\n",
    "\n",
    "\n",
    "time.sleep(2) #pause the main program\n",
    "\n",
    "\n",
    "print('The process keept running while the main program was sleeping')\n",
    "\n",
    "#wait until the process ends\n",
    "p1.join() \n",
    "\n",
    "#the following instruction is only printed after p1 has finished\n",
    "print('end')"
   ]
  },
  {
   "cell_type": "markdown",
   "metadata": {},
   "source": [
    "### FA-14:\n",
    "\n",
    "Create a class implementation of a process called *myProcess*, which inherits from *multiprocessing.Process*. This class should run a function that computes the square root of a number and prints it. Call it as shown below.\n",
    "\n",
    "**Hint**: for this exercise, it is useful to look back at the example of a class implementation of a thread."
   ]
  },
  {
   "cell_type": "code",
   "execution_count": 9,
   "metadata": {},
   "outputs": [
    {
     "name": "stdout",
     "output_type": "stream",
     "text": [
      "start\n"
     ]
    },
    {
     "name": "stdin",
     "output_type": "stream",
     "text": [
      "Insert a number: 4\n",
      "Insert a number: 3\n",
      "Insert a number: 6\n",
      "Insert a number: 4\n",
      "Insert a number: 3\n",
      "Insert a number: 2\n",
      "Insert a number: stop\n"
     ]
    },
    {
     "name": "stdout",
     "output_type": "stream",
     "text": [
      "done\n"
     ]
    }
   ],
   "source": [
    "from math import sqrt #function to compute the square root\n",
    "from pcinput import getString\n",
    "\n",
    "\n",
    "###### FA-14 ###############################################\n",
    "\n",
    "class myProcess(multiprocessing.Process):\n",
    "    def __init__(self, number): \n",
    "        multiprocessing.Process.__init__(self) \n",
    "        self.number = number\n",
    "    def run(self):\n",
    "        result = (self.number)**(1/2)\n",
    "        print(\"The square root of\",self.number,\"is:\",result)\n",
    "#when I run this cell in https://jupyterlab.uvt.nl this is the output but if I here the cell, the output is not what we expect\n",
    "# start\n",
    "# Insert a number: 4\n",
    "# The square root of 4 is: 2.0\n",
    "# Insert a number: 6\n",
    "# The square root of 6 is: 2.449489742783178\n",
    "# Insert a number: 25\n",
    "# The square root of 25 is: 5.0\n",
    "# Insert a number: stop\n",
    "# done\n",
    "\n",
    "\n",
    "#when I run the cell from the local environment the output is:\n",
    "# start\n",
    "# Insert a number: 4\n",
    "# Insert a number: 6\n",
    "# Insert a number: 25\n",
    "# Insert a number: stop\n",
    "# done\n",
    "###########################################################\n",
    "\n",
    "print('start')\n",
    "pool = []\n",
    "while True:\n",
    "    n = getString(\"Insert a number:\")\n",
    "    if n == 'stop':\n",
    "        break\n",
    "    p=myProcess(int(n))\n",
    "    p.start() #This time we start the process right away, so that we can keep prompting the user\n",
    "    pool.append(p)\n",
    "\n",
    "    \n",
    "for p in pool:\n",
    "    p.join()\n",
    "\n",
    "print('done')\n"
   ]
  },
  {
   "cell_type": "markdown",
   "metadata": {},
   "source": [
    "#### FA-15:\n",
    "Create a Process-based variant of 'sayMessage'. \n",
    "Call it 'SayProcess' that inherits from multiprocessing.Process \n",
    "and prints a message a specified number of times, \n",
    "sleeping 0.5s after each print.\n",
    "\n",
    "Expected outcome:\n",
    "- Running multiple SayProcess objects leads to interleaved or parallel prints \n",
    "  (depending on your CPU cores)."
   ]
  },
  {
   "cell_type": "code",
   "execution_count": 4,
   "metadata": {},
   "outputs": [],
   "source": [
    "## Your solution goes here: ##\n",
    "## FA-15:\n",
    "import multiprocessing\n",
    "import time\n",
    "class SayProcess(multiprocessing.Process):\n",
    "    def __init__(self, message, times): \n",
    "        multiprocessing.Process.__init__(self) \n",
    "        self.message = message\n",
    "        self.times=times\n",
    "\n",
    "    def run(self):\n",
    "        for _ in range(self.times):\n",
    "            print(self.message)\n",
    "            time.sleep(0.5)\n",
    "\n",
    "#this is the output I get when I run the code in  https://jupyterlab.uvt.nl\n",
    "\n",
    "# Greetings from p1Salutations from p2\n",
    "\n",
    "# Salutations from p2Greetings from p1\n",
    "\n",
    "# Greetings from p1\n",
    "##############################\n",
    "\n",
    "# Example usage:\n",
    "p1 = SayProcess(\"Greetings from p1\", 3)\n",
    "p2 = SayProcess(\"Salutations from p2\", 2)\n",
    "p1.start(); p2.start()\n",
    "p1.join(); p2.join()"
   ]
  },
  {
   "cell_type": "markdown",
   "metadata": {},
   "source": [
    "#### FA-16:\n",
    "Now adapt 'myProcess' from FA-14 to store the result (the square root) \n",
    "in a multiprocessing.Queue instead of directly printing it. \n",
    "In the main process, gather the results from the queue after all processes finish.\n",
    "\n",
    "Expected outcome:\n",
    "- The main process prints a summary like \"Roots: [1.4142, 3.1622, 5.0000, ...]\""
   ]
  },
  {
   "cell_type": "code",
   "execution_count": 6,
   "metadata": {},
   "outputs": [],
   "source": [
    "## Your solution goes here: ##\n",
    "## FA-16:\n",
    "#The code loads infinitely here, but when I run it in https://jupyterlab.uvt.nl, it is different\n",
    "# import multiprocessing\n",
    "# class myProcess(multiprocessing.Process):\n",
    "#     def __init__(self, number,q): \n",
    "#         multiprocessing.Process.__init__(self) \n",
    "#         self.number = number\n",
    "#         self.q=q\n",
    "#     def run(self):\n",
    "#         result = (self.number)**(1/2)\n",
    "#         self.q.put(result)\n",
    "        \n",
    "#This is the output I get when I run the code in  https://jupyterlab.uvt.nl\n",
    "# 5.0\n",
    "##############################\n",
    "\n",
    "# Example usage:\n",
    "# q_results = multiprocessing.Queue()\n",
    "# p = myProcess(25, q_results)\n",
    "# p.start()\n",
    "# p.join()\n",
    "# root = q_results.get() #because we dont have multiple things in the queue but only one, we dont need task_done()\n",
    "# print(root)  # => 5.0"
   ]
  },
  {
   "cell_type": "markdown",
   "metadata": {},
   "source": [
    "---\n",
    "## Communication between processes"
   ]
  },
  {
   "cell_type": "markdown",
   "metadata": {},
   "source": [
    "We have introduced a Queue as a method for communication between Threads. However, you may have noticed that the shared Queue was accessible to multiple Threads because it was in their memory scope, as Threads share the memory of the process that created them.\n",
    "\n",
    "That's not the case for Processes. When you create a process, they get a **copy** of the memory of their parent. \n",
    "\n",
    "### FA-17:\n",
    "\n",
    "Below is an adaptation of the code for producer-consumer, in which we use Threads instead of Processes. Run it and see what happens (you may want to stop the cell using the Stop button after a while). Why is this happening? Where is the code stuck?"
   ]
  },
  {
   "cell_type": "code",
   "execution_count": 7,
   "metadata": {},
   "outputs": [],
   "source": [
    "# import multiprocessing\n",
    "# from queue import Queue\n",
    "\n",
    "# SENTINEL = object() #this is an empty object, used just as a signal\n",
    "\n",
    "# def producer(q, n): #this function produces Fibonacci numbers\n",
    "#     a, b = 0, 1\n",
    "#     while a <= n:\n",
    "#         q.put(a) #we add next fib number in the queue to the queue\n",
    "#         a, b = b, a + b \n",
    "#     q.put(SENTINEL)\n",
    "    \n",
    "# def consumer(q):\n",
    "#     while True:\n",
    "#         num = q.get()  #read from the queue\n",
    "#         q.task_done()  #every time we read from a queue with get, we should\n",
    "#                        #signal a task_done\n",
    "#                        #otherwise the element is blocked and .join() won't finish\n",
    "#         if num is SENTINEL:\n",
    "#             break\n",
    "#         print(f'Got number {num}')\n",
    "    \n",
    "# #We create one single queue\n",
    "# q = Queue()\n",
    "\n",
    "# #Each process gets a copy of the queue\n",
    "# cns = multiprocessing.Process(target=consumer, args=(q, ))\n",
    "# prd1 = multiprocessing.Process(target=producer, args=(q, 5))\n",
    "# prd2 = multiprocessing.Process(target=producer, args=(q, 10))\n",
    "\n",
    "\n",
    "# cns.start()\n",
    "# prd1.start()\n",
    "# prd2.start()\n",
    "\n",
    "\n",
    "# #When all the the numbers from the queue have been processed...:\n",
    "# q.join()\n",
    "# cns.join()\n",
    "# prd1.join()\n",
    "# prd2.join()\n",
    "# print('Done')\n",
    "\n",
    "#### FA-17 #############################\n",
    "\n",
    "\n",
    "fa17_answer = \"\"\"\n",
    "This code gives an error or runs forever because the producer produces something, and the consumer does not have access to the producer queue.\n",
    "Since each process has its own copy of the queue and the queues are not shared between the processes.\n",
    "The code is stuck where the consumer is trying to get the things out of the queue, but does not find anything/Sentinel in the Queue to break the while loop, and it's running infinitely.\n",
    "\"\"\"\n",
    "\n",
    "\n",
    "######################################"
   ]
  },
  {
   "cell_type": "markdown",
   "metadata": {},
   "source": [
    "#### FA-18:\n",
    "Rewrite the example with producer/consumer from the 'Threads' version \n",
    "into a 'multiprocessing' version using 'multiprocessing.Queue'. \n",
    "Produce Fibonacci numbers up to 20 in one process, consume in another. \n",
    "Explain in a comment why it now won't get stuck.\n",
    "\n",
    "Expected outcome:\n",
    "- We see Fibonacci numbers up to 20 displayed, then 'Done'."
   ]
  },
  {
   "cell_type": "code",
   "execution_count": 8,
   "metadata": {},
   "outputs": [
    {
     "name": "stdout",
     "output_type": "stream",
     "text": [
      "Done\n"
     ]
    }
   ],
   "source": [
    "## Your solution goes here: ##\n",
    "## FA-18:\n",
    "\n",
    "import multiprocessing\n",
    "  \n",
    "\n",
    "SENTINEL = object()\n",
    "          \n",
    "def producer(q, n):\n",
    "    a, b = 0, 1\n",
    "    while a <= n:\n",
    "        q.put(a)   \n",
    "        a, b = b, a + b \n",
    "    q.put(SENTINEL)\n",
    "    \n",
    "def consumer(q):\n",
    "    while True:\n",
    "        num = q.get()   \n",
    "        if num is SENTINEL:\n",
    "            break\n",
    "        print(\"Got number {}\".format(num))\n",
    "\n",
    "if __name__ == '__main__':\n",
    "    q =  multiprocessing.Queue()\n",
    "    cns = multiprocessing.Process(target=consumer, args=(q,))\n",
    "    prd1 = multiprocessing.Process(target=producer, args=(q, 20))\n",
    "    \n",
    "    cns.start()\n",
    "    prd1.start()\n",
    "    \n",
    "    cns.join()\n",
    "    prd1.join()\n",
    "    print('Done')\n",
    "\n",
    "#this is the output I get when I run the code in  https://jupyterlab.uvt.nl    \n",
    "# Got number 0\n",
    "# Got number 1\n",
    "# Got number 1\n",
    "# Got number 2\n",
    "# Got number 3\n",
    "# Got number 5\n",
    "# Got number 8\n",
    "# Got number 13\n",
    "# Got number <object object at 0x7f53d4617690>    \n",
    "##############################\n",
    "\n",
    "# Example usage:\n",
    "# cns = multiprocessing.Process(target=consumer, args=(mp_queue,))\n",
    "# ..."
   ]
  },
  {
   "cell_type": "markdown",
   "metadata": {},
   "source": [
    "#### FA-19:\n",
    "Compare 'queue.Queue' vs. 'multiprocessing.Queue'. \n",
    "Why does the latter avoid the freeze issue we saw earlier?\n"
   ]
  },
  {
   "cell_type": "code",
   "execution_count": 2,
   "metadata": {},
   "outputs": [],
   "source": [
    "## Your solution goes here: ##\n",
    "## FA-19:\n",
    "\n",
    "fa19_answer = \"\"\"\n",
    "Because queue.Queue is not shared between the processes, but multiprocessing. Queue is shared between the processes.\n",
    "\"\"\"\n",
    "\n",
    "##############################"
   ]
  },
  {
   "cell_type": "markdown",
   "metadata": {},
   "source": [
    "As you have seen in the book chapter of this module, we need to use a different Queue, which is imported from the multiprocessing library. Note that this type of queue doesn't use a *task_done* method; for the rest, the interface is very similar to the Queue that you can import from the *queue* library. But behind the curtains, multiprocessing.Queue does an additional task: it takes care of transferring the contents of the Queue every time they change, so that each process can see the updated content in their portion of memory. Interestingly, for this to work smoothly, multiprocessing.Queue creates a special thread that takes care of the memory transfer :)"
   ]
  },
  {
   "cell_type": "code",
   "execution_count": 9,
   "metadata": {},
   "outputs": [
    {
     "name": "stdout",
     "output_type": "stream",
     "text": [
      "end\n"
     ]
    }
   ],
   "source": [
    "#Source: comm_queue_proc.py\n",
    "\n",
    "import multiprocessing\n",
    "\n",
    "SENTINEL = 'STOP'\n",
    "\n",
    "def producer(q, n):\n",
    "    a, b = 0, 1\n",
    "    while a <= n:\n",
    "        q.put(a)\n",
    "        a, b = b, a + b\n",
    "    q.put(SENTINEL)\n",
    "    \n",
    "def consumer(q):\n",
    "    while True:\n",
    "        num = q.get()\n",
    "        if num == SENTINEL:\n",
    "            break\n",
    "        print(f'Got number {num}')\n",
    "        \n",
    "q = multiprocessing.Queue()\n",
    "cns = multiprocessing.Process(target=consumer, args=(q, ))\n",
    "prd = multiprocessing.Process(target=producer, args=(q, 35))\n",
    "\n",
    "cns.start()\n",
    "prd.start()\n",
    "\n",
    "cns.join()\n",
    "prd.join()\n",
    "\n",
    "print('end')"
   ]
  },
  {
   "cell_type": "markdown",
   "metadata": {},
   "source": [
    "## FA-20:\n",
    "\n",
    "In this final formative assignment, you may use any of the techniques explained to you above to build your program (for instance, you can choose whether you want to use the class implementation version or not). \n",
    "\n",
    "The idea is to create a variant of the square root program you have created in FA-6. In this variant, instead of printing the square root right away, we want the program to print only in batches of 5, *i.e.*, the program should not print until there are at least 5 computed squared roots. The program needs to be constantly responsive to the user, *i.e.*, it should prompt for the next number for which the user wants a square root. The program only stops once the user inputs 'stop' (as in FA-14). \n",
    "\n",
    "\n",
    "Before writing this program, answer the following questions:\n",
    "\n",
    "1. Which functionality should be parallelized?\n",
    "\n",
    "2. Is it better to use threads or processes for this application? In which situation would you prefer one over the other?\n",
    "\n",
    "2. How many different types of threads or processes will you need? What will be the main function of each one? And how many instances of the differnt types of processes do you expect to run at the same time?\n",
    "\n",
    "3. Do your threads or processes need to communicate? If so, which data structure will you use? \n"
   ]
  },
  {
   "cell_type": "code",
   "execution_count": null,
   "metadata": {},
   "outputs": [],
   "source": [
    "# FA-20 ##################################################\n",
    "\n",
    "#1.\n",
    "fa20_answer_1 = \"\"\"\n",
    "The calculation of sqrt root should be parallelized, so when the program asks the user to put a number again,\n",
    "the root can be calculated in the background while we are allowed to place another number without blocking.\n",
    "\"\"\"\n",
    "\n",
    "\n",
    "#2. \n",
    "fa20_answer_2 = \"\"\"\n",
    "Since the code is small and we calculate only the square root, it is better to use threads instead of processes because threads are lighter and we don't need to use processes. \n",
    "In the given case, it is also better to use Threads because the queue is shared because the queue makes it easier to batch the results via shared memory. \n",
    "If we the multiprocessing to share memory, then we need to use multiprocessing.Queue.\n",
    "We would prefer to use Process when the data we need to process is large, e.g., image processing.\n",
    "We would prefer to use Threads when the data is not that big.\n",
    "\"\"\"\n",
    "\n",
    "\n",
    "#3.\n",
    "fa20_answer_3 = \"\"\"\n",
    "We need two Processes:\n",
    "1. Main Process\n",
    "2. Side Process\n",
    "We need a main Process in which we keep asking the user, for example, numbers and sending them to the queue. \n",
    "And we need a side Process that consumes the numbers from the queue.\n",
    "I am expecting:\n",
    "1 main process for user input\n",
    "1 side process that computes the square root while the main process is prompting the user.\n",
    "\n",
    "\"\"\"\n",
    "\n",
    "\n",
    "#4.\n",
    "fa20_answer_4 = \"\"\"\n",
    "Yes, they need to communicate, and this happens through the shared queue. We store the results in a list data structure before printing.\n",
    "\"\"\"\n",
    "\n",
    "\n",
    "#Code:\n",
    "import threading\n",
    "import queue\n",
    "from math import sqrt\n",
    "\n",
    "inputq = queue.Queue()\n",
    "resultq = queue.Queue()\n",
    "\n",
    "SENTINEL = \"STOP\"\n",
    "\n",
    "def sqrt_func(inq, outq):\n",
    "    while True:\n",
    "        num = inq.get()\n",
    "        if num == SENTINEL:\n",
    "            break\n",
    "        result = sqrt(num)\n",
    "        outq.put(result)\n",
    "        inq.task_done()\n",
    "\n",
    "\n",
    "t = threading.Thread(target=sqrt_func, args=(inputq, resultq))\n",
    "t.start()\n",
    "\n",
    "batch = []\n",
    "\n",
    "while True:\n",
    "    user_input = input(\"Give number: \")\n",
    "    if user_input.lower() == \"stop\":\n",
    "        inputq.put(SENTINEL)\n",
    "        break\n",
    "    try:\n",
    "        number = float(user_input)\n",
    "        inputq.put(number)\n",
    "    except ValueError:\n",
    "        print(\"Enter valid number!\")\n",
    "\n",
    "    while not resultq.empty():\n",
    "        batch.append(resultq.get())\n",
    "        if len(batch) == 5:\n",
    "            print(\"Batch\", [round(x, 4) for x in batch])\n",
    "            batch.clear()\n",
    "\n",
    "\n",
    "inputq.join()\n",
    "t.join()\n",
    "\n",
    "if batch:\n",
    "    print(\"Remaining:\", [round(x, 4) for x in batch])\n",
    "\n",
    "print(\"Done.\")\n",
    "\n",
    "\n",
    "#this is the output:\n",
    "# Give number:  4\n",
    "# Give number:  5\n",
    "# Give number:  7\n",
    "# Give number:  3\n",
    "# Give number:  5\n",
    "# Give number:  3\n",
    "# Batch [2.0, 2.2361, 2.6458, 1.7321, 2.2361]\n",
    "# Give number:  stop\n",
    "###########################################################"
   ]
  },
  {
   "cell_type": "markdown",
   "metadata": {},
   "source": [
    "### Optional exercise\n",
    "\n",
    "For practising purposes, implement the program suggested in the exercise above with an alternative approach (*e.g.*, if you used Threads, try a version with Processes).\n",
    "\n",
    "You can use a timer to compare your solutions. Which one is faster? Would this change if instead of computing the squared root we ran a more costly operation?\n"
   ]
  },
  {
   "cell_type": "markdown",
   "metadata": {},
   "source": [
    "# References\n",
    "\n",
    "*  Martin Atzmueller (2019). Materials for Advanced Programming for CSAI: AP11 - Parallelism.ipynb.\n",
    "*  Forbes, E. (2017). Learning concurrency in python : speed up your python code with clean, readable, and advanced concurrency techniques. Packt Publishing. "
   ]
  }
 ],
 "metadata": {
  "kernelspec": {
   "display_name": "Python 3 (ipykernel)",
   "language": "python",
   "name": "python3"
  },
  "language_info": {
   "codemirror_mode": {
    "name": "ipython",
    "version": 3
   },
   "file_extension": ".py",
   "mimetype": "text/x-python",
   "name": "python",
   "nbconvert_exporter": "python",
   "pygments_lexer": "ipython3",
   "version": "3.9.7"
  }
 },
 "nbformat": 4,
 "nbformat_minor": 4
}
