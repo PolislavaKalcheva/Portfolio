{
 "cells": [
  {
   "cell_type": "markdown",
   "metadata": {},
   "source": [
    "# Module 3: Functional Programming III\n",
    "Course: Advanced Programming for CSAI (Spring 2025)"
   ]
  },
  {
   "cell_type": "markdown",
   "metadata": {},
   "source": [
    "Topics covered in this module:\n",
    "- Iterables, Iterators and Generators. \n",
    "- Lazy Computation. \n",
    "- Real-world examples of Functional Programming.\n",
    "\n",
    "You are advised to work on this notebook after, or in parallel to, consulting other materials of the module, such as the slide deck and book chapters. The notebook contains examples and exercises that should help you understand and apply the concepts introduced in the rest of materials. You may also use the official Python docs: https://docs.python.org/3/.\n",
    "\n",
    "Do not hesitate to be creative when trying out the examples: you can play with the code. You can try variants of the examples and exercises, print values of the variables to understand what is going on at every step, and come up with different solutions to the same exercise and think about relative advantages of each one.\n",
    "\n",
    "The notebook also contains formative assignments. These are indicated as FA-n, where n is a number id. As explained on the course guide, you have to submit these. Please submit your best effort (*i.e.*, FA-n questions with no answer will be considered incomplete), and **if your solution does not work or you think it is inadequate, add a comment explaining why you could not proceed further**.\n",
    "\n",
    "To submit the formative assignments, we ask you to upload the filled-in notebook. The notebook you upload should contain *at least* the formative assigments. It's not a problem if you upload the notebook with additional code, like the variants and tests mentioned above. However, to grade your assignments, we will only look at the answers to the requested exercises (those indicated with FA-n), so **make sure you store your answers in the corresponding variables and/or to name your functions as indicated**.\n",
    "\n",
    "Optional exercises are, as the name indicates, not mandatory for the formative assignments. These are exercises that suggest you to create an alternative approach, or which propose a longer problem that allows for the integration of earlier concepts in one solution; in general, they present scenarios where you can be more creative. To make the most of the course, it is best to try them out and share your solutions on the Discussion Board, so that your peers can comment on them. You are also encouraged to comment on the exercises of your fellow students. This will help you sharpen your evaluation skills, which is a great asset in programming, as in turn this will help you devise more robust, efficient and maintainable solutions. \n",
    "\n",
    "\n",
    "### /!\\ Before submitting your notebook\n",
    "\n",
    "Please check it can be ran without errors! You can check this by pressing kernel --> restart and run all before submitting. If it does not run without errors, it is your **responsibility** to fix the problem either by resolving the bug in your code or by commenting it out along with a comment.\n",
    "\n",
    "---"
   ]
  },
  {
   "cell_type": "markdown",
   "metadata": {},
   "source": [
    "## Iterables, Iterators and Generators"
   ]
  },
  {
   "cell_type": "markdown",
   "metadata": {},
   "source": [
    "As you know from the Knowledge Clips, iterable objects (such as, for example, lists) are containers of other objects (such as, for example, integers). Iterables always have an __iter__ method, which returns an iterator for the iterable."
   ]
  },
  {
   "cell_type": "code",
   "execution_count": 38,
   "metadata": {},
   "outputs": [
    {
     "name": "stdout",
     "output_type": "stream",
     "text": [
      "blue\n",
      "red\n",
      "yellow\n",
      "<list_iterator object at 0x0000014D24CE4BE0>\n",
      "<list_iterator object at 0x0000014D24CE4340>\n",
      "blue\n",
      "blue\n",
      "blue\n"
     ]
    }
   ],
   "source": [
    "# Lists are iterable objects:\n",
    "myList = ['blue', 'red', 'yellow']\n",
    "\n",
    "# We can use for..in.. expressions to iterate, or individually access, each contained objects in the list:\n",
    "for color in myList:\n",
    "    print(color)\n",
    "\n",
    "# Behind the curtains, for... in is calling iter(myList). \n",
    "# iter(myList) will call myList.__iter__()\n",
    "\n",
    "# What should these calls return? (uncomment to find the answer)\n",
    "print(iter(myList))\n",
    "print(myList.__iter__())\n",
    "\n",
    "\n",
    "#Notes:\n",
    "print(iter(myList).__next__()) # blue\n",
    "print(iter(myList).__next__()) # blue\n",
    "print(iter(myList).__next__()) # blue\n",
    "# print(myList.__iter__().__next__()) # blue\n",
    "# print(myList.__iter__().__next__()) # blue\n",
    "# print(myList.__iter__().__next__()) # blue\n",
    "\n",
    "x = myList.__iter__() #one way\n",
    "# print(next(x))  # blue\n",
    "# print(next(x))  # red\n",
    "# print(next(x))  # yellow\n",
    "\n",
    "#x = iter(myList) #2nd way\n",
    "# print(x.__next__())  # blue\n",
    "# print(x.__next__())  # red\n",
    "# print(x.__next__())  #  yellow \n",
    "\n",
    "#so iter(myList).__next__() == myList.__iter__().__next__()\n",
    "\n",
    "#the only difference is: \n",
    "#iter(x) checks if object x has an __iter__() method\n",
    "#__iter__() returns an iterator for the iterable"
   ]
  },
  {
   "cell_type": "code",
   "execution_count": 39,
   "metadata": {},
   "outputs": [
    {
     "name": "stdout",
     "output_type": "stream",
     "text": [
      "<map object at 0x0000014D24CE4400>\n"
     ]
    }
   ],
   "source": [
    "#Notes:\n",
    "nums = [1, 2, 3]\n",
    "iterator = map(lambda x: x * 2, nums) \n",
    "print(iterator)\n",
    "# print(iterator[0]) # its not an iterable so we cant call it like iterator[0]\n",
    "# print(next(iterator))  # 2\n",
    "# print(next(iterator)) "
   ]
  },
  {
   "cell_type": "code",
   "execution_count": 1,
   "metadata": {},
   "outputs": [
    {
     "name": "stdout",
     "output_type": "stream",
     "text": [
      "<enumerate object at 0x00000210E006A380>\n",
      "(0, 'M')\n",
      "(1, 'Ö')\n",
      "(2, 'R')\n"
     ]
    }
   ],
   "source": [
    "#Notes:\n",
    "nums = [\"M\", \"Ö\", \"R\"] # iterable\n",
    "en = enumerate(nums)   # iterator\n",
    "print(en)  # <enumerate object at 0x000002CE2FD48BC0>\n",
    "print(next(en)) # index and the actual value\n",
    "print(next(en))\n",
    "print(next(en))"
   ]
  },
  {
   "cell_type": "code",
   "execution_count": 41,
   "metadata": {},
   "outputs": [
    {
     "name": "stdout",
     "output_type": "stream",
     "text": [
      "2\n",
      "4\n",
      "6\n"
     ]
    }
   ],
   "source": [
    "#Notes:\n",
    "nums = [1, 2, 3,4,5,6]\n",
    "fil = filter(lambda x:x%2 ==0, nums)  # iterator\n",
    "# print(fil) # <filter object at 0x000002CE2FF85B50>\n",
    "print(next(fil))\n",
    "print(next(fil))\n",
    "print(next(fil))"
   ]
  },
  {
   "cell_type": "code",
   "execution_count": 42,
   "metadata": {},
   "outputs": [
    {
     "name": "stdout",
     "output_type": "stream",
     "text": [
      "('a', 45)\n",
      "('b', 89)\n",
      "('ç', 23)\n"
     ]
    }
   ],
   "source": [
    "#Notes:\n",
    "name = ['a','b','ç'] \n",
    "marks = [45,89,23]\n",
    "zi = zip(name,marks) # iterator\n",
    "# print(zi) # <zip object at 0x000002CE2FD1C740>\n",
    "print(next(zi))\n",
    "print(next(zi))\n",
    "print(next(zi))"
   ]
  },
  {
   "cell_type": "code",
   "execution_count": 43,
   "metadata": {},
   "outputs": [
    {
     "name": "stdout",
     "output_type": "stream",
     "text": [
      "range(6, 10)\n"
     ]
    }
   ],
   "source": [
    "#Notes:\n",
    "x =  range(6,10) # iterable\n",
    "print(x)\n",
    "# c = [6,7,8,9] # iterable (list)\n",
    "# print(c[0])\n",
    "# print(c[1])\n",
    "\n",
    "# print(x[0])\n",
    "# print(x[1])"
   ]
  },
  {
   "cell_type": "code",
   "execution_count": 44,
   "metadata": {},
   "outputs": [],
   "source": [
    "#Notes:\n",
    "# if there is iterator i have to call it with next() but\n",
    "# when there is iterable i have to call it with index []"
   ]
  },
  {
   "cell_type": "markdown",
   "metadata": {},
   "source": [
    "Let's see other iterable datatypes:"
   ]
  },
  {
   "cell_type": "code",
   "execution_count": 45,
   "metadata": {},
   "outputs": [
    {
     "name": "stdout",
     "output_type": "stream",
     "text": [
      "blue\n",
      "red\n",
      "yellow\n",
      "\n",
      "\n",
      "key: blue , value: #000099\n",
      "key: red , value: #ff0000\n",
      "key: yellow , value: #ffff00\n",
      "\n",
      "\n",
      "E n   u n   l u g a r   d e   l a   M a n c h a . . . \n",
      "\n",
      "1, 2, 3, 4, 5, \n",
      "\n"
     ]
    }
   ],
   "source": [
    "# Dictionaries are iterable:\n",
    "myDict = {'blue':'#000099', 'red':'#ff0000', 'yellow':'#ffff00'}\n",
    "\n",
    "for color in myDict: # We access only the labels when iterating like this\n",
    "    print(color)\n",
    "print('\\n')          # newline\n",
    "    \n",
    "for label, value in myDict.items(): # We need to call the method items() to iterate over keys and values\n",
    "    print(\"key:\", label, \", value:\", value)\n",
    "print('\\n')          # newline\n",
    "\n",
    "\n",
    "\n",
    "# Strings are also iterable:\n",
    "myString = 'En un lugar de la Mancha...'\n",
    "\n",
    "for letter in myString:\n",
    "    print(letter, end=' ')    # Print space instead of newline at the end \n",
    "print('\\n')          # newline\n",
    "\n",
    "\n",
    "# And so are sets:\n",
    "mySet = set((5,4,3,2,1))\n",
    "\n",
    "# Note that items are not accessed necessarily in insertion order!:\n",
    "for item in mySet:\n",
    "    print(item, end=', ') \n",
    "print('\\n')          # newline\n"
   ]
  },
  {
   "cell_type": "markdown",
   "metadata": {},
   "source": [
    "Let's check which of these types have an `__iter__` method:"
   ]
  },
  {
   "cell_type": "code",
   "execution_count": 46,
   "metadata": {},
   "outputs": [
    {
     "name": "stdout",
     "output_type": "stream",
     "text": [
      "Integer: False\n",
      "List: True\n",
      "Dict: True\n",
      "String: True\n",
      "1-character string: True\n",
      "Tuple: True\n",
      "List Comprehension: True\n",
      "Generator Expression: True\n",
      "Lambda function: False\n",
      "Function with return: False\n",
      "Function with yield: True\n"
     ]
    }
   ],
   "source": [
    "# All iterables have an __iter__() method:\n",
    "# We can check the methods of an object with dir()\n",
    "# Can you predict which of these will be True?\n",
    "\n",
    "print(\"Integer:\", \"__iter__\"               in dir(1)) #int is not iterable nor iterator\n",
    "print(\"List:\", \"__iter__\"                  in dir(myList))\n",
    "print(\"Dict:\", \"__iter__\"                  in dir(myDict))\n",
    "print(\"String:\", \"__iter__\"                in dir(myString))\n",
    "print(\"1-character string:\", \"__iter__\"    in dir('a'))\n",
    "print(\"Tuple:\", \"__iter__\"                 in dir((3,2,1)))\n",
    "print(\"List Comprehension:\", \"__iter__\"    in dir([x+1 for x in [1,2,3]]))\n",
    "print(\"Generator Expression:\", \"__iter__\"  in dir((x+1 for x in [1,2,3])))\n",
    "\n",
    "\n",
    "# Let's also check some functions:\n",
    "print(\"Lambda function:\", \"__iter__\"  in dir(lambda x:x)) #lambda is not iterable nor iterator\n",
    "\n",
    "def times5(n):\n",
    "    return n * 5\n",
    "\n",
    "print(\"Function with return:\", \"__iter__\"  in  dir(times5))\n",
    "\n",
    "\n",
    "def times5_gen():\n",
    "    start = 1\n",
    "    yield start * 5 #yield is like iterator but without being in a loop - next() can be used once\n",
    "    start += 1\n",
    "    \n",
    "\n",
    "print(\"Function with yield:\", \"__iter__\"  in  dir(times5_gen())) \n"
   ]
  },
  {
   "cell_type": "code",
   "execution_count": 48,
   "metadata": {},
   "outputs": [
    {
     "name": "stdout",
     "output_type": "stream",
     "text": [
      "5\n"
     ]
    }
   ],
   "source": [
    "def times5_gen():\n",
    "    start = 1\n",
    "    yield start * 5 # we dont have loop, then we can call next once only\n",
    "    start += 1\n",
    "    \n",
    "    \n",
    "x =  times5_gen()\n",
    "# print(x[0]) # error! not an iterable\n",
    "print(next(x)) # 5 --> iterator\n",
    "#print(next(x)) # error! because yield is called one time  but if yield is inside  loop then we can call next() so many times"
   ]
  },
  {
   "cell_type": "code",
   "execution_count": 49,
   "metadata": {},
   "outputs": [
    {
     "name": "stdout",
     "output_type": "stream",
     "text": [
      "5\n",
      "10\n",
      "15\n",
      "20\n"
     ]
    }
   ],
   "source": [
    "def times5_gen():\n",
    "    start = 1\n",
    "    while start < 5:\n",
    "        yield start * 5\n",
    "        start += 1\n",
    "    \n",
    "    \n",
    "x =  times5_gen()\n",
    "print(next(x)) # 5 --> iterator\n",
    "print(next(x)) # 10\n",
    "print(next(x)) # 15\n",
    "print(next(x)) # 25"
   ]
  },
  {
   "cell_type": "markdown",
   "metadata": {},
   "source": [
    "Recall that iterables are collections of items, while iterators are not collections: they are objects that store a state (normally, an index). When looping over an iterable, the iterator of that iterable will tell us which item of the collection is the next to be read.\n",
    "\n",
    "For example, imagine you have a list with 10 strings. Your list is an iterable, and therefore it has an `__iter__` method. We can print the contents of the list without using the `__iter__ `method; however, if we want to loop over the list (for example with a **for** loop), then Python will implicitly call the `__iter__` method to obtain an interator for the list. The iterator will keep track of which item should be read next by the **for** loop.  Therefore, the iterator will have a state, and a `__next__`method that will inform the **for** loop of which item in the list should be read in the current iteration.\n",
    "\n",
    "\n",
    "\n",
    "### FA-1:\n",
    "\n",
    "\n",
    "\n",
    "Which of the types above should also have a ``__ next __`` method? Why?\n",
    "\n",
    "You are welcome to check your answer empirically (i.e. adapting the code above), but you are not required to do so. "
   ]
  },
  {
   "cell_type": "code",
   "execution_count": 50,
   "metadata": {},
   "outputs": [],
   "source": [
    "## Add your answer here: ##############################\n",
    "\n",
    "fa1_answer = \"All iterators have next() and they are enumerate, map, filter, zip. We can make the iterable an interator with the function iter() as well. The reson why they have next is because they are iterators because next() function cannot be applied on iterables.\" \n",
    "\n",
    "#######################################################"
   ]
  },
  {
   "cell_type": "markdown",
   "metadata": {},
   "source": [
    "#### FA-2:\n",
    "\n",
    "Now that you know which objects have a `__next__` method, \n",
    "create a small function that obtains an iterator from myList (i.e., iter(myList)) \n",
    "and manually calls next(...) three times, storing the items in a list named `fa2_result` and print `fa2_result` at the end.\n",
    "\n"
   ]
  },
  {
   "cell_type": "code",
   "execution_count": 51,
   "metadata": {},
   "outputs": [
    {
     "name": "stdout",
     "output_type": "stream",
     "text": [
      "['blue', 'red', 'yellow']\n"
     ]
    }
   ],
   "source": [
    "## Your solution to FA-2 goes here:\n",
    "\n",
    "fa2_result = []\n",
    "myList=['blue','red','yellow']\n",
    "make_iterator = iter(myList) \n",
    "fa2_result.append(next(make_iterator))\n",
    "fa2_result.append(next(make_iterator))\n",
    "fa2_result.append(next(make_iterator))\n",
    "\n",
    "\n",
    "###########################\n",
    "\n",
    "print(fa2_result)   # => ['blue', 'red', 'yellow']  (depending on the content of myList)\n",
    "# - You should see the first three items of myList printed, e.g. ['blue', 'red', 'yellow'] \n",
    "# (if myList has at least 3 elements).\n"
   ]
  },
  {
   "cell_type": "markdown",
   "metadata": {},
   "source": [
    "As we know, `iter(x)` returns an iterator for an iterable `x`. We can check which additional methods the iterator of `x` provides (compared to `x`). We will do this for myList:"
   ]
  },
  {
   "cell_type": "code",
   "execution_count": 52,
   "metadata": {},
   "outputs": [
    {
     "name": "stdout",
     "output_type": "stream",
     "text": [
      "<class 'list_iterator'>\n",
      "<class 'list'>\n",
      "\n",
      "Methods in the iterator which are not in the iterable:\n",
      "{'__next__', '__setstate__', '__length_hint__'}\n",
      "\n",
      "Methods in the iterable which are not in the iterator:\n",
      "{'remove', 'pop', '__contains__', '__imul__', '__setitem__', '__len__', '__delitem__', 'insert', '__add__', '__rmul__', '__mul__', 'index', 'append', 'extend', '__getitem__', '__reversed__', 'reverse', 'clear', '__iadd__', 'copy', 'count', 'sort'}\n"
     ]
    }
   ],
   "source": [
    "# First we obtain an iterator for myList:\n",
    "myIterator = iter(myList) #it will return iterator\n",
    "print(type(myIterator))\n",
    "print(type(myList)) #this is iterable - only the list itself\n",
    "\n",
    "# We can retrieve the methods of each of these objects\n",
    "# (dir returns a list: we convert it to a set so that we can perform set operations later)\n",
    "methods_myIterator = set(dir(myIterator))\n",
    "methods_myList = set(dir(myList))\n",
    "print('')\n",
    "\n",
    "# Now we can see which methods are in myIterator but not in myList\n",
    "print(\"Methods in the iterator which are not in the iterable:\")\n",
    "print(methods_myIterator - methods_myList) \n",
    "print('')\n",
    "# Note that the iterator has __next__ !\n",
    "\n",
    "# We can also check which methods are in myList but not myIterator:\n",
    "print(\"Methods in the iterable which are not in the iterator:\")\n",
    "print(methods_myList - methods_myIterator)\n"
   ]
  },
  {
   "cell_type": "markdown",
   "metadata": {},
   "source": [
    "Note that the iterator provides us with the __ next __  method, which was not available in the iterable!\n",
    "\n",
    "Note also that the __ iter __ method is not listed above: this is a method that is common both to iterables and iterators (in the case of an iterator, __ iter __ returns self: this is just a language design feature that makes the implementation simpler behind the curtains).\n",
    "\n",
    "\n",
    "### FA-3: \n",
    "\n",
    "If you look at the methods listed above, you can see that the the iterable has a method `__ len __` . This is the method called when we do len(myList) to obtain the number of elements in the list. Note that this method is not available in the iterator: you can further verify that len(myIterator) raises a TypeError.\n",
    "\n",
    "Now look at the example below. The function **firstn** is a generator, as it uses **yield**. As you can see, the generator has an `__ iter __` method, and also a `__ next __` method: "
   ]
  },
  {
   "cell_type": "code",
   "execution_count": 53,
   "metadata": {},
   "outputs": [
    {
     "name": "stdout",
     "output_type": "stream",
     "text": [
      "Generator object: <generator object firstn at 0x0000014D24C9BF90>\n",
      "iter in generator: True\n",
      "next in generator: True\n",
      "False\n"
     ]
    }
   ],
   "source": [
    "# This function is a generator:\n",
    "def firstn(n):\n",
    "    num = 0\n",
    "    while num < n:\n",
    "        yield num\n",
    "        num += 1\n",
    "\n",
    "g = firstn(4)\n",
    "print(\"Generator object:\", g)\n",
    "print(\"iter in generator:\", hasattr(g, '__iter__')) #we have this in the iterable\n",
    "print(\"next in generator:\", hasattr(g, '__next__')) #we have this in the iterator\n",
    "print(hasattr(g, '__len__'))"
   ]
  },
  {
   "cell_type": "markdown",
   "metadata": {},
   "source": [
    "Given what you have seen above, and what you know of generators, try to deduce whether *g* should have a `__len__` method. (You can check your answer empirically using **hasattr**, but it would really help your study to try to deduce this beforehand: this would let you see if you understand what generators are). Provide an explanation of your answer:"
   ]
  },
  {
   "cell_type": "code",
   "execution_count": 54,
   "metadata": {},
   "outputs": [],
   "source": [
    "## Add your answer here: ##############################\n",
    "\n",
    "fa3_answer = \"print(hasattr(g, '__len__')) it gives False because we can run generator forever as a end loop using while True. This is the reason why there is no specific length for generators.\"\n",
    "\n",
    "#######################################################"
   ]
  },
  {
   "cell_type": "markdown",
   "metadata": {},
   "source": [
    "#### FA-4:\n",
    "Create a generator function `squares(n)` that yields the squares of \n",
    "numbers from 0 up to `n` (inclusive). \n",
    "Then obtain an instance `gen = squares(5)` \n",
    "and manually print `next(gen)` several times. \n"
   ]
  },
  {
   "cell_type": "code",
   "execution_count": 55,
   "metadata": {},
   "outputs": [
    {
     "name": "stdout",
     "output_type": "stream",
     "text": [
      "0\n",
      "1\n",
      "4\n",
      "9\n",
      "16\n",
      "25\n"
     ]
    }
   ],
   "source": [
    "## Your solution to FA-4 goes here:\n",
    "\n",
    "def squares(n):\n",
    "    num = 0\n",
    "    while num <= n:\n",
    "        yield num**2\n",
    "        num += 1\n",
    "\n",
    "###########################\n",
    "\n",
    "gen = squares(5)\n",
    "print(next(gen))  # => 0\n",
    "print(next(gen))  # => 1\n",
    "print(next(gen))  # => 4\n",
    "# ......\n",
    "# .....\n",
    "# Printing next(gen) repeatedly should show 0, 1, 4, 9, 16, 25.\n",
    "print(next(gen))\n",
    "print(next(gen))\n",
    "print(next(gen))"
   ]
  },
  {
   "cell_type": "markdown",
   "metadata": {},
   "source": [
    "### FA-5: \n",
    "\n",
    "Imagine you are using a function from a third-party library that returns a generator. You want to write a program that produces a visualization of the elements of this generator, but you want to know beforehand how many elements you can obtain from the generator, as this will help you decide how to display this elements on the screen. How can you do this? (you do not need to submit any code, just reflect on the question)."
   ]
  },
  {
   "cell_type": "code",
   "execution_count": 56,
   "metadata": {},
   "outputs": [],
   "source": [
    "## Add your answer here: ##############################\n",
    "\n",
    "fa5_answer = \"\"\" Since generator does not have len func we cant calculate it from using len function.\n",
    "So we can create a counter and using try except method, we can add +1 every time it is generating a number and when it gives the stop iteration error, it will go to except and break the loop. In the end we can print count and see how many items the generator generated. \n",
    "count=0\n",
    "while True:\n",
    "    try:\n",
    "        next(gen)\n",
    "        count+=1 \n",
    "    except:\n",
    "        break\n",
    "\"\"\"\n",
    "\n",
    "#######################################################"
   ]
  },
  {
   "cell_type": "markdown",
   "metadata": {},
   "source": [
    "#### FA-6:\n",
    "\n",
    "Consider a generator function `gen_random_floats(n)` that yields `n` random float values. \n",
    " \n",
    " **Hint:** `random` package is alredy imported. You can use the `random.random()` function to generate random numbers.\n",
    " \n",
    "1) Implement the `gen_random_floats(n)` generator \n",
    "2) Call `gen_random_floats(n)` with `n = 5` to create a generator and store it in the variable `rand_5_nums`.\n",
    "3) In a for loop collect the results of the `rand_5_nums` and store them in the `fa6_list`.\n",
    "4) Print the length of `fa6_list` to confirm it is `n`.\n"
   ]
  },
  {
   "cell_type": "code",
   "execution_count": 57,
   "metadata": {},
   "outputs": [
    {
     "name": "stdout",
     "output_type": "stream",
     "text": [
      "5\n",
      "[0.71, 0.82, 0.87, 0.95, 0.64]\n"
     ]
    }
   ],
   "source": [
    "import random\n",
    "\n",
    "## Your solution to FA-6 goes here:\n",
    "\n",
    "def gen_random_floats(n):\n",
    "    num = 0\n",
    "    while num < n:\n",
    "        yield round(random.random(),2)\n",
    "        num += 1\n",
    "    \n",
    "n = 5\n",
    "rand_5_nums=gen_random_floats(n) #creating the generator #n here must the same variable as the other n-s in the code\n",
    "fa6_list=[]\n",
    "#we cant use for loop because it is unknown how many items there are\n",
    "while True:\n",
    "    try:\n",
    "        fa6_list.append(next(rand_5_nums))\n",
    "    except:\n",
    "        break\n",
    "##############################\n",
    "\n",
    "print(len(fa6_list)) # => 5\n",
    "print(fa6_list)\n",
    "# If n = 5, you should see 5 random floats in fa6_list, \n",
    "# e.g., [0.43, 0.89, 0.01, 0.47, 0.99], and len(fa6_list) = 5\n"
   ]
  },
  {
   "cell_type": "markdown",
   "metadata": {},
   "source": [
    "#### FA-6-a:\n",
    " \n",
    "What would happen if you directly cast `rand_5_nums` to a list by calling `list()`? \n",
    "\n",
    "Make a `fa6a_list` this time by using `list()` and then print the length of `fa6a_list` to confirm it is `n`. (Pay closer attention to naming the variables we are printing `fa6a_list` here and not `fa6_list`)"
   ]
  },
  {
   "cell_type": "code",
   "execution_count": 58,
   "metadata": {},
   "outputs": [
    {
     "name": "stdout",
     "output_type": "stream",
     "text": [
      "5\n",
      "[0.46, 0.54, 0.81, 0.54, 0.2]\n"
     ]
    }
   ],
   "source": [
    "## Your solution to FA-6-a goes here:\n",
    "\n",
    "#fa6a_list=list(rand_5_nums) #it will generate an empty list because in the above cell the five numbers are already generated thats why it is empty now: 0 []\n",
    "\n",
    "fa6a_list=list(gen_random_floats(n)) #this is why we use directly the generator in order to access new five random numbers\n",
    "\n",
    "#if I create variable rand_5_nums=gen_random_floats(n) and then use rand_5_nums below it will give fine as well\n",
    "rand_5_nums=gen_random_floats(n)\n",
    "fa6a_list=list(rand_5_nums)\n",
    "###########################\n",
    "\n",
    "print(len(fa6a_list)) # => 5\n",
    "print(fa6a_list)\n",
    "# If n = 5, you should see 5 random floats in fa6a_list, \n",
    "# e.g., [0.43, 0.89, 0.01, 0.47, 0.99], and len(fa6a_list) = 5"
   ]
  },
  {
   "cell_type": "markdown",
   "metadata": {},
   "source": [
    "----\n",
    "## Lazy evaluation\n",
    "\n",
    "\n",
    "When working on the previous section, you should have noticed some differences in the behavior of generators, compared to other iterables such as lists and dictionaries. This has to do with the fact that generators are lazy. \n",
    "\n",
    "If you have not done so yet, this would be a good moment to watch the Knowledge Clip about Lazy Evaluation. \n",
    "\n",
    "To test your understanding of the concept of Lazy Evaluation, look at the following examples, and predict what the outcome should be with eager and with lazy evaluation. In particular, think which of these statements should print the word \"right\", in two theoretical cases: when using a programming language with eager evaluation, and when using a programming language with lazy evaluation. \n",
    "\n",
    "When you run the examples, note that Python uses lazy evaluation for Boolean expressions with **and** and **or**. "
   ]
  },
  {
   "cell_type": "code",
   "execution_count": 59,
   "metadata": {},
   "outputs": [
    {
     "name": "stdout",
     "output_type": "stream",
     "text": [
      "right\n"
     ]
    },
    {
     "data": {
      "text/plain": [
       "True"
      ]
     },
     "execution_count": 59,
     "metadata": {},
     "output_type": "execute_result"
    }
   ],
   "source": [
    "True and (print(\"right\") is None) #prints does not return anything so it is None\n",
    "\n",
    "#right is printed because of print(\"right\")\n",
    "#True is printed because both sides here are True: True and (print(\"right\") is None)"
   ]
  },
  {
   "cell_type": "code",
   "execution_count": 60,
   "metadata": {},
   "outputs": [
    {
     "name": "stdout",
     "output_type": "stream",
     "text": [
      "right\n",
      "None\n"
     ]
    }
   ],
   "source": [
    "False and (print(\"right\") is None) #this will never check the 2nd part because the 1st is False\n",
    "\n",
    "print(print(\"right\")) # we see printed right None because of this line only; and we have 2 times print to see if the print() itself prints something"
   ]
  },
  {
   "cell_type": "code",
   "execution_count": 61,
   "metadata": {},
   "outputs": [
    {
     "data": {
      "text/plain": [
       "True"
      ]
     },
     "execution_count": 61,
     "metadata": {},
     "output_type": "execute_result"
    }
   ],
   "source": [
    "True or (print(\"right\") is None) #this will not check the 2nd part because the 1st is True"
   ]
  },
  {
   "cell_type": "code",
   "execution_count": 62,
   "metadata": {},
   "outputs": [
    {
     "name": "stdout",
     "output_type": "stream",
     "text": [
      "right\n"
     ]
    },
    {
     "data": {
      "text/plain": [
       "True"
      ]
     },
     "execution_count": 62,
     "metadata": {},
     "output_type": "execute_result"
    }
   ],
   "source": [
    "False or (print(\"right\") is None) #it will check the 2nd part because it has hope that the 2nd part might be True"
   ]
  },
  {
   "cell_type": "code",
   "execution_count": 67,
   "metadata": {},
   "outputs": [],
   "source": [
    "#Notes:\n",
    "\n",
    "#Lazy\n",
    "# F and sth -> doesnot check the 2nd\n",
    "# T and sth -> check the 2nd\n",
    "\n",
    "# F or sth -> check the 2nd\n",
    "# T or sth -> doesnot check the 2nd\n",
    "\n",
    "#eager\n",
    "#it will check all statements no rules"
   ]
  },
  {
   "cell_type": "markdown",
   "metadata": {},
   "source": [
    "As you know, generators are also lazy in Python: they don't create all the results immediately, but delay their evaluation until the moment they are needed. This applies both to generator expressions and generator functions with *yield*. \n"
   ]
  },
  {
   "cell_type": "code",
   "execution_count": 68,
   "metadata": {},
   "outputs": [
    {
     "name": "stdout",
     "output_type": "stream",
     "text": [
      "0\n",
      "1\n",
      "2\n",
      "3\n",
      "4\n",
      "5\n",
      "6\n",
      "7\n",
      "\n",
      "0\n",
      "1\n",
      "2\n"
     ]
    }
   ],
   "source": [
    "# The numbers generator defined below has an infinite loop (while True)!\n",
    "def numbers(): \n",
    "    i = 0\n",
    "    while True:     \n",
    "        yield i \n",
    "        i += 1\n",
    "               \n",
    "# However, we can call this function without running into an infinite loop!\n",
    "# This is thanks to lazy evaluation: the numbers of this generator are only computed when needed.\n",
    "g = numbers()\n",
    "\n",
    "# We can get the next number as many times as we want \n",
    "print(next(g))\n",
    "print(next(g))\n",
    "print(next(g))\n",
    "\n",
    "for _ in range(5):\n",
    "    print(next(g))\n",
    "\n",
    "print('')\n",
    "\n",
    "# But don't do the following! (unless you add a break condition)\n",
    "# for number in g:\n",
    "#    print(number)\n",
    "# Since there is no stopping condition, this loop would run infinitely \n",
    "# (and you'd have to stop it on time and possibly restart the kernel, and perhaps even your computer)\n",
    "\n",
    "# The itertools module provides a generator with the same functionality as numbers:\n",
    "import itertools \n",
    "\n",
    "g = itertools.count()\n",
    "print(next(g))\n",
    "print(next(g))\n",
    "print(next(g))\n"
   ]
  },
  {
   "cell_type": "markdown",
   "metadata": {},
   "source": [
    "Here is an example that uses the numbers generator. Note that it uses a break condition!"
   ]
  },
  {
   "cell_type": "code",
   "execution_count": 69,
   "metadata": {},
   "outputs": [
    {
     "name": "stdout",
     "output_type": "stream",
     "text": [
      "Result:  10\n",
      "Result:  105\n",
      "Result:  435\n"
     ]
    }
   ],
   "source": [
    "def sum_to(n):\n",
    "    sum = 0\n",
    "    for i in numbers():\n",
    "        if i == n: \n",
    "            break\n",
    "        sum += i\n",
    "    return sum\n",
    "\n",
    "print(\"Result: \", sum_to(5))\n",
    "print(\"Result: \", sum_to(15))\n",
    "print(\"Result: \", sum_to(30))\n"
   ]
  },
  {
   "cell_type": "markdown",
   "metadata": {},
   "source": [
    "### FA-7\n",
    "\n",
    "Generators and list comprehensions look very similar, but list comprehensions are eager while generators are lazy.      \n",
    "\n",
    "Have a look at the following example. We have some *data* stored in a list, and a function that always accesses it in insertion order, up to a certain position (included), and returns the last accessed element.\n"
   ]
  },
  {
   "cell_type": "code",
   "execution_count": 70,
   "metadata": {},
   "outputs": [
    {
     "name": "stdout",
     "output_type": "stream",
     "text": [
      "[2, 6674, 220, 32, 96, 2856]\n",
      "<generator object <genexpr> at 0x0000014D24D246D0>\n",
      "Accessing element  0 :  2\n",
      "Accessing element  1 :  6674\n",
      "Accessing element  2 :  220\n",
      "220\n",
      "Accessing element  0 :  2\n",
      "Accessing element  1 :  6674\n",
      "Accessing element  2 :  220\n",
      "220\n",
      "Accessing element  0 :  2\n",
      "Accessing element  1 :  6674\n",
      "Accessing element  2 :  220\n",
      "220\n",
      "Accessing element  0 :  32\n",
      "Accessing element  1 :  96\n",
      "Accessing element  2 :  2856\n",
      "2856\n",
      "Accessing element  0 :  2\n",
      "Accessing element  1 :  6674\n",
      "Accessing element  2 :  220\n",
      "220\n"
     ]
    }
   ],
   "source": [
    "data = [2,53, 1, 6674, 23, 16435, 95, 220, 32, 27, 3, 96, 261, 2856]\n",
    "\n",
    "l = [x for x in data if x % 2 == 0]\n",
    "\n",
    "g = (x for x in data if x % 2 == 0) #generator\n",
    "\n",
    "print(l)\n",
    "print(g)\n",
    "                    #l  #2       True        from print(access_in_order(l, 2, True))\n",
    "def access_in_order(it, until, verbose=False):\n",
    "    for i, element in enumerate(it): #i is index and element isfrom [2, 6674, 220, 32, 96, 2856]\n",
    "        if verbose:\n",
    "            print(\"Accessing element \", i, \": \", element)\n",
    "        if i >= until: #if index of element is >= until\n",
    "            return element\n",
    "    \n",
    "    \n",
    "print(access_in_order(l, 2, True)) #if i print two times this, it will give the same two times:\n",
    "print(access_in_order(l, 2, True)) \n",
    "# Accessing element  0 :  2\n",
    "# Accessing element  1 :  6674\n",
    "# Accessing element  2 :  220\n",
    "# 220\n",
    "# Accessing element  0 :  2\n",
    "# Accessing element  1 :  6674\n",
    "# Accessing element  2 :  220\n",
    "# 220\n",
    "\n",
    "print(access_in_order(g, 2, True))   #in generator when it sees one thing once, it iwll not repeat it but continue from the next new elements\n",
    "print(access_in_order(g, 2, True))   # Note that we get a different result now! \n",
    "                                     # since g is a generator, it keeps the state\n",
    "# Accessing element  0 :  32\n",
    "# Accessing element  1 :  96\n",
    "# Accessing element  2 :  2856\n",
    "# 2856\n",
    "# Accessing element  0 :  2\n",
    "# Accessing element  1 :  6674\n",
    "# Accessing element  2 :  220\n",
    "# 220\n",
    "\n",
    "g = (x for x in data if x % 2 == 0)  # We need to create it again if we want to regenerate it\n",
    "print(access_in_order(g, 2, True))\n"
   ]
  },
  {
   "cell_type": "markdown",
   "metadata": {},
   "source": [
    "What are the relative advantages of using this function with `l` or `g`? Think what would happen in case of much larger data."
   ]
  },
  {
   "cell_type": "code",
   "execution_count": 71,
   "metadata": {},
   "outputs": [],
   "source": [
    "## Add your answer here: ##############################\n",
    "\n",
    "fa7_answer = \"With g we can generate all the numbers until the end of the list but we cannot access the same numbers twice; with g we cannot track the location of elements and we need to go over the whole list to reach the desired number. With l we can track the location of different numbers and give directly the diresired number without going over the whole list. G is slow and l is fast. In case of large data, using g is more memory efficient than a list because g does not store all the elements in the memory at once, it will generate the elements when we need them. So in large data we will prefer g.\"\n",
    "\n",
    "#######################################################"
   ]
  },
  {
   "cell_type": "markdown",
   "metadata": {},
   "source": [
    "#### FA-8:\n",
    "\n",
    "Rewrite the function `access_in_order()` as a generator function called `yield_in_order`, \n",
    "which yields each element up to `until` index, instead of returning a single element.\n",
    "\n",
    "Implementation steps:\n",
    "1) `yield_in_order(it, until)` should yield each item from `it` until `i >= until`.\n",
    "2)  Demonstrate by converting its output to a list or manually using `next()`.\n",
    "\n",
    "**Hint:** If we do `list(yield_in_order(l, 2))` for `l=[2, 6674, 220, ...]`, it should produce the first 3 elements from `l` (indices 0,1,2).\n",
    "\n",
    "\n"
   ]
  },
  {
   "cell_type": "code",
   "execution_count": 72,
   "metadata": {},
   "outputs": [
    {
     "name": "stdout",
     "output_type": "stream",
     "text": [
      "2\n",
      "6674\n",
      "220\n",
      "[2, 6674, 220]\n"
     ]
    }
   ],
   "source": [
    "## Your solution to FA-8 goes here:\n",
    "\n",
    "l=[2, 6674, 220, 32, 96, 2856]\n",
    "                #it is l and until is 2\n",
    "def yield_in_order(it, until):\n",
    "    for i, element in enumerate(it): #i is index and element isfrom [2, 6674, 220, 32, 96, 2856]\n",
    "        yield element\n",
    "        if i >= until: #if index of element is >= until\n",
    "            return  #this means come out the func and dont return anything\n",
    "        \n",
    "mygen = yield_in_order(l,2)\n",
    "print(next(mygen))\n",
    "print(next(mygen))\n",
    "print(next(mygen))    \n",
    "###########################\n",
    "\n",
    "result_list = list(yield_in_order(l, 2))\n",
    "print(result_list)      # => [2, 6674, 220]  (according to the data we had defined)"
   ]
  },
  {
   "cell_type": "markdown",
   "metadata": {},
   "source": [
    "#### FA-9:\n",
    "Now lets use classes instead of functions. Create a class named `RangeIterator` that implements the iterator protocol to yield integers from 0 up to `n` (including 0). Remember that iterators need to have an `__iter__` and a `__next__` methods. \n",
    "\n",
    "1) Create a class named `RangeIterator` with an `__init__(self, n)`,  `__iter__(self)`, and a `__next__(self)` methods.\n",
    "2) Since the class represents an iterator, `__iter__` should return itself.\n",
    "3) The `__next__` method should return the next item in the sequence.\n",
    "4) When `n` is reached, the `__next__` method should raise `StopIteration` to signal it is exhausted.\n",
    "\n",
    "Demonstrate usage by looping over `RangeIterator(5)` and printing its items.\n"
   ]
  },
  {
   "cell_type": "code",
   "execution_count": 73,
   "metadata": {},
   "outputs": [
    {
     "name": "stdout",
     "output_type": "stream",
     "text": [
      "0\n",
      "1\n",
      "2\n",
      "3\n",
      "4\n"
     ]
    }
   ],
   "source": [
    "## Your solution to FA-9 goes here:\n",
    "class RangeIterator:\n",
    "    def __init__(self, n):\n",
    "        self.n=n\n",
    "        self.i=0 #equal to 0 means that I dont have to pass i in the init arguments\n",
    "    def __iter__(self):\n",
    "        return self\n",
    "    \n",
    "    def __next__(self):\n",
    "        if self.i >= self.n:\n",
    "            raise StopIteration\n",
    "        v= self.i\n",
    "        self.i+=1\n",
    "        return v\n",
    "       \n",
    "\n",
    "###########################\n",
    "\n",
    "for x in RangeIterator(5):\n",
    "    print(x) # => 0, 1, 2, 3, 4\n"
   ]
  },
  {
   "cell_type": "markdown",
   "metadata": {},
   "source": [
    "### FA-10\n",
    "\n",
    "Now write a function `random_access` that only accesses an element in one given position in *data*, converts it to a string, and returns it. Would you prefer to use `l` or `g` in this case? Think about the efficiency of each option."
   ]
  },
  {
   "cell_type": "code",
   "execution_count": 74,
   "metadata": {},
   "outputs": [
    {
     "name": "stdout",
     "output_type": "stream",
     "text": [
      "220\n",
      "220\n"
     ]
    }
   ],
   "source": [
    "## Your solution to FA-10 goes here:\n",
    "#I prefer l because g does not track elements locations but l does and we choose l because we can directly access the element's location because of the prestored memory.\n",
    "data = [2,53, 1, 6674, 23, 16435, 95, 220, 32, 27, 3, 96, 261, 2856]\n",
    "l = [x for x in data if x % 2 == 0]\n",
    "\n",
    "def random_access(it,random_position): #it can be l or g\n",
    "    for i,el in enumerate(it):\n",
    "        if i==random_position:\n",
    "            return str(el)\n",
    "\n",
    "\n",
    "###########################\n",
    "\n",
    "random_position = 2\n",
    "print(random_access(l, random_position)) # =>220\n",
    "\n",
    "g = (x for x in data if x % 2 == 0) # Re-generate the exhausted generator\n",
    "print(random_access(g, random_position)) # =>220\n"
   ]
  },
  {
   "cell_type": "markdown",
   "metadata": {},
   "source": [
    "#### FA-11:\n",
    "\n",
    "In the current 'random_access' idea, suppose we want a variation that also \n",
    "returns the original index in *data*. \n",
    "Create a function `random_access_with_index(source, pos)` that returns (index, element). \n",
    "Show a short example of usage with `l` or `g`.\n",
    "\n",
    "\n",
    "**Hint:**  If `l` has [2, 220, 32, 96, ...] for examle, calling `random_access_with_index(l, 2)` might return (2, 220).\n",
    "\n"
   ]
  },
  {
   "cell_type": "code",
   "execution_count": 75,
   "metadata": {},
   "outputs": [
    {
     "name": "stdout",
     "output_type": "stream",
     "text": [
      "(2, 220)\n",
      "(2, 220)\n"
     ]
    }
   ],
   "source": [
    "## Your solution to FA-11 goes here:\n",
    "\n",
    "data = [2,53, 1, 6674, 23, 16435, 95, 220, 32, 27, 3, 96, 261, 2856]\n",
    "l = [x for x in data if x % 2 == 0]\n",
    "g = (x for x in data if x % 2 == 0)\n",
    "def random_access_with_index(source, pos): #it can be l or g\n",
    "    for index,element in enumerate(source):\n",
    "        if index==pos:\n",
    "            return index,element\n",
    "        \n",
    "print(random_access_with_index(g, 2))\n",
    "\n",
    "###########################\n",
    "\n",
    "print(random_access_with_index(l, 2))# => (2, 220)\n"
   ]
  },
  {
   "cell_type": "markdown",
   "metadata": {},
   "source": [
    "#### FA-12:\n",
    "Use the `random_access` function to retrieve the last item in `l`, \n",
    "by calling `random_access(l, len(l)-1)`. \n",
    "Then re-generate `g` and do the same. Print both results.\n",
    "\n",
    "Expected outcome:\n",
    "- You should see the last even item in *data* for both `l` and `g`. \n",
    "- But remember that `g` can be exhausted, so re-generate it first if needed."
   ]
  },
  {
   "cell_type": "code",
   "execution_count": 76,
   "metadata": {},
   "outputs": [
    {
     "name": "stdout",
     "output_type": "stream",
     "text": [
      "2856\n",
      "2856\n"
     ]
    }
   ],
   "source": [
    "## Your solution to FA-12 goes here:\n",
    "\n",
    "data = [2,53, 1, 6674, 23, 16435, 95, 220, 32, 27, 3, 96, 261, 2856]\n",
    "l = [x for x in data if x % 2 == 0]\n",
    "\n",
    "def random_access(it,random_position): #it can be l or g\n",
    "    for i,el in enumerate(it):\n",
    "        if i==random_position:\n",
    "            return str(el)\n",
    "\n",
    "\n",
    "###########################\n",
    "\n",
    "random_position = 2\n",
    "print(random_access(l, len(l)-1)) # =>2856\n",
    "\n",
    "g = (x for x in data if x % 2 == 0) # Re-generate the exhausted generator\n",
    "print(random_access(g, len(l)-1)) # =>2856 #len is a func only for l but we use it here because the length of l and g is the same\n",
    "\n",
    "\n",
    "###########################\n"
   ]
  },
  {
   "cell_type": "markdown",
   "metadata": {
    "tags": []
   },
   "source": [
    "----\n",
    "# Real-word example 1: Fibonacci numbers\n",
    "\n",
    "First, familiarize yourself with these functions, which will be useful later.\n"
   ]
  },
  {
   "cell_type": "code",
   "execution_count": 77,
   "metadata": {},
   "outputs": [
    {
     "name": "stdout",
     "output_type": "stream",
     "text": [
      "[20, 21, 22, 23, 24]\n",
      "<itertools.accumulate object at 0x0000014D24D336C0>\n",
      "10\n",
      "12\n",
      "14\n"
     ]
    }
   ],
   "source": [
    "import itertools\n",
    "\n",
    "# Take    \n",
    "def take(n, iterable):\n",
    "    \"Return first n items of an iterable as a list\"\n",
    "    \n",
    "    return list(itertools.islice(iterable, n)) #\"iterable\" is infinite iterable starting from 20 and going infinite; n=5\n",
    "                #  -> i need 5 numbers among 20 different nums; islice says how many n number i need from the iterable\n",
    "    \n",
    "# Example of use: take the first 5 elements of a generator\n",
    "print(take(5, itertools.count(start=20))) #this will create infinite iterable that will continue starting from 20\n",
    "           #n     # iterable    #count creates the ininite iterable\n",
    "    #overall: I have iterable (long candy) and 5 is how many pieces I want cut and 20 is the number where I need to start\n",
    "    #so I need to start from 20 and continue 21 22 23 24 \n",
    "    #so take() will print the five different numbers\n",
    "    \n",
    "# Iterate; this is the same but different way to do generator; the 2nd option is with yield\n",
    "def iterate(f, x):\n",
    "    \"...\"                        #1st it will put 10 after it will put the returned answer from lambda\n",
    "                                 #we pass x to the fx automatically and from fx we give back the answer to x \n",
    "                                 # if i dont use this itertools.repeat(x) in another func like lambda, it will return the num 10 infinite times\n",
    "    return itertools.accumulate(itertools.repeat(x), lambda fx, _: f(fx)) #so the 1st num for x is 10 and every next is x+fx\n",
    "                     #accumulate is a function that generates infinite numbers\n",
    "    #if we have predefined list that accumulate will generate numbers until the end of the list and not infinite\n",
    "             #f           #x\n",
    "g = iterate(lambda x:x+2, 10)\n",
    "  \n",
    "print(g)\n",
    "\n",
    "# Note: don't visualise the content of g with print(list(g))! \n",
    "# Can you anticipate what would happen if you did this?\n",
    "\n",
    "print(next(g))\n",
    "print(next(g))\n",
    "print(next(g))"
   ]
  },
  {
   "cell_type": "markdown",
   "metadata": {},
   "source": [
    "\n",
    "### FA-13\n",
    "\n",
    "What does `iterate` do?\n",
    "\n",
    "Hint: you can have a look at the `itertool` functions at the official docs: https://docs.python.org/3/library/itertools.html"
   ]
  },
  {
   "cell_type": "code",
   "execution_count": 78,
   "metadata": {},
   "outputs": [],
   "source": [
    "## Add your answer here: ##############################\n",
    "\n",
    "fa13_answer = \"iterate takes a func and value as arguments. Iterate generate an infinite sequence of numbers that starts from 'value' and increate by +2 every next number. Intertools.repeat(x) does infinite sequnece of x, and lambda fx adds +2 to x and lambda function passes the x from itertools.repeat(x) and adds +2 and then returns back the new number. On every next loop it does the same thing with adding +2 every time. With iterate(lambda x:x+2, 10) we create a generator where the values of f and fx are passed so f is lambda x:x+2 and x is 10 so fx is every new number with extra +2.\"\n",
    "\n",
    "#######################################################"
   ]
  },
  {
   "cell_type": "markdown",
   "metadata": {},
   "source": [
    "#### FA-14:\n",
    "We have the `iterate` function that creates an infinite sequence x, f(x), f(f(x)), ...\n",
    "1) Define a simple function `add_one(x)` that returns `x + 1`.\n",
    "2) Create an iterator `it = iterate(add_one, 0)`.\n",
    "3) Print `next(it)` 5 times to see the sequence of integers growing from 0.\n",
    "\n",
    "Expected outcome:\n",
    "- Printing `next(it)` 5 times should yield 0, 1, 2, 3, 4 (or 1, 2, 3, 4, 5 depending on implementation)."
   ]
  },
  {
   "cell_type": "code",
   "execution_count": 79,
   "metadata": {},
   "outputs": [
    {
     "name": "stdout",
     "output_type": "stream",
     "text": [
      "0\n",
      "1\n",
      "2\n",
      "3\n",
      "4\n"
     ]
    }
   ],
   "source": [
    "## Your solution to FA-14 goes here:\n",
    "\n",
    "add_one = lambda x: x+1\n",
    "\n",
    "###########################\n",
    "\n",
    "it = iterate(add_one, 0)\n",
    "print(next(it))  # => 1\n",
    "print(next(it))  # => 2\n",
    "print(next(it))  # => 3\n",
    "print(next(it))\n",
    "print(next(it))\n",
    "#...\n",
    "# you can also change this print into a for loop\n"
   ]
  },
  {
   "cell_type": "markdown",
   "metadata": {},
   "source": [
    "Now we can look at two implementations of Fibonacci numbers.\n",
    "\n",
    "### FA-15:\n",
    "\n",
    "Read the two implementation below. Before running them, can you predict which one will be faster? Was your intuition correct? Explain what makes one faster than the other."
   ]
  },
  {
   "cell_type": "code",
   "execution_count": 80,
   "metadata": {},
   "outputs": [
    {
     "name": "stdout",
     "output_type": "stream",
     "text": [
      "CPU times: total: 844 ms\n",
      "Wall time: 842 ms\n"
     ]
    },
    {
     "data": {
      "text/plain": [
       "[1,\n",
       " 1,\n",
       " 2,\n",
       " 3,\n",
       " 5,\n",
       " 8,\n",
       " 13,\n",
       " 21,\n",
       " 34,\n",
       " 55,\n",
       " 89,\n",
       " 144,\n",
       " 233,\n",
       " 377,\n",
       " 610,\n",
       " 987,\n",
       " 1597,\n",
       " 2584,\n",
       " 4181,\n",
       " 6765,\n",
       " 10946,\n",
       " 17711,\n",
       " 28657,\n",
       " 46368,\n",
       " 75025,\n",
       " 121393,\n",
       " 196418,\n",
       " 317811,\n",
       " 514229,\n",
       " 832040]"
      ]
     },
     "execution_count": 80,
     "metadata": {},
     "output_type": "execute_result"
    }
   ],
   "source": [
    "# Implementation 1\n",
    "\n",
    "def fib(n):\n",
    "    if n == 0:\n",
    "        return 1\n",
    "    if n == 1:\n",
    "        return 1\n",
    "    return fib(n-1) + fib(n-2)\n",
    "\n",
    "def fibs(n):\n",
    "    return [fib(i) for i in range(n)]\n",
    "\n",
    "%time fibs(30)"
   ]
  },
  {
   "cell_type": "code",
   "execution_count": 81,
   "metadata": {},
   "outputs": [
    {
     "name": "stdout",
     "output_type": "stream",
     "text": [
      "CPU times: total: 0 ns\n",
      "Wall time: 0 ns\n"
     ]
    },
    {
     "data": {
      "text/plain": [
       "[1,\n",
       " 1,\n",
       " 2,\n",
       " 3,\n",
       " 5,\n",
       " 8,\n",
       " 13,\n",
       " 21,\n",
       " 34,\n",
       " 55,\n",
       " 89,\n",
       " 144,\n",
       " 233,\n",
       " 377,\n",
       " 610,\n",
       " 987,\n",
       " 1597,\n",
       " 2584,\n",
       " 4181,\n",
       " 6765,\n",
       " 10946,\n",
       " 17711,\n",
       " 28657,\n",
       " 46368,\n",
       " 75025,\n",
       " 121393,\n",
       " 196418,\n",
       " 317811,\n",
       " 514229,\n",
       " 832040]"
      ]
     },
     "execution_count": 81,
     "metadata": {},
     "output_type": "execute_result"
    }
   ],
   "source": [
    "# Implementation 2\n",
    "\n",
    "def next_fib(pair):\n",
    "    x, y = pair\n",
    "    return (y, x + y)\n",
    "\n",
    "def fibs():\n",
    "    return (y for x, y in iterate(next_fib, (0, 1)))\n",
    "\n",
    "%time take(30, fibs())"
   ]
  },
  {
   "cell_type": "code",
   "execution_count": 82,
   "metadata": {},
   "outputs": [],
   "source": [
    "## Add your answer here: ##############################\n",
    "\n",
    "fa15_answer = \"The second implementation is faster. Iterative approach is applied with time complexity O(n) which is linear - generating once the Fibonacci number. In the other hand, the 1st implementation uses recursion with big time complexity of  O(n**2) which is slower than the 2nd implementation.\"\n",
    "\n",
    "#######################################################"
   ]
  },
  {
   "cell_type": "markdown",
   "metadata": {},
   "source": [
    "----\n",
    "## Real-world example 2: K-means Clustering\n",
    "\n",
    "Now we will look at a fully-fledged real-world application of functional programming: the implementation of the K-means algorithm. We will see an object-oriented and a functional approach. Read the code, try to understand it and play around with it, if you wish. Most importantly: compare the presented approaches, and reflect on their differences.\n",
    "\n",
    "Basic idea of K-means:\n",
    "* we have some points\n",
    "* we want to group them into *k*  clusters\n",
    "* we want clusters to be \"small\"\n",
    "\n",
    "Iterative approach:\n",
    "* choose *k* means\n",
    "* assign each point to cluster of \"closest\" mean\n",
    "* compute new means\n",
    "* repeat"
   ]
  },
  {
   "cell_type": "code",
   "execution_count": 83,
   "metadata": {},
   "outputs": [],
   "source": [
    "# %pip install numpy matplotlib\n",
    "# (uncomment the above^ line, the first time you run this code)\n",
    "\n",
    "import numpy as np\n",
    "import random\n",
    "from functools import reduce\n",
    "from functools import partial\n",
    "from operator import add\n",
    "\n",
    "import matplotlib.pyplot as plt\n",
    "%matplotlib inline\n",
    "from IPython.display import clear_output"
   ]
  },
  {
   "cell_type": "markdown",
   "metadata": {},
   "source": [
    "First an object-oriented implementation: "
   ]
  },
  {
   "cell_type": "code",
   "execution_count": 84,
   "metadata": {},
   "outputs": [
    {
     "data": {
      "image/png": "[encoded data removed]",
      "text/plain": [
       "<Figure size 640x480 with 1 Axes>"
      ]
     },
     "metadata": {},
     "output_type": "display_data"
    }
   ],
   "source": [
    "class KMeans:\n",
    "    def __init__(self, k):\n",
    "        self.k = k\n",
    "        self.means = [None for _ in range(k)]\n",
    "        \n",
    "    def predict(self, point):\n",
    "        \"\"\"return index of closest mean\"\"\"\n",
    "        d_min = float('inf')\n",
    "        for j, m in enumerate(self.means):\n",
    "            d = sum((m_i - p_i)**2 for m_i, p_i in zip(m, point))\n",
    "            if d < d_min:\n",
    "                prediction = j\n",
    "                d_min = d            \n",
    "        return prediction\n",
    "\n",
    "\n",
    "    def fit(self, points, num_iters=10):\n",
    "        \"\"\"find the k means\"\"\"\n",
    "        assignments = [None for _ in points]\n",
    "        self.means = random.sample(list(points), self.k)\n",
    "        for _ in range(num_iters):\n",
    "            # assign each point to its closest mean\n",
    "            for i, point in enumerate(points):\n",
    "                assignments[i] = self.predict(point)\n",
    "            # compute new means\n",
    "            for j in range(self.k):\n",
    "                cluster = [p for p, c in zip(points, assignments) if c == j]\n",
    "                self.means[j] = list(map(lambda x: x / len(cluster), reduce(partial(map, add), cluster)))\n",
    "            assignments = [self.predict(point) for point in points]\n",
    "            self.plot_current(points, assignments)\n",
    "                \n",
    "    def plot_current(self, points, assignments):\n",
    "        clear_output(wait=True)\n",
    "        for j, color in zip(range(5), ['r', 'g', 'b', 'm', 'c']):\n",
    "            cluster = [p for p, c in zip(points, assignments) if j == c]\n",
    "            xs, ys = zip(*cluster)\n",
    "            plt.scatter(xs, ys, color=color)\n",
    "        # now plot the means and the clusters\n",
    "        for x, y in self.means:\n",
    "            plt.plot(x, y, marker='*', markersize=10, color='black')\n",
    "        plt.show()        \n",
    "        plt.pause(1)\n",
    "            \n",
    "# 100 random points, 5 clusters\n",
    "k = 5\n",
    "points = np.random.random((100,2))\n",
    "model = KMeans(k)\n",
    "model.fit(points)"
   ]
  },
  {
   "cell_type": "markdown",
   "metadata": {},
   "source": [
    "Now the functional alternative:"
   ]
  },
  {
   "cell_type": "code",
   "execution_count": 85,
   "metadata": {},
   "outputs": [
    {
     "data": {
      "image/png": "[encoded data removed]",
      "text/plain": [
       "<Figure size 640x480 with 1 Axes>"
      ]
     },
     "metadata": {},
     "output_type": "display_data"
    }
   ],
   "source": [
    "import numpy as np\n",
    "import random\n",
    "\n",
    "import matplotlib.pyplot as plt\n",
    "%matplotlib inline\n",
    "\n",
    "def k_means(points, k, num_iters=10):\n",
    "    means = random.sample(list(points), k)\n",
    "    for _ in range(num_iters):\n",
    "        means = new_means(points, means)\n",
    "        assignments = [closest_index(point, means) for point in points]\n",
    "        plot_current(points, assignments, means)\n",
    "    return means\n",
    "\n",
    "def new_means(points, old_means):\n",
    "    k = len(old_means)\n",
    "    assignments = [closest_index(point, old_means) for point in points]\n",
    "    clusters = [[point for point, c in zip(points, assignments) if c == j] for j in range(k)]\n",
    "    return [cluster_mean(cluster) for cluster in clusters]\n",
    "\n",
    "def closest_index(point, means):\n",
    "    distances = [squared_distance(point, mean) for mean in means]\n",
    "    return min(enumerate(distances), key=lambda pair: pair[1])[0]\n",
    "\n",
    "def squared_distance(p, q):\n",
    "    return sum((p_i - q_i)**2 for p_i, q_i in zip(p, q))\n",
    "\n",
    "def cluster_mean(points):\n",
    "    num_points = len(points)\n",
    "    dim = len(points[0]) if points else 0\n",
    "    \n",
    "    sum_points = [sum(point[j] for point in points) for j in range(dim)]\n",
    "    return [s / num_points for s in sum_points]\n",
    "\n",
    "def plot_current(points, assignments, means):\n",
    "    clear_output(wait=True)\n",
    "    for j, color in zip(range(5), ['r', 'g', 'b', 'm', 'c']):\n",
    "        cluster = [p for p, c in zip(points, assignments) if j == c]\n",
    "        xs, ys = zip(*cluster)\n",
    "        plt.scatter(xs, ys, color=color)\n",
    "    # now plot the means and the clusters\n",
    "    for x, y in means:\n",
    "        plt.plot(x, y, marker='*', markersize=10, color='black')\n",
    "    plt.show()        \n",
    "    plt.pause(1)\n",
    "\n",
    "k = 5\n",
    "points = np.random.random((100,2))\n",
    "means = k_means(points, k)"
   ]
  },
  {
   "cell_type": "markdown",
   "metadata": {},
   "source": [
    "We can actually push the functional approach more, as shown below.\n",
    "\n",
    "With the `k_meanses` function, we can more easily iterate until convergence. \n",
    "\n",
    "In particular, the `iterate` function in `k_meanses` produces the series x, f(x), f(f(x)), ....\n",
    "so this results in the (lazy, infinite) sequence:\n",
    "* initial_means\n",
    "* new_means(points, initial_means)\n",
    "* new_means(points, new_means(points, initial_means))\n",
    "* ..."
   ]
  },
  {
   "cell_type": "code",
   "execution_count": 86,
   "metadata": {},
   "outputs": [
    {
     "name": "stdout",
     "output_type": "stream",
     "text": [
      "[[[0.9260092897094325, 0.8776010463966806], [0.41268257709511, 0.6548439095573634], [0.4391220426295426, 0.9920306396685434], [0.05790365686960208, 0.21642040760740777], [0.13812596811526634, 0.3156779913974894]], [[0.8889459006707918, 0.7158378535469091], [0.49802356878543125, 0.4775174350472069], [0.4085898172981245, 0.9007282000079829], [0.13500067735974802, 0.13099883852363267], [0.38741606619539204, 0.2505366623618298]], [[0.8889459006707918, 0.7158378535469091], [0.5346292078763881, 0.4361513991703067], [0.3311997662415982, 0.824804153733055], [0.10987961062980593, 0.24281403970321103], [0.5008092118185027, 0.19041312746045944]], [[0.8661780975867511, 0.728844889137997], [0.5504154285185979, 0.41925884946414277], [0.3222763755423256, 0.8015369668069857], [0.15725589548118585, 0.3251005217526795], [0.6197820956979397, 0.11428985444183641]], [[0.8661780975867511, 0.728844889137997], [0.5351745735541482, 0.4109272087150112], [0.3222763755423256, 0.8015369668069857], [0.16299642639704026, 0.3359087456977626], [0.6500025294988218, 0.11811984539349892]], [[0.8661780975867511, 0.728844889137997], [0.5240002174338348, 0.40690880427672094], [0.3222763755423256, 0.8015369668069857], [0.16299642639704026, 0.3359087456977626], [0.6622411100115458, 0.12252095501638817]], [[0.8497811583031951, 0.7182260348980689], [0.5173904624906419, 0.3980674481866238], [0.3222763755423256, 0.8015369668069857], [0.16299642639704026, 0.3359087456977626], [0.6622411100115458, 0.12252095501638817]], [[0.8497811583031951, 0.7182260348980689], [0.5140628531994356, 0.388773836754034], [0.3222763755423256, 0.8015369668069857], [0.16299642639704026, 0.3359087456977626], [0.6733103930724784, 0.11943128350535467]], [[0.8497811583031951, 0.7182260348980689], [0.5140628531994356, 0.388773836754034], [0.3222763755423256, 0.8015369668069857], [0.17157205692764754, 0.3213692228573131], [0.6911420433915991, 0.12334249374833262]], [[0.8497811583031951, 0.7182260348980689], [0.5093978908285833, 0.378048363390338], [0.3222763755423256, 0.8015369668069857], [0.18193672069082806, 0.31162208429726795], [0.7259038277757037, 0.12326268188803681]]]\n"
     ]
    }
   ],
   "source": [
    "from itertools import islice\n",
    "from itertools import accumulate\n",
    "from itertools import repeat\n",
    "from functools import partial\n",
    "\n",
    "# We have seen these functions; let's repeat them here:\n",
    "def take(n, it):\n",
    "    return [x for x in islice(it, n)]\n",
    "\n",
    "def iterate(f, x):\n",
    "    return accumulate(repeat(x), lambda fx, _: f(fx))\n",
    "\n",
    "def k_meanses(points, k):\n",
    "    \"\"\"returns an infinite sequence of meanses\"\"\"\n",
    "    initial_means = random.sample(list(points), k)\n",
    "    initial_means = list(map(lambda x: list(x), initial_means))\n",
    "    # Note: partial(new_means, points) is the function that takes us from prev_means to next_means\n",
    "    return iterate(partial(new_means, points), initial_means)\n",
    "\n",
    "# Now, we can actually check for very long iterations (from the sequence generated in k_meanses ...)\n",
    "# For example, 10 iterations\n",
    "k = 5\n",
    "meanses = take(10, k_meanses(points, k))\n",
    "\n",
    "print(list(meanses))"
   ]
  },
  {
   "cell_type": "markdown",
   "metadata": {},
   "source": [
    "With these functions, we can easily iterate until convergence:"
   ]
  },
  {
   "cell_type": "code",
   "execution_count": 88,
   "metadata": {},
   "outputs": [
    {
     "name": "stdout",
     "output_type": "stream",
     "text": [
      "[[0.8086724309295943, 0.005156322524207169], [0.9944578923940713, 0.6210962458837483], [0.039755771991716204, 0.9487724362423048], [0.027574476494864553, 0.2989266898006634], [0.6758852439671499, 0.33559229077334374]]\n",
      "[[0.7210806304084015, 0.06662360477582831], [0.8070919453525477, 0.7637365769689218], [0.2658512234112015, 0.8061556679970494], [0.17157205692764754, 0.3213692228573131], [0.5371301424619322, 0.3861491319854035]]\n",
      "[[0.7210806304084015, 0.06662360477582831], [0.8070919453525477, 0.7637365769689218], [0.2658512234112015, 0.8061556679970494], [0.17157205692764754, 0.3213692228573131], [0.5371301424619322, 0.3861491319854035]]\n",
      "[[0.7369992169223861, 0.12513658139188244], [0.7846608029233391, 0.7799233779629463], [0.28729815663561137, 0.7897801234754209], [0.18193672069082806, 0.31162208429726795], [0.520815143383416, 0.3766443141658101]]\n",
      "[[0.7369992169223861, 0.12513658139188244], [0.7846608029233391, 0.7799233779629463], [0.28729815663561137, 0.7897801234754209], [0.18193672069082806, 0.31162208429726795], [0.520815143383416, 0.3766443141658101]]\n",
      "[[0.7402119940211089, 0.13723716757995236], [0.7846608029233391, 0.7799233779629463], [0.28729815663561137, 0.7897801234754209], [0.18193672069082806, 0.31162208429726795], [0.5093978908285833, 0.378048363390338]]\n",
      "[[0.7402119940211089, 0.13723716757995236], [0.7846608029233391, 0.7799233779629463], [0.28729815663561137, 0.7897801234754209], [0.18193672069082806, 0.31162208429726795], [0.5093978908285833, 0.378048363390338]]\n",
      "[[0.7402119940211089, 0.13723716757995236], [0.7846608029233391, 0.7799233779629463], [0.28729815663561137, 0.7897801234754209], [0.18193672069082806, 0.31162208429726795], [0.5093978908285833, 0.378048363390338]]\n",
      "Number of iterations required for convergence:  4\n"
     ]
    }
   ],
   "source": [
    "def until_convergence(it):\n",
    "    return accumulate(it, no_repeat)\n",
    "\n",
    "def no_repeat(prev, curr):\n",
    "    print(prev)\n",
    "    print(curr)\n",
    "    if prev == curr: \n",
    "        raise StopIteration\n",
    "    else:\n",
    "        return curr\n",
    "\n",
    "meanses = until_convergence(k_meanses(points, 5))\n",
    "\n",
    "n_iterations = len(list(meanses))\n",
    "print(\"Number of iterations required for convergence: \", n_iterations)"
   ]
  },
  {
   "cell_type": "markdown",
   "metadata": {},
   "source": [
    "The output should be equivalent in both approaches. \n",
    "\n",
    "### FA-16:\n",
    "\n",
    "Reflect on these two implementations. What are their advantages and disadvantadges? Which one do you (subjectively) like most? Can you think of other machine learning algorithms or artificial intelligence applications for which a functional approach could be a better/worse approach? (There is not a clear right or wrong answer to this question, it is just meant to stimulate your thinking and reflect on what you have learnt about Functional Programming in the last three modules)."
   ]
  },
  {
   "cell_type": "code",
   "execution_count": 89,
   "metadata": {},
   "outputs": [],
   "source": [
    "## Add your answer here: ##############################\n",
    "\n",
    "fa16_answer = \"\"\"\n",
    "What are their advantages and disadvantadges?: ADVANTANGES for Object-oriented implementation: 1.KMeans class makes a good organization in data and the functions which is easier to manage after.;2. Using implementation with a class can create several models with varienty of settings. 3. When the means and cluster are inside an object, it is easier for tracking and updating. DISADVANTAGES for Object-oriented implementation: 1.The code is too long when using classes and their methods inside. 2. Class variables can have side effects if they are not taken care of.;   ADVANTAGES for Functional implementation: 1. Using immutable data structures which avoids side effects. 2. The functions can be used more than once if they are small and not dependent. The implementation is well structured. DISADVANTAGES for Functional implementation: 1. It is hard to track changes without using objects. 2. It is difficult to use recursion instead of regerating exisitng structures.  \n",
    "\n",
    "Which one do you (subjectively) like most?: It depents on the situation. If I have to maintain and scale I have to use the object-oriented implementation. But if I need to make clear and simple functionality then I may use functional implementation.\n",
    "\n",
    "Can you think of other machine learning algorithms or artificial intelligence applications for which a functional approach could be a better/worse approach?: Functional approach can be advantage in decision trees because there recursion is used. When functional approach can be disadvantage in reinforcement learning because working with environment state and updates of Q-learning are better working with OO implementation.\n",
    "\"\"\"\n",
    "\n",
    "#######################################################"
   ]
  },
  {
   "cell_type": "markdown",
   "metadata": {},
   "source": [
    "#### FA-17:\n",
    "\n",
    "Using the 'KMeans' class, call 'predict' on a single test point \n",
    "(e.g., [0.5, 0.5]) and print the resulting cluster index. \n",
    "Then do the same with the functional approach \n",
    "(once the final means are obtained).\n",
    "Print both results.\n"
   ]
  },
  {
   "cell_type": "code",
   "execution_count": 90,
   "metadata": {},
   "outputs": [
    {
     "name": "stdout",
     "output_type": "stream",
     "text": [
      "KMeans class => cluster index: 0\n",
      "Functional approach => cluster index: 1\n"
     ]
    }
   ],
   "source": [
    "test_point = [0.5, 0.5]\n",
    "predicted_class = model.predict(test_point)\n",
    "print(\"KMeans class => cluster index:\", predicted_class)\n",
    "\n",
    "## Your solution to FA-17 goes here:\n",
    "\n",
    "second=closest_index(test_point, means)\n",
    "print(\"Functional approach => cluster index:\",second)\n",
    "\n",
    "###########################\n",
    "\n",
    "# Expected outcome:\n",
    "# - We see something like \"KMeans class => cluster index: 2\"\n",
    "# - We see \"Functional approach => cluster index: 2\"\n",
    "#   (Actual numbers can differ, but show a cluster index from 0 to k-1.)\n",
    "\n"
   ]
  },
  {
   "cell_type": "markdown",
   "metadata": {},
   "source": [
    "# FA-18:\n",
    "\n",
    "After running the functional `k_means(...)` to get final 'means', create a small function `assign_clusters(points, means)` that returns a list of cluster indices for each point in 'points'. \n",
    "Print the cluster assignments for the 100 random points.\n"
   ]
  },
  {
   "cell_type": "code",
   "execution_count": 91,
   "metadata": {},
   "outputs": [
    {
     "name": "stdout",
     "output_type": "stream",
     "text": [
      "[2, 0, 1, 0, 2, 1, 3, 2, 2, 1, 2, 3, 2, 2, 1, 4, 4, 2, 0, 3, 2, 3, 4, 0, 2, 0, 0, 2, 4, 1, 2, 2, 0, 4, 3, 4, 2, 1, 3, 3, 4, 4, 2, 3, 2, 2, 3, 1, 1, 2, 3, 1, 3, 3, 2, 3, 1, 1, 2, 1, 0, 3, 1, 3, 0, 3, 0, 3, 0, 3, 3, 1, 3, 1, 2, 4, 1, 3, 3, 1, 3, 2, 3, 3, 1, 3, 2, 2, 3, 1, 0, 0, 0, 2, 4, 1, 0, 3, 1, 0]\n"
     ]
    }
   ],
   "source": [
    "## Your solution to FA-18 goes here:\n",
    "def assign_clusters(points, means):\n",
    "    L=[closest_index(x,means) for x in points]\n",
    "    return L\n",
    "\n",
    "###########################\n",
    "\n",
    "assignments = assign_clusters(points, means)\n",
    "print(assignments)  # => [2, 3, 1, 1, 0, 2, ...] etc.\n",
    "\n",
    "# Expected outcome:\n",
    "# - For each of the 100 random points, we see an integer from 0 to k-1 \n",
    "#   representing its assigned cluster."
   ]
  },
  {
   "cell_type": "markdown",
   "metadata": {},
   "source": [
    "#### FA-19:\n",
    "\n",
    "Create a small class 'MyPoint' that holds (x, y) as attributes. \n",
    "Then write a short function 'to_tuple(point)' that converts a 'MyPoint' to a (x, y) tuple. \n",
    "Show how you could adapt the 'KMeans' class to handle a list of 'MyPoint' objects \n",
    "instead of raw numeric arrays (just a short demonstration is enough). \n",
    "Print the final means or cluster assignments to verify it works.\n"
   ]
  },
  {
   "cell_type": "code",
   "execution_count": 3,
   "metadata": {},
   "outputs": [
    {
     "name": "stdout",
     "output_type": "stream",
     "text": [
      "(0.3, 0.7)\n"
     ]
    }
   ],
   "source": [
    "## Your solution to FA-19 goes here:\n",
    "\n",
    "class MyPoint:\n",
    "    def __init__(self, x, y):\n",
    "        self.x = x\n",
    "        self.y = y\n",
    "        \n",
    "def to_tuple(p):\n",
    "    return p.x,p.y\n",
    "\n",
    "###########################\n",
    "\n",
    "p = MyPoint(0.3, 0.7)\n",
    "print(to_tuple(p))  # => (0.3, 0.7)\n",
    "\n",
    "# Expected outcome:\n",
    "# - Possibly the same clustering logic runs on MyPoint objects if you convert them \n",
    "#   to numeric tuples for distance calculations.\n",
    "\n"
   ]
  },
  {
   "cell_type": "markdown",
   "metadata": {},
   "source": [
    "#### FA-20:\n",
    "\n",
    "In the functional approach, define 'compute_SSE(points, means)' \n",
    "that calculates the sum of squared errors (distance from each point to its assigned mean). \n",
    "Print the SSE for the final means of the 100 random points.\n"
   ]
  },
  {
   "cell_type": "code",
   "execution_count": 37,
   "metadata": {},
   "outputs": [
    {
     "name": "stdout",
     "output_type": "stream",
     "text": [
      "SSE for final means is SSE = 2.77\n"
     ]
    }
   ],
   "source": [
    "## Your solution to FA-20 goes here:\n",
    "def compute_SSE(points, means):\n",
    "    x = 0\n",
    "    for y in points:\n",
    "        mean_ = means[closest_index(y, means)]\n",
    "        x += sum((j - u) ** 2 for j, u in zip(y, mean_))\n",
    "    return \"SSE = \"+ f\"{round(x,2)}\"\n",
    "\n",
    "\n",
    "###########################\n",
    "\n",
    "final_sse = compute_SSE(points, means)\n",
    "print(\"SSE for final means is\", final_sse) # => SSE for final means is 12.34\n",
    "\n",
    "# Expected outcome:\n",
    "# - A single numeric value (float), e.g., SSE = 12.34 \n",
    "#   (the exact number depends on your random initialisation and final means).\n"
   ]
  },
  {
   "cell_type": "markdown",
   "metadata": {},
   "source": [
    "# References\n",
    "\n",
    "* K-means code adapted from Martin Atzmueller's AdvancedProgramming/AP-Lecture7-More-Functional-Examples.ipynb (2020)."
   ]
  }
 ],
 "metadata": {
  "kernelspec": {
   "display_name": "Python 3 (ipykernel)",
   "language": "python",
   "name": "python3"
  },
  "language_info": {
   "codemirror_mode": {
    "name": "ipython",
    "version": 3
   },
   "file_extension": ".py",
   "mimetype": "text/x-python",
   "name": "python",
   "nbconvert_exporter": "python",
   "pygments_lexer": "ipython3",
   "version": "3.9.7"
  }
 },
 "nbformat": 4,
 "nbformat_minor": 4
}
