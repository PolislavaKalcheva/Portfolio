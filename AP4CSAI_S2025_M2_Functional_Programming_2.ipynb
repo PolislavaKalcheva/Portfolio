{
 "cells": [
  {
   "cell_type": "markdown",
   "metadata": {
    "slideshow": {
     "slide_type": ""
    },
    "tags": []
   },
   "source": [
    "# Module 2: Functional Programming II\n",
    "Course: Advanced Programming for CSAI (Spring 2025)"
   ]
  },
  {
   "cell_type": "markdown",
   "metadata": {},
   "source": [
    "In the previous module, you learnt some principles of Functional Programming. In this module we will see some design patterns that make use of those principles: **Decorators**, **Partial functions**, **Currying** and **Closures**."
   ]
  },
  {
   "cell_type": "markdown",
   "metadata": {
    "jp-MarkdownHeadingCollapsed": true
   },
   "source": [
    "#### Reminder about the course notebooks\n",
    "\n",
    "In this course, we will make extensive use of Jupyter Notebooks, with Python 3+.\n",
    "\n",
    "You are advised to work on these notebooks after, or in parallel to, consulting other materials of the module, such as the slide deck and book chapters. The notebooks contain examples and exercises that should help you understand and apply the concepts introduced in the rest of materials. You may also use the official Python docs: https://docs.python.org/3/.\n",
    "\n",
    "Do not hesitate to be creative when trying out the examples: you can play with the code. You can try variants of the examples and exercises, print values of the variables to understand what is going on at every step, and come up with different solutions to the same exercise and think about relative advantages of each one.\n",
    "\n",
    "The notebook also contains formative assignments. These are indicated as FA-n, where n is a number id. As explained in the course guide, you have to submit these. **FA-n questions with no answer, whether you are asked to write an explanation, a code snippet, or both, will be considered incomplete**. Therefore, give it your best effort. If your solution does not work or you think it is inadequate, add a comment explaining why you were trying to achieve.\n",
    "\n",
    "To submit the formative assignments, we ask you to upload the filled-in notebook. The notebook you upload should contain *at least* the formative assigments. It's not a problem if you upload the notebook with additional code, like the variants and tests mentioned above. However, to grade your assignments, we will only look at the answers to the requested exercises (those indicated with FA-n), so **make sure you store your answers in the corresponding variables and/or to name your functions as indicated**.\n",
    "\n",
    "Optional exercises are, as the name indicates, not mandatory for the formative assignments. These are exercises that suggest you to create an alternative approach, or which propose a longer problem that allows for the integration of earlier concepts in one solution; in general, they present scenarios where you can be more creative. To make the most of the course, it is best to try them out and share your solutions on the Discussion Board, so that your peers can comment on them. You are also encouraged to comment on the exercises of your fellow students. This will help you sharpen your evaluation skills, which is a great asset in programming, as in turn this will help you devise more robust, efficient and maintainable solutions. \n",
    "\n",
    "\n",
    "### /!\\ Before submitting your notebook\n",
    "\n",
    "Please check it can be ran without errors! You can check this by pressing kernel --> restart and run all before submitting. If it does not run without errors, it is your **responsibility** to fix the problem either by resolving the bug in your code or by commenting it out along with a comment.\n",
    "\n",
    "---"
   ]
  },
  {
   "cell_type": "markdown",
   "metadata": {
    "tags": []
   },
   "source": [
    "# Decorators"
   ]
  },
  {
   "cell_type": "markdown",
   "metadata": {},
   "source": [
    "Decorators are functions that add certain functionalities (a \"decoration\") to other functions.\n",
    "Here you can see the anatomy of a decorator:"
   ]
  },
  {
   "cell_type": "code",
   "execution_count": 10,
   "metadata": {},
   "outputs": [
    {
     "name": "stdout",
     "output_type": "stream",
     "text": [
      "<function make_polite.<locals>.inner at 0x000001FE0B8E0940>\n",
      "Hello, world! \n",
      "I am function one!\n",
      "# We can call our functions as we would normally do (without decoration):\n",
      "I am function one!\n",
      "I am function two!\n"
     ]
    },
    {
     "data": {
      "text/plain": [
       "<function __main__.make_polite.<locals>.inner()>"
      ]
     },
     "execution_count": 10,
     "metadata": {},
     "output_type": "execute_result"
    }
   ],
   "source": [
    "# Here we create the decorator 'make_polite()', \n",
    "# which will decorate any function given to it as argument.\n",
    "# Pay attention to its inner structure:\n",
    "def make_polite(func):\n",
    "    \"\"\"\n",
    "    First, we define an 'inner()' function within the decorator! Note: we call it 'inner' here, but it could be anything.\n",
    "    This inner function prints 'Hello, world! ', then makes a call to the function being decorated, passed as argument.\n",
    "    Finally, the decorator returns the 'inner()' function.\n",
    "    \"\"\"\n",
    "    \n",
    "    def inner():                   # We create another function within the decorator!    \n",
    "        print(\"Hello, world! \",)   # This is a decoration, the added functionality which will happen everytime the decorated function is called.\n",
    "        func()                     # Call to the function, passed as argument, that is decorated \n",
    "        \n",
    "    return inner                   # We return the reference to the inner function that we have created.                                                                                  \n",
    "\n",
    "\n",
    "# Let's define a few functions\n",
    "def one_function():                                                                                                 \n",
    "    print(\"I am function one!\")      \n",
    "    \n",
    "def another_function():                                                                                                 \n",
    "    print(\"I am function two!\")                                                                                          \n",
    "\n",
    "    \n",
    "decorated_one = make_polite(one_function)\n",
    "print(decorated_one) # <function __main__.make_polite.<locals>.inner()>\n",
    "decorated_one() #\n",
    "\n",
    "# Regular calls to the two functions above\n",
    "print(\"# We can call our functions as we would \\\n",
    "normally do (without decoration):\")\n",
    "one_function()\n",
    "another_function()\n",
    "\n",
    "# If we want to run a function with a decoration, we need to pass the \n",
    "# function to the decorator, as an argument: \n",
    "make_polite(one_function)\n",
    "\n",
    "# However, this ^^^^^^^ is not enough to *run* the decorated function 'one_function'\n",
    "# Note that this does not print our messages!\n"
   ]
  },
  {
   "cell_type": "code",
   "execution_count": 11,
   "metadata": {},
   "outputs": [
    {
     "name": "stdout",
     "output_type": "stream",
     "text": [
      "Hello, world! \n",
      "I am function one!\n",
      "Hello, world! \n",
      "I am function one!\n"
     ]
    }
   ],
   "source": [
    "x = make_polite(one_function)\n",
    "x()\n",
    "\n",
    "#or\n",
    "\n",
    "make_polite(one_function)()"
   ]
  },
  {
   "cell_type": "markdown",
   "metadata": {},
   "source": [
    "#### FA-1:\n",
    " Why does the call to `make_polite(one_function)` above not run the decorated function?"
   ]
  },
  {
   "cell_type": "code",
   "execution_count": 12,
   "metadata": {},
   "outputs": [],
   "source": [
    "## Add your answer here: ##############################\n",
    "# <function __main__.make_polite.<locals>.inner()>\n",
    "fa1_answer = \"make_polite(func) return function called inner that's why when I make a function called make_polite(one_function), will return just inner but not calling it. That results in printing the function details i.e <function __main__.make_polite.<locals>.inner()> instead of calling it and printing the content but in order to call it, it has to make 2 function calls make_polite(one_function)()\"\n",
    "\n",
    "#######################################################"
   ]
  },
  {
   "cell_type": "markdown",
   "metadata": {},
   "source": [
    "Here is the correct way to `call` the decorated function:"
   ]
  },
  {
   "cell_type": "code",
   "execution_count": 13,
   "metadata": {},
   "outputs": [
    {
     "name": "stdout",
     "output_type": "stream",
     "text": [
      "Hello, world! \n",
      "I am function one!\n"
     ]
    }
   ],
   "source": [
    "# Decorated call (correct attempt)\n",
    "decorated_one = make_polite(one_function)\n",
    "decorated_one()\n"
   ]
  },
  {
   "cell_type": "markdown",
   "metadata": {},
   "source": [
    "#### FA-2: \n",
    "\n",
    "Create a new decorated function named `decorated_another` that decorates \n",
    "`another_function` with `make_polite`.  \n",
    "\n",
    "**Hint:** follow the example of `decorated_one` above.\n"
   ]
  },
  {
   "cell_type": "code",
   "execution_count": 14,
   "metadata": {},
   "outputs": [
    {
     "name": "stdout",
     "output_type": "stream",
     "text": [
      "Hello, world! \n",
      "I am function two!\n"
     ]
    }
   ],
   "source": [
    "## Your solution to FA-2 goes here:\n",
    "\n",
    "decorated_another = make_polite(another_function)\n",
    "\n",
    "###########################\n",
    "\n",
    "decorated_another()    # Expected output: 'Hello, world!\\nI am function two!'\n"
   ]
  },
  {
   "cell_type": "markdown",
   "metadata": {},
   "source": [
    "#### FA-3:\n",
    "Reflect about this example (and decorators more generally):  what functional programming practices can you identify? "
   ]
  },
  {
   "cell_type": "code",
   "execution_count": 15,
   "metadata": {},
   "outputs": [],
   "source": [
    "## Add your answers to FA-3 here: ##############################\n",
    "\n",
    "fa3_answer = \"Applying the same functionality to multiple functions without repeating the code - using decorators. Encapsulation behaviour - it modifies the behaviour of the function without changing the original function logic.\"\n",
    "\n",
    "################################################################"
   ]
  },
  {
   "cell_type": "markdown",
   "metadata": {},
   "source": [
    "#### FA-4:\n",
    "\n",
    "Consider writing a similar decorator, but instead of printing \n",
    "`Hello, world! `, you would print  `Greetings from <your_name>` plus \n",
    "the time of the day before calling the function. \n",
    "Write that decorator below, calling it `make_personal_greeting`.\n",
    "Test it on `another_function` that you made for FA-2. \n",
    "\n",
    "**Note:** This is a short exercise to remind you that decorators themselves \n",
    "can be modified or extended easily if well structured."
   ]
  },
  {
   "cell_type": "code",
   "execution_count": 16,
   "metadata": {},
   "outputs": [
    {
     "name": "stdout",
     "output_type": "stream",
     "text": [
      "Greetings from Poli at 11:45\n",
      "I am function two!\n",
      "None\n"
     ]
    }
   ],
   "source": [
    "from datetime import datetime\n",
    "\n",
    "current_time = datetime.now().time().strftime(\"%H:%M\")\n",
    "\n",
    "## Your solution to FA-4 goes here (+ write the test for it below):\n",
    "def greeting(func):\n",
    "    def inner(): #if i want the name to be a variable that can be changed i need argument name here and to pass it below as {name}\n",
    "        print(f'Greetings from Poli at {current_time}')\n",
    "        func()\n",
    "\n",
    "    return inner\n",
    "\n",
    "make_personal_greeting= greeting(another_function)\n",
    "#because we have print(make_personal_greeting()) it gives None in the end\n",
    "##############################\n",
    "\n",
    "print(make_personal_greeting())  # => Greetings from John Doe at 13:45\n",
    "                                 # => another_function() from FA-2 decorated with personal greeting\n"
   ]
  },
  {
   "cell_type": "markdown",
   "metadata": {},
   "source": [
    "We can also decorate functions using the syntax shown below. \n",
    "\n",
    "This type of syntax is called __pie-decorator__. There is a lot of story behind the decision to incorporate this syntax; if you are curious, check out [this discussion thread]( https://mail.python.org/pipermail/python-dev/2004-August/046672.html)."
   ]
  },
  {
   "cell_type": "code",
   "execution_count": 17,
   "metadata": {},
   "outputs": [
    {
     "name": "stdout",
     "output_type": "stream",
     "text": [
      "Hello, world! \n",
      "I am function gamma, newly decorated!\n"
     ]
    }
   ],
   "source": [
    "@make_polite\n",
    "def function_gamma():\n",
    "    print(\"I am function gamma, newly decorated!\")\n",
    "\n",
    "function_gamma()\n"
   ]
  },
  {
   "cell_type": "markdown",
   "metadata": {},
   "source": [
    "#### FA-5: \n",
    "Think about the advantages and disadvantages of using this pie-decorator syntax versus the approach of passing the function to the decorator explicitly. \n",
    "What happens to the original (undecorated) function?\n"
   ]
  },
  {
   "cell_type": "code",
   "execution_count": 18,
   "metadata": {},
   "outputs": [],
   "source": [
    "## Add your answer here: ##############################\n",
    "\n",
    "fa5_answer = \"advantages: pie is shorter readable and concise and we don't have to reasign the function to another variable but we can call it directly, but disadvantage: it applies permanently the decoration of the function; advantages: passing the function insted of pie gives more flexibility and keeps the original function but disadvantages: difficult to debug.\"\n",
    "\n",
    "#######################################################"
   ]
  },
  {
   "cell_type": "markdown",
   "metadata": {},
   "source": [
    "#### FA-6:\n",
    "\n",
    "Write three decorators named `make_underline`, `make_bold`, and `make_italic` that format text, in a way that we receive the expected outputs. \n",
    "\n",
    "**Note:** There are corresponding HTML tags for `underline (<u>  </u>)`, `bold\n",
    "(<b>  </b>)`, and `italic (<i>  </i>)`, respectively and we are trying to implement those in text by decorators.  \n"
   ]
  },
  {
   "cell_type": "code",
   "execution_count": 19,
   "metadata": {},
   "outputs": [
    {
     "name": "stdout",
     "output_type": "stream",
     "text": [
      "<u>Hello, world!</u>\n",
      "<b>Hello, world!</b>\n",
      "<i>Hello, world!</i>\n"
     ]
    }
   ],
   "source": [
    "## Your solution to FA-6 goes here:\n",
    "\n",
    "def make_underline(func):\n",
    "    def inner():\n",
    "        return f\"<u>{func()}</u>\"\n",
    "    return inner\n",
    "def make_bold(func):\n",
    "    def inner():\n",
    "        return f\"<b>{func()}</b>\" \n",
    "    return inner\n",
    "def make_italic(func):\n",
    "    def inner():\n",
    "        return f\"<i>{func()}</i>\"\n",
    "    return inner\n",
    "###########################\n",
    "\n",
    "@make_underline\n",
    "def hello():\n",
    "    return \"Hello, world!\"\n",
    "print(hello()) ## returns \"<u>Hello, world!</u>\"\n",
    "\n",
    "@make_bold\n",
    "def hello():\n",
    "    return \"Hello, world!\"\n",
    "print(hello()) ## returns \"<b>Hello, world!</b>\"\n",
    "\n",
    "@make_italic\n",
    "def hello():\n",
    "    return \"Hello, world!\"\n",
    "print(hello()) ## returns \"<i>Hello, world!</i>\"\n"
   ]
  },
  {
   "cell_type": "markdown",
   "metadata": {},
   "source": [
    "We can apply multiple decorators to a function:"
   ]
  },
  {
   "cell_type": "code",
   "execution_count": 20,
   "metadata": {},
   "outputs": [
    {
     "name": "stdout",
     "output_type": "stream",
     "text": [
      "<b><u>Hello, world!</u></b>\n"
     ]
    }
   ],
   "source": [
    "@make_bold\n",
    "@make_underline\n",
    "def hello():\n",
    "    return \"Hello, world!\"\n",
    "print(hello())\n"
   ]
  },
  {
   "cell_type": "markdown",
   "metadata": {},
   "source": [
    "#### FA-7:\n",
    "Write a function called `hey_there()` that returns the string: \"Hey there from me!\".\n",
    "Decorate it so that it is both italic and underlined. \n",
    "Use your previously defined `make_italic` and `make_underline` decorators. \n",
    "Store the final decorated result in the variable `result_hey_there`."
   ]
  },
  {
   "cell_type": "code",
   "execution_count": 21,
   "metadata": {},
   "outputs": [
    {
     "name": "stdout",
     "output_type": "stream",
     "text": [
      "<u><i>Hey there from me!</i></u>\n"
     ]
    }
   ],
   "source": [
    "## Your solution to FA-7 goes here:\n",
    "\n",
    "\n",
    "def hey_there():\n",
    "    return \"Hey there from me!\"\n",
    "\n",
    "result_hey_there=make_underline(make_italic(hey_there))\n",
    "#we don't use pie decorators because if its a pie decorator function calling they we must call it by the function name it self like: hey_there().\n",
    "###########################\n",
    "\n",
    "print(result_hey_there()) # => <u><i>Hey there from me!</i></u>\n"
   ]
  },
  {
   "cell_type": "markdown",
   "metadata": {},
   "source": [
    "#### FA-8:\n",
    "\n",
    "Which functional programming principle(s) are we applying when applying decorators this way?"
   ]
  },
  {
   "cell_type": "code",
   "execution_count": 22,
   "metadata": {},
   "outputs": [],
   "source": [
    "## Add your answer here: ##############################\n",
    "\n",
    "fa8_answer = \"in FA-7 we use : higher-order functions, function composition, immutability, encapsulation and reusability\"\n",
    "\n",
    "#######################################################"
   ]
  },
  {
   "cell_type": "markdown",
   "metadata": {},
   "source": [
    "#### FA-9:\n",
    "\n",
    "Decorate the function `goodbye` such that it prints text that is both bold and underlined: as in the example above, but without using pie-decorators.  \n",
    "(i.e., manually call your decorators as functions)."
   ]
  },
  {
   "cell_type": "code",
   "execution_count": 23,
   "metadata": {},
   "outputs": [
    {
     "name": "stdout",
     "output_type": "stream",
     "text": [
      "<b><u>Goodbye, world!</u></b>\n"
     ]
    }
   ],
   "source": [
    "def goodbye():\n",
    "    return \"Goodbye, world!\"\n",
    "\n",
    "## Your solution to FA-9 goes here:\n",
    "\n",
    "decorated_goodbye=make_bold(make_underline(goodbye))\n",
    "\n",
    "###########################\n",
    "\n",
    "print(decorated_goodbye()) # => <b><u>Goodbye, world!</u></b>\n"
   ]
  },
  {
   "cell_type": "markdown",
   "metadata": {},
   "source": [
    "#### FA-10\n",
    "Now let's practice with classes instead of functions. \n",
    "\n",
    " 1) Create a class named `CustomFormatter` with a method `format_text()` which takes _txt_ as argument.\n",
    " 2) Inside `format_text()`, define an inner function that returns `txt`, \n",
    "    and decorate that inner function with *@make_bold*.\n",
    " 3) Return the result of calling the decorated inner function.\n",
    " 4) Test by creating an instance and calling format_text(*\"Hello, world!\"*), then print the result.\n",
    "\n",
    "\n",
    "**Note:** If you are not familiar with Classes and Object Orientation in general, we recommend you read Chapter 20 of The Coder's Apprentice: https://www.spronck.net/pythonbook/pythonbook.pdf\n"
   ]
  },
  {
   "cell_type": "code",
   "execution_count": 24,
   "metadata": {},
   "outputs": [
    {
     "name": "stdout",
     "output_type": "stream",
     "text": [
      "<b>Hello!</b>\n"
     ]
    }
   ],
   "source": [
    "## Your solution to FA-10 goes here:\n",
    "\n",
    "class CustomFormatter():\n",
    "    def _init_(self):\n",
    "        pass\n",
    "\n",
    "    def format_text(txt):\n",
    "        @make_bold\n",
    "        def inner1(): #this is different from inner from the bold decoration function\n",
    "            return txt\n",
    "        return inner1\n",
    "    \n",
    "object1=CustomFormatter #this is instance\n",
    "formatted_text = object1.format_text(\"Hello!\")()\n",
    "###########################\n",
    "\n",
    "print(formatted_text) # => <b>Hello!</b>\n"
   ]
  },
  {
   "cell_type": "markdown",
   "metadata": {},
   "source": [
    "#### FA-11:\n",
    "\n",
    "Create two decorators, `at_working_hours` and `at_leisure_time`, that only execute the decorated function during working hours (e.g. 9am to 5pm) or during leisure time (before 9am or after 5pm), respectively. The decorators should print an informative message when the decorated function is not executed. Keep the function names `fun_activity` and `task` the same.\n",
    "\n",
    "**Note:** You can use `datetime.now().hour` to obtain the current time."
   ]
  },
  {
   "cell_type": "code",
   "execution_count": 25,
   "metadata": {},
   "outputs": [
    {
     "name": "stdout",
     "output_type": "stream",
     "text": [
      "Now it's 11\n",
      "Doing a job-related task. \n",
      "Now it's 11\n",
      "Doing a job-related task. \n"
     ]
    }
   ],
   "source": [
    "from datetime import datetime\n",
    "\n",
    "## Your solution to FA-11 goes here:\n",
    "\n",
    "def at_working_hours(func):\n",
    "    def inner():\n",
    "        if 9<=datetime.now().hour and datetime.now().hour<17:\n",
    "            return func()\n",
    "        else:\n",
    "            return \"No work! work life-balance!\"\n",
    "    return inner\n",
    "def at_leisure_time(func):\n",
    "    def inner():\n",
    "        if datetime.now().hour > 17 or datetime.now().hour<9:\n",
    "            return func()\n",
    "        else:\n",
    "            return \"Not now: Time to work!\"\n",
    "    return inner\n",
    "###########################\n",
    "\n",
    "@at_leisure_time\n",
    "def fun_activity():\n",
    "    print(\"Doing some fun activity.\")\n",
    "\n",
    "@at_working_hours\n",
    "def task():\n",
    "    print(\"Doing a job-related task. \")\n",
    "\n",
    "\n",
    "# The return of these functions will depend on the time you run this code\n",
    "# but what we know for sure is that only one of them will execute the decorated function!\n",
    "\n",
    "# E.g.:\n",
    "print(\"Now it's\", datetime.now().hour) # => Now it's 9\n",
    "fun_activity()  # => Not now: Time to work!\n",
    "task() # => Doing a job-related task.\n",
    "\n",
    "# or\n",
    "print(\"Now it's\", datetime.now().hour) # => Now it's 19\n",
    "fun_activity()  # => Doing some fun activity.\n",
    "task() # => No work! work life-balance!\n"
   ]
  },
  {
   "cell_type": "markdown",
   "metadata": {},
   "source": [
    "###  Passing arguments to a **decorated function**\n",
    "\n",
    "Sometimes we may want to pass arguments to decorated functions. The code below implements a decorator that can be applied to functions receiving any number of arguments. Notice how we accept _*args_ and _**kwargs_ in the inner function.\n",
    "\n",
    "\n",
    "Try to understand what this code does. All the elements identified above in the description of a decorator's anatomy can be found here as well. Try to match them, and see what has been adjusted to decorate functions with arguments. \n",
    "\n",
    "**Note:** the function `blub()` is not very meaningful. It is just a mock simulation of a function that may occasionally cause exceptions (which has been implemented simply as a random draw)."
   ]
  },
  {
   "cell_type": "code",
   "execution_count": 26,
   "metadata": {},
   "outputs": [
    {
     "name": "stdout",
     "output_type": "stream",
     "text": [
      "5\n",
      "1\n",
      "Caught exception! \n",
      "Some exception occurred ...\n",
      "The exception was raised while calling <function blub at 0x000001FE0B917430>                       with args: (7,), kwargs: {}. Retrying\n",
      "5\n",
      "7\n",
      "0\n",
      "Caught exception! \n",
      "Some exception occurred ...\n",
      "The exception was raised while calling <function blub at 0x000001FE0B917430>                       with args: (7,), kwargs: {}. Retrying\n"
     ]
    }
   ],
   "source": [
    "from random import randint\n",
    "\n",
    "# Let's define another decorator, \n",
    "# which is able to decorate a function (fun) that receives arguments:\n",
    "def with_retry(func):\n",
    "    def retried(*args, **kwargs):\n",
    "        for _ in range(5):\n",
    "            try:\n",
    "                func(*args, **kwargs)\n",
    "            except Exception as e:\n",
    "                print(\"Caught exception! {}\".format(e))\n",
    "                print(\"The exception was raised while calling {} \\\n",
    "                      with args: {}, kwargs: {}. Retrying\".format(func, args, kwargs))\n",
    "    return retried\n",
    "\n",
    "@with_retry\n",
    "def blub(m):\n",
    "    rnd = randint(0,m)\n",
    "    print(rnd)\n",
    "    if rnd < m - 2:\n",
    "        raise Exception(\"\\nSome exception occurred ...\")\n",
    "        \n",
    "# You can also decorate blub() without using pie-decorator syntax:\n",
    "# blub = with_retry(blub)  \n",
    "\n",
    "blub(7)\n"
   ]
  },
  {
   "cell_type": "markdown",
   "metadata": {},
   "source": [
    "###  Passing arguments to a **decorator**\n",
    "\n",
    "In the example above, the decorator *with_retry()* has a hardcoded value (the number of trials, which is set to 5). This is not great practice: we would have to write another decorator if, for instance, we need 10 trials instead!\n",
    "\n",
    "To fix this, we can write a decorator which recieves the number of trials as an argument!\n",
    "\n",
    "See how to do this in the example below:"
   ]
  },
  {
   "cell_type": "code",
   "execution_count": 27,
   "metadata": {},
   "outputs": [
    {
     "name": "stdout",
     "output_type": "stream",
     "text": [
      "4\n",
      "Caught exception! Some exception occurred ...\n",
      "The exception was raised while calling <function blub at 0x000001FE0B917700>                       with args: (7,), kwargs: {}. Retrying\n",
      "3\n",
      "Caught exception! Some exception occurred ...\n",
      "The exception was raised while calling <function blub at 0x000001FE0B917700>                       with args: (7,), kwargs: {}. Retrying\n",
      "4\n",
      "Caught exception! Some exception occurred ...\n",
      "The exception was raised while calling <function blub at 0x000001FE0B917700>                       with args: (7,), kwargs: {}. Retrying\n",
      "1\n",
      "Caught exception! Some exception occurred ...\n",
      "The exception was raised while calling <function blub at 0x000001FE0B917700>                       with args: (7,), kwargs: {}. Retrying\n",
      "4\n",
      "Caught exception! Some exception occurred ...\n",
      "The exception was raised while calling <function blub at 0x000001FE0B917700>                       with args: (7,), kwargs: {}. Retrying\n",
      "1\n",
      "Caught exception! Some exception occurred ...\n",
      "The exception was raised while calling <function blub at 0x000001FE0B917700>                       with args: (7,), kwargs: {}. Retrying\n",
      "1\n",
      "Caught exception! Some exception occurred ...\n",
      "The exception was raised while calling <function blub at 0x000001FE0B917700>                       with args: (7,), kwargs: {}. Retrying\n",
      "3\n",
      "Caught exception! Some exception occurred ...\n",
      "The exception was raised while calling <function blub at 0x000001FE0B917700>                       with args: (7,), kwargs: {}. Retrying\n",
      "5\n",
      "5\n"
     ]
    }
   ],
   "source": [
    "from random import randint\n",
    "\n",
    "def with_retry(trials):      # The decorator now has an argument!\n",
    "    def wrap(func):          # Note this additional wrapping layer!!!\n",
    "        def retried(*args, **kwargs):\n",
    "            for _ in range(trials):\n",
    "                try:\n",
    "                    func(*args, **kwargs)\n",
    "                except Exception as e:\n",
    "                    print(\"Caught exception! {}\".format(e))\n",
    "                    print(\"The exception was raised while calling {} \\\n",
    "                      with args: {}, kwargs: {}. Retrying\".format(func, args, kwargs))\n",
    "        return retried\n",
    "    return wrap\n",
    "\n",
    "@with_retry(10) #10 is trials\n",
    "def blub(m): #blub is func and m is *args, **kwargs\n",
    "    rnd = randint(0,m)\n",
    "    print(rnd)\n",
    "    if rnd < m - 2:\n",
    "        raise Exception(\"Some exception occurred ...\")\n",
    "        \n",
    "# Alternative syntax\n",
    "# blub = with_retry(10)(blub)  \n",
    "\n",
    "blub(7)\n"
   ]
  },
  {
   "cell_type": "markdown",
   "metadata": {},
   "source": [
    "#### FA-12\n",
    "\n",
    "Write a decorator named `myDecorator` that takes two functions as arguments.\n",
    "The first function should be called **before** calling the decorated function, while the second function should be called **after** the decorated function. \n",
    "\n",
    "Write also the code to create a decorated function, such that it produces the output specified below.\n"
   ]
  },
  {
   "cell_type": "code",
   "execution_count": 28,
   "metadata": {},
   "outputs": [
    {
     "name": "stdout",
     "output_type": "stream",
     "text": [
      "before\n",
      "main function: hey\n",
      "after\n"
     ]
    }
   ],
   "source": [
    "## Your solution to FA-12 goes here:\n",
    "\n",
    "def myDecorator(f1,f2):\n",
    "    def wrapper(func): #this is decorated_function\n",
    "        def inner(*args,**kwargs): #this is message\n",
    "            f1()\n",
    "            func(*args,**kwargs)\n",
    "            f2()\n",
    "        return inner\n",
    "    return wrapper\n",
    "\n",
    "###########################\n",
    "\n",
    "# Example:\n",
    "@myDecorator(lambda: print(\"before\"), lambda: print(\"after\"))\n",
    "def decorated_function(message):\n",
    "    print(\"main function: \" + message)\n",
    "\n",
    "# Alternative syntax:\n",
    "# decorated_function = myDecorator(lambda: print(\"before\"), lambda: print(\"after\"))(decorated_function)\n",
    "\n",
    "###########################\n",
    "\n",
    "decorated_function(\"hey\") # => prints:  before\n",
    "                          #             main function: hey\n",
    "                          #             after\n"
   ]
  },
  {
   "cell_type": "markdown",
   "metadata": {},
   "source": [
    "#### FA-13:\n",
    "Let's use classes instead of functions again. \n",
    "1) Create a class named `ParamPrinter` with a method `print_param()` that prints _x_.\n",
    "2) Instead of using the pie-syntax, \"manually\" decorate this method with`myDecorator(lambda: print(\"Launching method...\"),lambda: print(\"Method completed!\"))`\n",
    "   \n",
    "4) Test it by calling the decorated version of `print_param()` and print the result.\n",
    "\n"
   ]
  },
  {
   "cell_type": "code",
   "execution_count": 29,
   "metadata": {},
   "outputs": [
    {
     "name": "stdout",
     "output_type": "stream",
     "text": [
      "Launching method...\n",
      "This is a test!\n",
      "Method completed!\n"
     ]
    }
   ],
   "source": [
    "## Your solution to FA-13 goes here:\n",
    "\n",
    "class ParamPrinter:\n",
    "    def __init__(self):\n",
    "        pass\n",
    "    def print_param(self,x):\n",
    "        print(x)\n",
    "\n",
    "###########################\n",
    "\n",
    "printer = ParamPrinter()\n",
    "decorated_method = myDecorator(lambda: print(\"Launching method...\"),lambda: print(\"Method completed!\"))(printer.print_param)\n",
    "decorated_method(\"This is a test!\")\n",
    "\n",
    "# Expected output:\n",
    "# => Launching method...\n",
    "# => This is a test!\n",
    "# => Method completed!\n"
   ]
  },
  {
   "cell_type": "markdown",
   "metadata": {},
   "source": [
    "---"
   ]
  },
  {
   "cell_type": "markdown",
   "metadata": {},
   "source": [
    "## Currying\n",
    "\n",
    "Recall that currying is the process of turning **multi-argument** functions into a **composition of single-argument** functions.\n",
    "\n",
    "Look at the following example of a non-curried function, and a curried one. Play around with it. Can you follow what the curried function is doing at every step?"
   ]
  },
  {
   "cell_type": "code",
   "execution_count": 30,
   "metadata": {
    "tags": []
   },
   "outputs": [
    {
     "name": "stdout",
     "output_type": "stream",
     "text": [
      "Non-curried vs. manual curried example:\n",
      "9\n",
      "9\n"
     ]
    }
   ],
   "source": [
    "# Non-curried function:\n",
    "f = lambda x,y,z: (x + y) * z\n",
    "\n",
    "# Curried function \n",
    "def fcurry(x, *args):\n",
    "    def f1(y, *args):\n",
    "        def f2(z):\n",
    "            return (x + y) * z\n",
    "        if args:\n",
    "            return f2(*args)\n",
    "        return f2\n",
    "    if args:\n",
    "        return f1(*args)\n",
    "    return f1\n",
    "\n",
    "print(\"Non-curried vs. manual curried example:\")\n",
    "print(f(1,2,3))\n",
    "print(fcurry(1,2,3))\n"
   ]
  },
  {
   "cell_type": "markdown",
   "metadata": {},
   "source": [
    "The function above is correct, but it is very convoluted and difficult to read, which makes it impractical and prone to errors. "
   ]
  },
  {
   "cell_type": "markdown",
   "metadata": {},
   "source": [
    "But currying a function is like adding some flavor to it ;), so a natural way to implement currying is to use decorators to add curry to our functions. The `PyMonad` library allows us to do so."
   ]
  },
  {
   "cell_type": "code",
   "execution_count": 31,
   "metadata": {
    "tags": []
   },
   "outputs": [
    {
     "name": "stdout",
     "output_type": "stream",
     "text": [
      "900\n"
     ]
    }
   ],
   "source": [
    "#%pip install PyMonad\n",
    "# (uncomment the above^ line, the first time you run this code)\n",
    "\n",
    "from pymonad.tools import curry\n",
    "\n",
    "@curry(3)     # 3 is the number of arguments we want to curry\n",
    "def f(x,y,z):\n",
    "    return (x+y)*z\n",
    "\n",
    "# We can call the function as we would normally do to obtain the final result:\n",
    "print(f(10,20,30))\n"
   ]
  },
  {
   "cell_type": "code",
   "execution_count": 32,
   "metadata": {
    "tags": []
   },
   "outputs": [
    {
     "name": "stdout",
     "output_type": "stream",
     "text": [
      "<function _curry_helper.<locals>._curry_internal at 0x000001FE0B917CA0>\n"
     ]
    },
    {
     "data": {
      "text/plain": [
       "42"
      ]
     },
     "execution_count": 32,
     "metadata": {},
     "output_type": "execute_result"
    }
   ],
   "source": [
    "# We can also access the intermediate functions. \n",
    "# Since we curried 3 arguments, \n",
    "# we get two intermediate functions before obtaining the final result.\n",
    "\n",
    "# If we call our curried function f with one argument, \n",
    "# it will return the first intermediate function \"specialised\" on that argument. \n",
    "x = 10\n",
    "f1 = f(x)\n",
    "print(f1) #<function _curry_helper.<locals>._curry_internal at 0x00000209F25ED820>\n",
    "\n",
    "# Can you think what does f1 do? What should the following line return?\n",
    "f1(4,3) #it will return the calculation of 10,4 and 3 in this (x+y)*z because I pass the needed 3 arguments\n"
   ]
  },
  {
   "cell_type": "code",
   "execution_count": 33,
   "metadata": {},
   "outputs": [
    {
     "data": {
      "text/plain": [
       "42"
      ]
     },
     "execution_count": 33,
     "metadata": {},
     "output_type": "execute_result"
    }
   ],
   "source": [
    "#notes: Or I can pass them together\n",
    "f(10,4,3)"
   ]
  },
  {
   "cell_type": "code",
   "execution_count": 34,
   "metadata": {},
   "outputs": [
    {
     "data": {
      "text/plain": [
       "<function pymonad.tools._curry_helper.<locals>._curry_internal(*arguments: List[Any])>"
      ]
     },
     "execution_count": 34,
     "metadata": {},
     "output_type": "execute_result"
    }
   ],
   "source": [
    "#notes:\n",
    "# flambda = lambda x,y,z: (x + y) * z\n",
    "\n",
    "# flambda(10)\n",
    "f(10)"
   ]
  },
  {
   "cell_type": "code",
   "execution_count": 35,
   "metadata": {},
   "outputs": [
    {
     "name": "stdout",
     "output_type": "stream",
     "text": [
      "<function _curry_helper.<locals>._curry_internal at 0x000001FE0B906DC0>\n",
      "900\n",
      "True\n",
      "<function _curry_helper.<locals>._curry_internal at 0x000001FE0B91A9D0>\n",
      "900\n"
     ]
    }
   ],
   "source": [
    "# Now we can call the intermediate specialised function f1 with another argument.\n",
    "# In this way, we can access the second intermediate function, \n",
    "# which will be specialised on x and y\n",
    "y = 20\n",
    "f2 = f1(y)\n",
    "print(f2)\n",
    "\n",
    "# f2 is now specialised running the operation with x=1 and y=2.\n",
    "# We can call it with a third argument and get the final result:\n",
    "z = 30\n",
    "print(f2(z))\n",
    "\n",
    "# Check this is the same as calling f with all three arguments\n",
    "print(f(x,y,z) == f2(z))\n",
    "\n",
    "# We can also access the second intermediate function directly \n",
    "# providing 2 arguments to f:\n",
    "f2 = f(x)(y)\n",
    "print(f2)\n",
    "print(f2(z))\n"
   ]
  },
  {
   "cell_type": "markdown",
   "metadata": {},
   "source": [
    "What happens when we curry fewer arguments? \n",
    "\n",
    "#### FA-14: \n",
    "Look at the example below. Can you explain why we get an error? How should we call f1?"
   ]
  },
  {
   "cell_type": "code",
   "execution_count": 36,
   "metadata": {
    "tags": []
   },
   "outputs": [
    {
     "name": "stdout",
     "output_type": "stream",
     "text": [
      "# f(1,2,3): \n",
      "9\n",
      "# First intermediate function:\n",
      "<function _curry_helper.<locals>._curry_internal at 0x000001FE0B91A670>\n"
     ]
    }
   ],
   "source": [
    "@curry(2) #2 means how many levels are allowed and 2 is not how many numbers i have to pass\n",
    "def f(x,y,z):\n",
    "    return (x+y)*z\n",
    "\n",
    "print(\"# f(1,2,3): \")\n",
    "print(f(1,2,3))\n",
    "\n",
    "print(\"# First intermediate function:\")\n",
    "f1 = f(1)\n",
    "print(f1)\n",
    "\n",
    "# print(\"# Second intermediate function:\")\n",
    "#f2 = f1(2) # Error!\n",
    "f2 = f1(2,5)\n",
    "## Add your answer here: ##############################\n",
    "\n",
    "fa10_answer = \"In @curry(2) 2 means how many function levels are allowed and 2 is not how many numbers I have to pass. On the first level I have to pass only one number and the rest of the remaining 2 numbers I have to pass on the second level because no more than 2 levels are allowed. So, f2 = f1(2) needs the number for z e.g. f2 = f1(2,5) then the error will be fixed because I passed all three needed numbers for x,y,z in two levels.\"\n",
    "\n",
    "#######################################################\n",
    "\n",
    "\n",
    "# Curried function \n",
    "# def fcurry(x, *args):\n",
    "#     def f1(y, z):\n",
    "#         return (x + y) * z\n",
    "#     if args:\n",
    "#         return f1(*args)\n",
    "#     return f1"
   ]
  },
  {
   "cell_type": "markdown",
   "metadata": {},
   "source": [
    "Let's look at a more practical example of currying. The following function predicts blood pressure from a number of arguments:  Body Mass Index (BMI), age, sex (a value of 1 means male), and history of previous treatment (a value of 1 means previously treated)."
   ]
  },
  {
   "cell_type": "code",
   "execution_count": 37,
   "metadata": {},
   "outputs": [
    {
     "data": {
      "text/plain": [
       "116.09"
      ]
     },
     "execution_count": 37,
     "metadata": {},
     "output_type": "execute_result"
    }
   ],
   "source": [
    "@curry(4)\n",
    "def systolic_bp(bmi, age, sex_male, treatment):\n",
    "    return 68.15 + (0.58 * bmi) + (0.65 * age) + (0.94 * sex_male) + (6.44 * treatment)\n",
    "\n",
    "# Example: \n",
    "systolic_bp(25, 50, 1, 0) #because I pass all arguments into one function @curry(1) or 2 or 3 will work as well depending on how many levels I want to have\n"
   ]
  },
  {
   "cell_type": "markdown",
   "metadata": {},
   "source": [
    "Since we have curried the function, we can look at the intermediate steps, and create **specialised** functions. Let's say we want to have a function tailored to a patient (*i.e.*, with their BMI, age and sex pre-defined) which we can use to predict blood pressure before and after a treatment:"
   ]
  },
  {
   "cell_type": "code",
   "execution_count": 38,
   "metadata": {},
   "outputs": [
    {
     "name": "stdout",
     "output_type": "stream",
     "text": [
      "Before treatment:   115.15\n",
      "After treatment:    121.59\n"
     ]
    }
   ],
   "source": [
    "bp_patient = systolic_bp(25, 50, 0)\n",
    "\n",
    "treated = 0\n",
    "print(\"Before treatment:{:>9}\".format(bp_patient(treated)))\n",
    "\n",
    "treated = 1\n",
    "print(\"After treatment:{:>10}\".format(bp_patient(treated)))\n"
   ]
  },
  {
   "cell_type": "markdown",
   "metadata": {},
   "source": [
    "#### FA-15\n",
    "\n",
    "A research project is investigating the effect of the BMI and age on the blood pressure, for women who have been previously treated. It would be useful to have a specialised function for that group, such that its only arguments are the BMI and age of the patient. Can you write this specialised function named *bp_treated_women* based on the curried function above? What do you need to change?\n",
    "\n",
    "**Note:** do not forget to write the test of your function to prove it works!"
   ]
  },
  {
   "cell_type": "code",
   "execution_count": 39,
   "metadata": {},
   "outputs": [
    {
     "name": "stdout",
     "output_type": "stream",
     "text": [
      "121.59\n"
     ]
    }
   ],
   "source": [
    "## Your solution to FA-15 goes here:\n",
    "\n",
    "@curry(2)\n",
    "def bp_treated_women(bmi, age):\n",
    "    return 68.15 + (0.58 * bmi) + (0.65 * age)  + 6.44\n",
    "\n",
    "\n",
    "bp = bp_treated_women(25, 50)\n",
    "\n",
    "print(bp)\n",
    "\n",
    "#To pass only two arguments I need only two levels max @curry(2), considering the 3rd parameter as 0 and the 4th as 1 so no need to pass them as arguments.\n",
    "###########################\n"
   ]
  },
  {
   "cell_type": "markdown",
   "metadata": {},
   "source": [
    "---"
   ]
  },
  {
   "cell_type": "markdown",
   "metadata": {},
   "source": [
    "## Partial\n",
    "\n",
    "The `functools` module in Python also gives us the option to work with Partial functions. \n",
    "\n",
    "Partial functions are specialised functions, **bound to certain values**. This makes the Partial design pattern very similar to Currying, to the extent that these two are often confused, so be mindful of this when you search information online! \n",
    "\n",
    "The main difference is that the goal of Currying is to create functions that accept one single argument, while there is no such requirement in Partial Functions. This also results in differences in how they are used. \n",
    "\n",
    "See an example for the specialised `add()` function below:"
   ]
  },
  {
   "cell_type": "code",
   "execution_count": 40,
   "metadata": {},
   "outputs": [
    {
     "name": "stdout",
     "output_type": "stream",
     "text": [
      "3\n",
      "functools.partial(<built-in function add>, 1)\n",
      "3\n"
     ]
    }
   ],
   "source": [
    "from functools import partial\n",
    "from operator import add\n",
    "\n",
    "# The following code creates a function to increment in 1.\n",
    "# It uses composition of single-argument functions (add1, add).\n",
    "# add1 is a specialised case of add\n",
    "def add1(x):\n",
    "    return add(1, x) #x is 2 \n",
    "\n",
    "print(add1(2)) # => 3\n",
    "\n",
    "# Let's implement add1 using Partial\n",
    "#add1 is a veriable name which is a function, add is an inner function like min, max etc. and 1 is the first passed argument\n",
    "add1 = partial(add, 1) # We provide the first argument to obtain a specialised function\n",
    "print(add1)    # add1 is a partial function that always increments in 1\n",
    "#2 is the second passed argument to the first argument=1 so 1+2\n",
    "print(add1(2)) # Returns a value (3)\n"
   ]
  },
  {
   "cell_type": "markdown",
   "metadata": {},
   "source": [
    "Note the difference when doing the same with currying:"
   ]
  },
  {
   "cell_type": "code",
   "execution_count": 41,
   "metadata": {},
   "outputs": [
    {
     "name": "stdout",
     "output_type": "stream",
     "text": [
      "<function _curry_helper.<locals>._curry_internal at 0x000001FE09D0C550>\n",
      "3\n"
     ]
    }
   ],
   "source": [
    "curried_add = curry(2,add) # We need to specify that we curry 2 arguments\n",
    "                           # We still don't provide values\n",
    "print(curried_add)\n",
    "add1 = curried_add(1)      # We need this extra line to get a specialised function\n",
    "print(add1(2))             # Returns a value (3)\n"
   ]
  },
  {
   "cell_type": "markdown",
   "metadata": {},
   "source": [
    "Another example:"
   ]
  },
  {
   "cell_type": "code",
   "execution_count": 42,
   "metadata": {},
   "outputs": [
    {
     "data": {
      "text/plain": [
       "'Result: 8'"
      ]
     },
     "execution_count": 42,
     "metadata": {},
     "output_type": "execute_result"
    }
   ],
   "source": [
    "from functools import partial\n",
    "\n",
    "def operation(x, y, z, message):\n",
    "        return message + ' ' + str(x * (y + z))\n",
    "\n",
    "# Let's create a function that multiplies by 2\n",
    "doublesum = partial(operation, 2) # operation specialised in x = 2\n",
    "doublesum(3,1, \"Result:\")         # Result: 8 #i dont need to write on a separate line because I can write all arguments on one line\n"
   ]
  },
  {
   "cell_type": "markdown",
   "metadata": {},
   "source": [
    "#### FA-16:\n",
    "\n",
    "Turn this example into a specialised function in which x=3 and y=5. Try also specializing on x=3 and y=5 and z=7.  Name the functions `specialised1` and `specialised2`, respectively."
   ]
  },
  {
   "cell_type": "code",
   "execution_count": 43,
   "metadata": {},
   "outputs": [
    {
     "name": "stdout",
     "output_type": "stream",
     "text": [
      "Specialised in x=3 and y=5. Result: 36\n",
      "With x=3 and y=5 and z=7: 36\n"
     ]
    }
   ],
   "source": [
    "## Your solution to FA-16 (part I) goes here:\n",
    "x = 3\n",
    "y = 5\n",
    "z = 7\n",
    "\n",
    "specialised1 = partial(operation, x,y)\n",
    "specialised2 = partial(operation, x,y,z)\n",
    "\n",
    "###########################\n",
    "\n",
    "\n",
    "print(specialised1(7, \"Specialised in x=%i and y=%i. Result:\"%(x,y))) # Specialised in x=3 and y=5: Result: 36\n",
    "\n",
    "print(specialised2(\"With x=%i and y=%i and z=%i:\"%(x,y,z)))           # With x=3 and y=5 and z=7: 36\n",
    "\n"
   ]
  },
  {
   "cell_type": "markdown",
   "metadata": {},
   "source": [
    "Would you be able to specialise the function only on z? Name it *specialised3*."
   ]
  },
  {
   "cell_type": "code",
   "execution_count": 44,
   "metadata": {},
   "outputs": [
    {
     "name": "stdout",
     "output_type": "stream",
     "text": [
      "Specialised in z=7. Result: 36\n"
     ]
    }
   ],
   "source": [
    "## Your solution to FA-16 (part II) goes here:\n",
    "\n",
    "def operation_z(x, y, z, message):\n",
    "        return message + ' ' + str(x * (y + z))\n",
    "\n",
    "specialised3 =  partial(operation, z=z) #Writing z=z to keep the correct order otherwise it will accept z as x because I change the order of passing arguments.\n",
    "\n",
    "###########################\n",
    "\n",
    "print(specialised3(x=x, y=y ,message=\"Specialised in z=%i. Result:\"%(z))) # => Specialised in z=7. Result: 36\n"
   ]
  },
  {
   "cell_type": "markdown",
   "metadata": {},
   "source": [
    "#### FA-17:\n",
    "\n",
    "Create the specialised function *specialised2* with currying instead. \n",
    "What is the main difference?"
   ]
  },
  {
   "cell_type": "code",
   "execution_count": 45,
   "metadata": {},
   "outputs": [
    {
     "name": "stdout",
     "output_type": "stream",
     "text": [
      "With x=3 and y=5 and z=7: 36\n"
     ]
    }
   ],
   "source": [
    "## Your solution to FA-17 goes here:\n",
    "specialised2=curry(4,operation)\n",
    "specialised2_currying = specialised2(x,y)\n",
    "\n",
    "fa17_main_difference = \"In currying I need second line specialised2_currying = specialised2(x,y) to complete the specialised function becuase I cannot pass arguments of the function in curry function curry(4,operation) because in curry function I pass only the level and the name of the function.\"\n",
    "\n",
    "###########################\n",
    "\n",
    "print(specialised2_currying(z,\"With x=%i and y=%i and z=%i:\"%(x,y,z))) # With x=3 and y=5 and z=7: 36\n"
   ]
  },
  {
   "cell_type": "markdown",
   "metadata": {},
   "source": [
    "---"
   ]
  },
  {
   "cell_type": "markdown",
   "metadata": {
    "tags": []
   },
   "source": [
    "# Closures\n",
    "\n",
    "Finally, another way to have specialised functions is the use of Closures.\n",
    "\n",
    "A closure is a function that has **bound** variables, *i.e.*, it stores some variables and their values in a referencing environment. A function with **a closure can reference a variable that was available in the scope where the function was originally defined, but which would normally not be available in the scope where it is executed** (if all of this sounds very foreign, please revisit the contents of Module 1!).\n",
    "\n",
    "Check the example below. For simplicity, the  `inner()` function returned by `pop_up()` only prints a text message through the standard output, but this example would be equivalent if `inner()` incorporated a more complex way to visualise the message (*e.g.*, launching a pop-up window)."
   ]
  },
  {
   "cell_type": "code",
   "execution_count": 46,
   "metadata": {},
   "outputs": [
    {
     "name": "stdout",
     "output_type": "stream",
     "text": [
      "Hello!\n",
      "Content of the closure: Hello!\n",
      "Hello!\n",
      "Passing by\n",
      "Error!\n",
      "Passing by\n",
      "Error!\n",
      "Hello!\n",
      "Error!\n"
     ]
    }
   ],
   "source": [
    "def pop_up(message): #defining message here or on the next line means the same   \n",
    "    #message can be definied here as well \n",
    "    def inner():\n",
    "        # When we define this function, message is in the scope of the pop_up() function\n",
    "        print(message)      \n",
    "    # When returning the inner function, the message variable (and its value!) will be \n",
    "    # provided together with inner, as a closure (!)\n",
    "    return inner #no () so it can return the details of the f-n and not calling the f-n\n",
    "\n",
    "\n",
    "# We can create specialised functions using the closure\n",
    "greeter = pop_up('Hello!') #this is ==inner after the return above #this does not access the inner() func but only: pop_up(message)\n",
    "\n",
    "# We can now use the function without providing any argument:\n",
    "greeter() #Hello! #in closure when calling the func, the arguments are not provided second time\n",
    "\n",
    "# The code above works because the message was stored in an attribute of the function called __closure__:\n",
    "print(\"Content of the closure:\", greeter.__closure__[0].cell_contents) #greeter has a function closure and closure has cell.contents printing the content of greeter== Hello!\n",
    "\n",
    "# We can create other specialised functions\n",
    "checkpoint = pop_up('Passing by')\n",
    "error = pop_up('Error!')\n",
    "\n",
    "# And we can use them as many times as we want elsewhere in our code\n",
    "greeter()\n",
    "checkpoint()\n",
    "error()\n",
    "checkpoint()\n",
    "\n",
    "\n",
    "# Compare this to a version without closures:\n",
    "def no_closure_pop_up(message):\n",
    "    print(message)\n",
    "    \n",
    "no_closure_pop_up('Error!')\n",
    "\n",
    "no_closure_pop_up('Hello!')\n",
    "\n",
    "no_closure_pop_up('Error!') # We need to provide the argument each time!"
   ]
  },
  {
   "cell_type": "markdown",
   "metadata": {},
   "source": [
    "#### FA-18: \n",
    "\n",
    "Examine the example above. What is the advantage of using closures? Think about code maintenance. For example, imagine you have a big project, and in multiple places your code launches a greeting pop-up. In the future, you may want to change this greeting. How do closures help for that? What would be alternative implementations, and what would be their relative advantages and disadvantages?"
   ]
  },
  {
   "cell_type": "code",
   "execution_count": 48,
   "metadata": {},
   "outputs": [],
   "source": [
    "## Add your answers to FA-18 here: ##############################\n",
    "\n",
    "fa18_answer = \"Advantages of closure:We do not have to pass an argument every time we call the function, once is enough and after we call the f-n just with (). Closure avoids side effects like other f-ns cannot modify the nonglobal variable. Disadvantages of closure: Alternative implementation is using a global keyword but global variables are accessible anywhere.; Calling the outer function second time with different greeting, this is the way of changing the greeting. Altrenative implementation of closure, to use the global variable. Advantages of global: If you want to make a variable public, it can be accessed easily by other people. Disadvantages of global: No private variable when using global, so all global variables can be modified by any function.\"\n",
    "\n",
    "################################################################\n"
   ]
  },
  {
   "cell_type": "markdown",
   "metadata": {},
   "source": [
    "#### FA-19:\n",
    "\n",
    "The function defined below applies a tax rate to an amount (price). Implement and test a variant that uses closures. Name it `taxer_closure`. Which variable(s) will you add to the closure?"
   ]
  },
  {
   "cell_type": "code",
   "execution_count": 49,
   "metadata": {},
   "outputs": [
    {
     "name": "stdout",
     "output_type": "stream",
     "text": [
      "595.0\n",
      "94.01\n",
      "32.1\n"
     ]
    }
   ],
   "source": [
    "def taxer(amount, rate):\n",
    "    return amount + (amount * (float(rate)) / 100 )\n",
    "\n",
    "price1 = 500\n",
    "# Apply taxes:\n",
    "price1 = taxer(price1, 19)\n",
    "print(price1)\n",
    "price2 = 79\n",
    "# Apply same tax:\n",
    "price2 = taxer(price2, 19)\n",
    "print(price2)\n",
    "\n",
    "price3 = 30\n",
    "# This one requires another tax\n",
    "price3 = taxer(price3, 7)\n",
    "print(price3)\n"
   ]
  },
  {
   "cell_type": "code",
   "execution_count": 50,
   "metadata": {},
   "outputs": [
    {
     "name": "stdout",
     "output_type": "stream",
     "text": [
      "595.0\n",
      "94.01\n"
     ]
    },
    {
     "data": {
      "text/plain": [
       "32.1"
      ]
     },
     "execution_count": 50,
     "metadata": {},
     "output_type": "execute_result"
    }
   ],
   "source": [
    "## Your solution to FA-19 goes here:\n",
    "\n",
    "def taxer_closure(rate):\n",
    "    def taxer(amount):\n",
    "        return amount + (amount * (float(rate)) / 100 )\n",
    "    return taxer\n",
    "\n",
    "price1 = taxer_closure(19)\n",
    "print(price1(500))\n",
    "print(price1(79))\n",
    "\n",
    "# if we want ti change the tax rate then need to call the taxer_closure again\n",
    "\n",
    "price2 = taxer_closure(7)\n",
    "price2(30)\n",
    "\n",
    "###########################\n"
   ]
  },
  {
   "cell_type": "markdown",
   "metadata": {},
   "source": [
    "#### FA-20:\n",
    "Now let's use classes again instead of functions. Create a simple class called `FixedTaxer` that receives one parameter `rate` in constructorInside it, define a method `apply_tax()` that returns a closure which, when called with an *amount* as input, applies the stored tax rate."
   ]
  },
  {
   "cell_type": "code",
   "execution_count": 51,
   "metadata": {},
   "outputs": [
    {
     "name": "stdout",
     "output_type": "stream",
     "text": [
      "For rate=19 and amount=100: 119.0\n",
      "For rate=7 and amount=200: 214.0\n"
     ]
    }
   ],
   "source": [
    "## Your solution to FA-20 goes here:\n",
    "#usually return closure means  to crite inner() and return inner\n",
    "class FixedTaxer():\n",
    "    def __init__(self,rate):\n",
    "        self.rate=rate\n",
    "    def apply_tax(self): #no argument here because when we call there is no arg either: closure_19 = taxer_19.apply_tax()\n",
    "        def inner(amount):\n",
    "            return amount + (amount * (float(self.rate)) / 100 )\n",
    "        return inner\n",
    "\n",
    "\n",
    "###########################\n",
    "\n",
    "taxer_19 = FixedTaxer(19) #19 is rate\n",
    "closure_19 = taxer_19.apply_tax() #calling the function; returns inner\n",
    "result_19 = closure_19(100) #calling the func inner(amount); returns: amount + (amount * (float(self.rate)) / 100 ) \n",
    "print(\"For rate=19 and amount=100:\", result_19) # For rate=19 and amount=100: 119.0\n",
    "\n",
    "taxer_7 = FixedTaxer(7)\n",
    "closure_7 = taxer_7.apply_tax()\n",
    "result_7 = closure_7(200)\n",
    "print(\"For rate=7 and amount=200:\", result_7)   # For rate=7 and amount=200: 214.0\n"
   ]
  },
  {
   "cell_type": "markdown",
   "metadata": {},
   "source": [
    "## Final words:\n",
    "The four design patterns that we have seen in this Module are very related: they provide some form of function decorations or specialisations, and implement that with the use of higher-order functions or function composition. Beware of the differences between them and the nuances in their implementation!"
   ]
  },
  {
   "cell_type": "markdown",
   "metadata": {},
   "source": [
    "## References:\n",
    "* Notebook adapted and extended from Martin Atzmueller, Materials for Advanced Programming for CSAI (2019)."
   ]
  }
 ],
 "metadata": {
  "kernelspec": {
   "display_name": "Python 3 (ipykernel)",
   "language": "python",
   "name": "python3"
  },
  "language_info": {
   "codemirror_mode": {
    "name": "ipython",
    "version": 3
   },
   "file_extension": ".py",
   "mimetype": "text/x-python",
   "name": "python",
   "nbconvert_exporter": "python",
   "pygments_lexer": "ipython3",
   "version": "3.9.7"
  }
 },
 "nbformat": 4,
 "nbformat_minor": 4
}
