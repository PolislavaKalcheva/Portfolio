{
 "cells": [
  {
   "cell_type": "markdown",
   "metadata": {},
   "source": [
    "# Module 1: Functional Programming I\n",
    "Course: Advanced Programming for CSAI (Spring 2025)\n"
   ]
  },
  {
   "cell_type": "markdown",
   "metadata": {},
   "source": [
    "## Introduction to the course notebooks\n",
    "\n",
    "In this course, we will make extensive use of Jupyter Notebooks, with Python 3+. \n",
    "\n",
    "You are advised to work on these notebooks after, or in parallel to, consulting other materials of the module, such as the slide deck and book chapters. The notebooks contain examples and exercises that should help you understand and apply the concepts introduced in the rest of materials. You may also use the official Python docs: https://docs.python.org/3/.\n",
    "\n",
    "Do not hesitate to be creative when trying out the examples: you can play with the code. You can try variants of the examples and exercises, print values of the variables to understand what is going on at every step, and come up with different solutions to the same exercise and think about relative advantages of each one.\n",
    "\n",
    "The notebook contains formative assignments. These are indicated as FA-n, where n is a number id. As explained in the course guide, you have to submit these. **FA-n questions with no answer, whether you are asked to write an explanation, a code snippet, or both, will be considered incomplete**. Therefore, give it your best effort. If your solution does not work or you think it is inadequate, add a comment explaining what you were trying to achieve.\n",
    "\n",
    "To submit the formative assignments, we ask you to upload the filled-in notebook. The notebook you upload should contain *at least* the formative assigments. It's not a problem if you upload the notebook with additional code, like the variants and tests mentioned above. However, to grade your assignments, we will only look at the answers to the requested exercises (those indicated with FA-n), so **make sure you store your answers in the corresponding variables and/or to name your functions as indicated**.\n",
    "\n",
    "Optional exercises are, as the name indicates, not mandatory for the formative assignments. These are exercises that suggest you to create an alternative approach, or which propose a longer problem that allows for the integration of earlier concepts in one solution; in general, they present scenarios where you can be more creative. To make the most of the course, it is best to try them out and share your solutions on the Discussion Board, so that your peers can comment on them. You are also encouraged to comment on the exercises of your fellow students. This will help you sharpen your evaluation skills, which is a great asset in programming, as in turn this will help you devise more robust, efficient and maintainable solutions. \n",
    "\n",
    "### /!\\ Before submitting your notebook\n",
    "\n",
    "Please check it can be ran without errors! You can check this by pressing kernel --> restart and run all before submitting. If it does not run without errors, it is your **responsibility** to fix the problem(s) either by resolving the bug(s) in your code, or by commenting it out along with some comments.\n",
    "\n",
    "---\n"
   ]
  },
  {
   "cell_type": "markdown",
   "metadata": {},
   "source": [
    "## Introduction to the course notebooks\n",
    "\n",
    "In this course, we will make extensive use of Jupyter Notebooks, with Python 3+. \n",
    "\n",
    "You are advised to work on these notebooks after, or in parallel to, consulting other materials of the module, such as the slide deck and book chapters. The notebooks contain examples and exercises that should help you understand and apply the concepts introduced in the rest of materials. You may also use the official Python docs: https://docs.python.org/3/.\n",
    "\n",
    "Do not hesitate to be creative when trying out the examples: you can play with the code. You can try variants of the examples and exercises, print values of the variables to understand what is going on at every step, and come up with different solutions to the same exercise and think about relative advantages of each one.\n",
    "\n",
    "The notebook contains formative assignments. These are indicated as FA-n, where n is a number id. As explained in the course guide, you have to submit these. **FA-n questions with no answer, whether you are asked to write an explanation, a code snippet, or both, will be considered incomplete**. Therefore, give it your best effort. If your solution does not work or you think it is inadequate, add a comment explaining what you were trying to achieve.\n",
    "\n",
    "To submit the formative assignments, we ask you to upload the filled-in notebook. The notebook you upload should contain *at least* the formative assigments. It's not a problem if you upload the notebook with additional code, like the variants and tests mentioned above. However, to grade your assignments, we will only look at the answers to the requested exercises (those indicated with FA-n), so **make sure you store your answers in the corresponding variables and/or to name your functions as indicated**.\n",
    "\n",
    "Optional exercises are, as the name indicates, not mandatory for the formative assignments. These are exercises that suggest you to create an alternative approach, or which propose a longer problem that allows for the integration of earlier concepts in one solution; in general, they present scenarios where you can be more creative. To make the most of the course, it is best to try them out and share your solutions on the Discussion Board, so that your peers can comment on them. You are also encouraged to comment on the exercises of your fellow students. This will help you sharpen your evaluation skills, which is a great asset in programming, as in turn this will help you devise more robust, efficient and maintainable solutions. \n",
    "\n",
    "### /!\\ Before submitting your notebook\n",
    "\n",
    "Please check it can be ran without errors! You can check this by pressing kernel --> restart and run all before submitting. If it does not run without errors, it is your **responsibility** to fix the problem(s) either by resolving the bug(s) in your code, or by commenting it out along with some comments.\n",
    "\n",
    "---\n"
   ]
  },
  {
   "cell_type": "markdown",
   "metadata": {},
   "source": [
    "# The Environment"
   ]
  },
  {
   "cell_type": "code",
   "execution_count": 2,
   "metadata": {},
   "outputs": [
    {
     "name": "stdout",
     "output_type": "stream",
     "text": [
      "2\n",
      "All local environment variables:\n",
      " {'__name__': '__main__', '__doc__': 'Automatically created module for IPython interactive environment', '__package__': None, '__loader__': None, '__spec__': None, '__builtin__': <module 'builtins' (built-in)>, '__builtins__': <module 'builtins' (built-in)>, '_ih': ['', 'products = [\\n    (\"Laptop\", \"Electronics\", 1200.50),\\n    (\"Smartphone\", \"Electronics\", 899.99),\\n    (\"Desk\", \"Furniture\", 250.00),\\n    (\"Chair\", \"Furniture\", 120.75),\\n    (\"Headphones\", \"Electronics\", 199.95),\\n    (\"Sofa\", \"Furniture\", 999.99)\\n]', 'x = 2    # This creates variable x and assign it the value \"2\"\\n\\nprint(x) # We can read the content of this variable because it is stored in the environment\\n\\n# In this case, the variable is in the local environment\\n# You can actually find out what else is in the local environment\\nprint(\"All local environment variables:\\\\n\", locals())\\n\\n# Note that locals() returns a dictionary, so we can also directly find our variable \"x\" in that dictionary:\\nprint(locals()[\"x\"]) \\n     #locals() is Dictionary and [\\'x\\'] is the key <==> D[\\'x\\'] returning the value 2'], '_oh': {}, '_dh': [WindowsPath('C:/Users/polis/Downloads/AP 2nd time/L1')], 'In': ['', 'products = [\\n    (\"Laptop\", \"Electronics\", 1200.50),\\n    (\"Smartphone\", \"Electronics\", 899.99),\\n    (\"Desk\", \"Furniture\", 250.00),\\n    (\"Chair\", \"Furniture\", 120.75),\\n    (\"Headphones\", \"Electronics\", 199.95),\\n    (\"Sofa\", \"Furniture\", 999.99)\\n]', 'x = 2    # This creates variable x and assign it the value \"2\"\\n\\nprint(x) # We can read the content of this variable because it is stored in the environment\\n\\n# In this case, the variable is in the local environment\\n# You can actually find out what else is in the local environment\\nprint(\"All local environment variables:\\\\n\", locals())\\n\\n# Note that locals() returns a dictionary, so we can also directly find our variable \"x\" in that dictionary:\\nprint(locals()[\"x\"]) \\n     #locals() is Dictionary and [\\'x\\'] is the key <==> D[\\'x\\'] returning the value 2'], 'Out': {}, 'get_ipython': <bound method InteractiveShell.get_ipython of <ipykernel.zmqshell.ZMQInteractiveShell object at 0x000001C1ED286F70>>, 'exit': <IPython.core.autocall.ZMQExitAutocall object at 0x000001C1ED2A5B50>, 'quit': <IPython.core.autocall.ZMQExitAutocall object at 0x000001C1ED2A5B50>, 'open': <function open at 0x000001C1EB662EE0>, '_': '', '__': '', '___': '', '_i': 'products = [\\n    (\"Laptop\", \"Electronics\", 1200.50),\\n    (\"Smartphone\", \"Electronics\", 899.99),\\n    (\"Desk\", \"Furniture\", 250.00),\\n    (\"Chair\", \"Furniture\", 120.75),\\n    (\"Headphones\", \"Electronics\", 199.95),\\n    (\"Sofa\", \"Furniture\", 999.99)\\n]', '_ii': '', '_iii': '', '_i1': 'products = [\\n    (\"Laptop\", \"Electronics\", 1200.50),\\n    (\"Smartphone\", \"Electronics\", 899.99),\\n    (\"Desk\", \"Furniture\", 250.00),\\n    (\"Chair\", \"Furniture\", 120.75),\\n    (\"Headphones\", \"Electronics\", 199.95),\\n    (\"Sofa\", \"Furniture\", 999.99)\\n]', 'products': [('Laptop', 'Electronics', 1200.5), ('Smartphone', 'Electronics', 899.99), ('Desk', 'Furniture', 250.0), ('Chair', 'Furniture', 120.75), ('Headphones', 'Electronics', 199.95), ('Sofa', 'Furniture', 999.99)], '_i2': 'x = 2    # This creates variable x and assign it the value \"2\"\\n\\nprint(x) # We can read the content of this variable because it is stored in the environment\\n\\n# In this case, the variable is in the local environment\\n# You can actually find out what else is in the local environment\\nprint(\"All local environment variables:\\\\n\", locals())\\n\\n# Note that locals() returns a dictionary, so we can also directly find our variable \"x\" in that dictionary:\\nprint(locals()[\"x\"]) \\n     #locals() is Dictionary and [\\'x\\'] is the key <==> D[\\'x\\'] returning the value 2', 'x': 2}\n",
      "2\n"
     ]
    }
   ],
   "source": [
    "x = 2    # This creates variable x and assign it the value \"2\"\n",
    "\n",
    "print(x) # We can read the content of this variable because it is stored in the environment\n",
    "\n",
    "# In this case, the variable is in the local environment\n",
    "# You can actually find out what else is in the local environment\n",
    "print(\"All local environment variables:\\n\", locals())\n",
    "\n",
    "# Note that locals() returns a dictionary, so we can also directly find our variable \"x\" in that dictionary:\n",
    "print(locals()[\"x\"]) \n",
    "     #locals() is Dictionary and ['x'] is the key <==> D['x'] returning the value 2"
   ]
  },
  {
   "cell_type": "code",
   "execution_count": 3,
   "metadata": {},
   "outputs": [
    {
     "name": "stdout",
     "output_type": "stream",
     "text": [
      "<function multiply_by_three at 0x000001C1ED2FE5E0>\n"
     ]
    }
   ],
   "source": [
    "# Functions are also stored in local environment:\n",
    "def multiply_by_three(arg):\n",
    "    result = arg * 3  # Multiply the argument by 3\n",
    "    return result\n",
    "\n",
    "# You can see it here (commented to avoid long print ;) ) \n",
    "#print(locals()) #if i print only this line, it prints a dictionary and the answers inside it in the end\n",
    "# print(multiply_by_three)\n",
    "# Or to find our function quickly:\n",
    "print(locals()[\"multiply_by_three\"]) #this is the same as print(multiply_by_three)\n"
   ]
  },
  {
   "cell_type": "code",
   "execution_count": 4,
   "metadata": {},
   "outputs": [
    {
     "name": "stdout",
     "output_type": "stream",
     "text": [
      "temp: 20\n",
      "arg: 4\n",
      "['ArithmeticError', 'AssertionError', 'AttributeError', 'BaseException', 'BlockingIOError', 'BrokenPipeError', 'BufferError', 'BytesWarning', 'ChildProcessError', 'ConnectionAbortedError', 'ConnectionError', 'ConnectionRefusedError', 'ConnectionResetError', 'DeprecationWarning', 'EOFError', 'Ellipsis', 'EnvironmentError', 'Exception', 'False', 'FileExistsError', 'FileNotFoundError', 'FloatingPointError', 'FutureWarning', 'GeneratorExit', 'IOError', 'ImportError', 'ImportWarning', 'IndentationError', 'IndexError', 'InterruptedError', 'IsADirectoryError', 'KeyError', 'KeyboardInterrupt', 'LookupError', 'MemoryError', 'ModuleNotFoundError', 'NameError', 'None', 'NotADirectoryError', 'NotImplemented', 'NotImplementedError', 'OSError', 'OverflowError', 'PendingDeprecationWarning', 'PermissionError', 'ProcessLookupError', 'RecursionError', 'ReferenceError', 'ResourceWarning', 'RuntimeError', 'RuntimeWarning', 'StopAsyncIteration', 'StopIteration', 'SyntaxError', 'SyntaxWarning', 'SystemError', 'SystemExit', 'TabError', 'TimeoutError', 'True', 'TypeError', 'UnboundLocalError', 'UnicodeDecodeError', 'UnicodeEncodeError', 'UnicodeError', 'UnicodeTranslateError', 'UnicodeWarning', 'UserWarning', 'ValueError', 'Warning', 'WindowsError', 'ZeroDivisionError', '__IPYTHON__', '__build_class__', '__debug__', '__doc__', '__import__', '__loader__', '__name__', '__package__', '__spec__', 'abs', 'all', 'any', 'ascii', 'bin', 'bool', 'breakpoint', 'bytearray', 'bytes', 'callable', 'chr', 'classmethod', 'compile', 'complex', 'copyright', 'credits', 'delattr', 'dict', 'dir', 'display', 'divmod', 'enumerate', 'eval', 'exec', 'execfile', 'filter', 'float', 'format', 'frozenset', 'get_ipython', 'getattr', 'globals', 'hasattr', 'hash', 'help', 'hex', 'id', 'input', 'int', 'isinstance', 'issubclass', 'iter', 'len', 'license', 'list', 'locals', 'map', 'max', 'memoryview', 'min', 'next', 'object', 'oct', 'open', 'ord', 'pow', 'print', 'property', 'range', 'repr', 'reversed', 'round', 'runfile', 'set', 'setattr', 'slice', 'sorted', 'staticmethod', 'str', 'sum', 'super', 'tuple', 'type', 'vars', 'zip']\n"
     ]
    }
   ],
   "source": [
    "# Variables inside a function are local to that function:\n",
    "# It means the variables which we defined in a function become part of the local namespace only while we are inside that function:\n",
    "def example_function(arg): #all the variables are only bounded in the local environment of this specific function\n",
    "    #all variables are arg, and all thing below\n",
    "    temp = arg * 5\n",
    "    print(\"temp:\", locals()[\"temp\"])\n",
    "    print(\"arg:\", locals()[\"arg\"])\n",
    "    return temp\n",
    "\n",
    "example_function(4)\n",
    "\n",
    "# But as you know, we cannot access the variables in example_function when we are outside the function.\n",
    "# The following call should fail:\n",
    "\n",
    "# print(temp)    #uncomment to see it fail\n",
    "# As you can see, the error of this function is actually known to you: it's a NameError exception!\n",
    "# Now you should understand what happens before the NameError exception takes place: the Python interpreter tries to access a variable that is not in the environment.\n",
    "\n",
    "# It would first look into locals(), then globals(), then builtins.\n",
    "# Note: for builtins there is no function that returns a dictionary, we need to import them directly:\n",
    "# Uncomment the following lines to try.\n",
    "\n",
    "#builtin func are the standard keywords/functions in python\n",
    "import builtins\n",
    "dir(builtins)\n",
    "print(dir(builtins))\n"
   ]
  },
  {
   "cell_type": "markdown",
   "metadata": {},
   "source": [
    "## Pure functions\n",
    "\n",
    "Pure functions always produce the same output for the same input \n",
    "and do not modify the external environment.\n",
    "\n",
    "\n",
    "Look at the following function. Do you think this function is pure?\n"
   ]
  },
  {
   "cell_type": "code",
   "execution_count": 5,
   "metadata": {},
   "outputs": [
    {
     "name": "stdout",
     "output_type": "stream",
     "text": [
      "16\n"
     ]
    }
   ],
   "source": [
    "def add_and_multiply(a, b):\n",
    "    result = (a + b) * 2  # Add the arguments and multiply the result by 2\n",
    "    return result #this is the return value; if this was print() it will not affect the environment\n",
    "\n",
    "c = add_and_multiply(3, 5) #this lines affect the environment\n",
    "\n",
    "# This function will always return the same value for 3 and 5. Why?\n",
    "\n",
    "# 1) Does the function depend on the state of the environment?\n",
    "# To answer this question, we have to look at whether the function needs anything from the\n",
    "# environment *outside the function*. This is not true: this function only depends on its local variables.\n",
    "# Note: the arguments given to the function become part of its local scope.\n",
    "\n",
    "# 2) Does the function modify the environment?\n",
    "# Pure functions can only affect the environment with their return value. \n",
    "# After this function finishes, the only change in the environment is indeed that c is created and takes the returned value. \n",
    "# The rest remains the same.\n",
    "\n",
    "# Therefore, this function is pure.\n",
    "\n",
    "print(c) # Output: 16\n"
   ]
  },
  {
   "cell_type": "markdown",
   "metadata": {},
   "source": [
    "#### FA-1:\n",
    "\n",
    "Analyse the following `modify_list()` function. Is it pure? Why or why not?"
   ]
  },
  {
   "cell_type": "code",
   "execution_count": 6,
   "metadata": {},
   "outputs": [
    {
     "name": "stdout",
     "output_type": "stream",
     "text": [
      "[0, 6, 'bla', 4]\n"
     ]
    }
   ],
   "source": [
    "def modify_list(list1, list2):\n",
    "    list2.append('bla')\n",
    "    list2.extend(list1)\n",
    "    c = [x for i,x in enumerate(list2) if i%2 == 0]\n",
    "    return c\n",
    "\n",
    "list1 = [3,4,5]\n",
    "list2 = [0,8,6,4]\n",
    "\n",
    "print(modify_list(list1, list2)) #because there is return inside the func, this print statement is replaced by list3\n"
   ]
  },
  {
   "cell_type": "markdown",
   "metadata": {},
   "source": [
    "Run the following code and see what happened to the arguments after calling the function.  \n",
    "a) Why does this happen?  \n",
    "b) What does this say about the purity of this function?"
   ]
  },
  {
   "cell_type": "code",
   "execution_count": 7,
   "metadata": {},
   "outputs": [
    {
     "name": "stdout",
     "output_type": "stream",
     "text": [
      "[3, 4, 5]\n",
      "[0, 8, 6, 4, 'bla', 3, 4, 5]\n"
     ]
    }
   ],
   "source": [
    "print(list1)\n",
    "print(list2)\n",
    "\n",
    "## Add your answers to FA-1 here: ##############################\n",
    "\n",
    "fa1_answer_a = \"It uses the outside-enviroment variables (list1 and list2) and changing them permenantly. So when I print list1 and list2 again after calling the function I can see the modified values.\"\n",
    "\n",
    "fa1_answer_b = \"The function is not pure because it has side effects and affect the global variables. Because of append and extend function modify the input lists, which effect their values outside the function, thus it violates the rule of a pure function.\"\n",
    "\n",
    "################################################################\n"
   ]
  },
  {
   "cell_type": "code",
   "execution_count": 8,
   "metadata": {},
   "outputs": [
    {
     "name": "stdout",
     "output_type": "stream",
     "text": [
      "8 [1, 2]\n",
      "9 [1, 2, 3]\n",
      "9\n",
      "8 [1, 2]\n"
     ]
    }
   ],
   "source": [
    "#notes:\n",
    "def hello(a,l1):\n",
    "    l1 = l1.copy() #creating a copy will not use the global variable l1\n",
    "    l1.append(3) #append func will always change the original list. and the copy will bacome the original list\n",
    "    a += 1\n",
    "    print(a,l1)\n",
    "    return a\n",
    "    \n",
    "    \n",
    "a= 8 #if I have this variable only type integer, the local function will not change this global variable\n",
    "l1 = [1,2] #if I have list global var, the local function will change this global variable only I do not create a copy of this global variable\n",
    "print(a,l1)\n",
    "print(hello(a,l1))\n",
    "print(a,l1)"
   ]
  },
  {
   "cell_type": "markdown",
   "metadata": {},
   "source": [
    "#### FA-2:\n",
    "\n",
    "Is the `toggle_state()` function pure? Explain your reasoning."
   ]
  },
  {
   "cell_type": "code",
   "execution_count": 9,
   "metadata": {},
   "outputs": [
    {
     "name": "stdout",
     "output_type": "stream",
     "text": [
      "0\n",
      "1\n"
     ]
    }
   ],
   "source": [
    "state = 0    \n",
    "\n",
    "def toggle_state():\n",
    "    global state\n",
    "    state = 1 if not state else 0\n",
    "    \n",
    "print(state)  #this prints the global variable directly   \n",
    "toggle_state()\n",
    "print(state)  #this prints the inside function variable state   \n",
    "\n",
    "## Add your answer here: ##############################\n",
    "\n",
    "fa2_answer = \"The function is not pure. The keyword global (inside the function) is used which gives access to the outside-environment variable state. If I change that state, it will affect the outside-environment variable state.\"\n",
    "\n",
    "#######################################################\n"
   ]
  },
  {
   "cell_type": "markdown",
   "metadata": {},
   "source": [
    "#### FA-3:\n",
    "\n",
    "Examine this version of `toggle_state()`. Is it pure? Why or why not?"
   ]
  },
  {
   "cell_type": "code",
   "execution_count": 10,
   "metadata": {},
   "outputs": [
    {
     "name": "stdout",
     "output_type": "stream",
     "text": [
      "0\n",
      "1\n"
     ]
    }
   ],
   "source": [
    "\n",
    "state = 0 \n",
    "\n",
    "def toggle_state(state):\n",
    "    state = 1 if not state else 0\n",
    "    return state\n",
    "    \n",
    "print(state)\n",
    "state = toggle_state(state)\n",
    "print(state)\n",
    "\n",
    "\n",
    "## Add your answer here: ##############################\n",
    "\n",
    "fa3_answer = \"The function is a pure function because it satisfies the purity conditions - 1) same input and same output,regardless of what state is, the function changes the state inside the function but never affect the outside variable; 2) it does not modify the external state input, it makes a copy of state inside the function. It changes the outside environment only with its return value.\"\n",
    "\n",
    "#######################################################\n"
   ]
  },
  {
   "cell_type": "markdown",
   "metadata": {},
   "source": [
    "### Lambda functions\n",
    "\n",
    "\n",
    "A recap: `Lambda` expressions allow us to create __anonymous__ functions.\n",
    "These functions are restricted to a single expression.\n",
    "\n"
   ]
  },
  {
   "cell_type": "code",
   "execution_count": 11,
   "metadata": {},
   "outputs": [
    {
     "name": "stdout",
     "output_type": "stream",
     "text": [
      "3\n",
      "3\n",
      "-4.\n"
     ]
    }
   ],
   "source": [
    "#notes:\n",
    "def hi1(x):\n",
    "    return x+1\n",
    "\n",
    "hi2=lambda x: x+1 #this is like return so not None in the end\n",
    "\n",
    "print(hi1(2))\n",
    "print(hi2(2))\n",
    "# argument is x; the return is the x+1 \n",
    "\n",
    "hello = lambda x: print(\"-{}.\".format(x)) #because we have print and not return here, it will always give None \n",
    "hello(4) #if i write it this way it works like print but donesnt None in then end and  print(hello(4)) works the same but adds None."
   ]
  },
  {
   "cell_type": "code",
   "execution_count": 12,
   "metadata": {},
   "outputs": [
    {
     "name": "stdout",
     "output_type": "stream",
     "text": [
      "-bla.\n"
     ]
    }
   ],
   "source": [
    "# Example of defining a lambda function:\n",
    "lambda x: print(\"-{}.\".format(x))\n",
    "\n",
    "# However, we cannot call it because it does not have a name!\n",
    "\n",
    "# For calling a lambda function, we can assign it to a variable:\n",
    "foo = lambda x: print(\"-{}.\".format(x))\n",
    "\n",
    "# And now we can call it:\n",
    "foo(\"bla\")       # Output: -bla."
   ]
  },
  {
   "cell_type": "code",
   "execution_count": 13,
   "metadata": {},
   "outputs": [
    {
     "name": "stdout",
     "output_type": "stream",
     "text": [
      "<function <lambda> at 0x000001C1ED2FE280>\n",
      "<built-in function abs>\n"
     ]
    }
   ],
   "source": [
    "# Let's see the difference between a lambda function and a built-in function\n",
    "print(lambda x: print(\"-{}.\".format(x)))\n",
    "print(abs)\n"
   ]
  },
  {
   "cell_type": "markdown",
   "metadata": {},
   "source": [
    "As said, lambda functions are restricted to a single expression. Thanks to this constraint, we cannot create a lambda function that is not pure."
   ]
  },
  {
   "cell_type": "code",
   "execution_count": 14,
   "metadata": {},
   "outputs": [
    {
     "name": "stdout",
     "output_type": "stream",
     "text": [
      "8\n"
     ]
    }
   ],
   "source": [
    "# Note that expressions do not allow for variable assignment:\n",
    "# f = lambda x, y: x+=y    # uncomment to try\n",
    "# This fails because x+=y is an assignment: the result of x+y is assigned back to x\n",
    "\n",
    "# This one works:\n",
    "foo = lambda x, y: x+y    # x is unaffected because the result of x + y is not assigned to it, but returned by the lambda function\n",
    "print(foo(3,5))        # Output: 8\n"
   ]
  },
  {
   "cell_type": "markdown",
   "metadata": {},
   "source": [
    "Finally, and this is quite useful, we can also use the __*args__ construct with lambda functions:"
   ]
  },
  {
   "cell_type": "code",
   "execution_count": 15,
   "metadata": {},
   "outputs": [
    {
     "name": "stdout",
     "output_type": "stream",
     "text": [
      "a-b-c\n"
     ]
    }
   ],
   "source": [
    "foo = lambda *args: print(\"-\".join(args))\n",
    "foo(\"a\", \"b\", \"c\")\n"
   ]
  },
  {
   "cell_type": "markdown",
   "metadata": {},
   "source": [
    "\n",
    "---\n",
    "\n",
    "# Higher-order functions\n",
    "\n",
    "Higher-order functions are functions that accept functions as an argument, or return a function as a result (or both).\n",
    "\n",
    "We have seen some examples of built-in higher-order functions in the class materials. Let's now play with some examples and exercises. \n",
    "\n",
    "You can check the definition of the built-in functions in the official Python documentation https://docs.python.org/3/library/functions.html . \n"
   ]
  },
  {
   "cell_type": "markdown",
   "metadata": {},
   "source": [
    "### Filter\n",
    "\n",
    "The `filter()` function creates an iterator containing elements from the input iterable for which the given function returns `True`.\n",
    "\n",
    "If you look at its definition, you will see that the first argument to filter is a function: https://docs.python.org/3/library/functions.html#filter\n",
    "\n",
    "Therefore, `filter()` is a higher-order function.\n"
   ]
  },
  {
   "cell_type": "code",
   "execution_count": 16,
   "metadata": {},
   "outputs": [
    {
     "name": "stdout",
     "output_type": "stream",
     "text": [
      "[2, 4, 6]\n"
     ]
    }
   ],
   "source": [
    "# Example: Filter even numbers\n",
    "numbers = [1, 2, 3, 4, 5, 6]\n",
    "even_numbers = filter(lambda x: x % 2 == 0, numbers)\n",
    "\n",
    "print(list(even_numbers))  # Output: [2, 4, 6]\n"
   ]
  },
  {
   "cell_type": "markdown",
   "metadata": {},
   "source": [
    "#### FA-4:\n",
    "Use `filter()` to extract words longer than 5 characters from the list _words_.\n",
    "\n",
    "**Hint:** Using `len()` may come in handy."
   ]
  },
  {
   "cell_type": "code",
   "execution_count": 17,
   "metadata": {},
   "outputs": [
    {
     "name": "stdout",
     "output_type": "stream",
     "text": [
      "['banana', 'cherry']\n"
     ]
    }
   ],
   "source": [
    "words = ['apple', 'banana', 'cherry', 'date', 'fig']\n",
    "\n",
    "## Your solution to FA-4 goes here:\n",
    "\n",
    "long_words=filter(lambda x: len(x)>5,words)\n",
    "\n",
    "###########################\n",
    "#print(long_words) <filter object at 0x000001DF94EAA400>\n",
    "print(list(long_words))  # Expected output: ['banana', 'cherry']\n"
   ]
  },
  {
   "cell_type": "markdown",
   "metadata": {},
   "source": [
    "### Map\n",
    "\n",
    "Map functions allow us to apply a function to every element of an iterable.\n",
    "\n",
    "Similarly to `filter()`, the first argument to `map()` is a function: https://docs.python.org/3/library/functions.html#map\n",
    "\n",
    "Therefore, `map()` is also a higher-order function.\n",
    "\n",
    "\n"
   ]
  },
  {
   "cell_type": "code",
   "execution_count": 18,
   "metadata": {},
   "outputs": [
    {
     "name": "stdout",
     "output_type": "stream",
     "text": [
      "['Apple', 'Banana', 'Cherry']\n"
     ]
    }
   ],
   "source": [
    "# Example: Capitalizing words using map\n",
    "words = ['apple', 'banana', 'cherry']\n",
    "capitalized_words = map(str.capitalize, words)  # map creates the object capitalized_words\n",
    "\n",
    "# Convert the map object to a list to see the results\n",
    "print(list(capitalized_words))"
   ]
  },
  {
   "cell_type": "markdown",
   "metadata": {},
   "source": [
    "#### FA-5:\n",
    "\n",
    "Use  `map()` to calculate the square of each number given the list *numbers*.\n",
    "\n",
    "Hint: `pow()` function or a lambda function *(lambda x: x**2)* may come in handy.\n"
   ]
  },
  {
   "cell_type": "code",
   "execution_count": 50,
   "metadata": {},
   "outputs": [
    {
     "name": "stdout",
     "output_type": "stream",
     "text": [
      "[4, 9, 25, 49, 121, 169]\n"
     ]
    }
   ],
   "source": [
    "numbers = [2, 3, 5, 7, 11, 13]\n",
    "\n",
    "## Your solution to FA-5 goes here:\n",
    "\n",
    "squared_numbers=map(lambda x: x**2,numbers)\n",
    "\n",
    "###########################\n",
    "\n",
    "print(list(squared_numbers))  # Expected output: [4, 9, 25, 49, 121, 169]"
   ]
  },
  {
   "cell_type": "markdown",
   "metadata": {},
   "source": [
    "#### FA-6:\n",
    "Use `map` to create a list of the lengths of each word in `fruits`.\n",
    "\n",
    "**Hint:** `len` function may come in handy."
   ]
  },
  {
   "cell_type": "code",
   "execution_count": 30,
   "metadata": {},
   "outputs": [
    {
     "name": "stdout",
     "output_type": "stream",
     "text": [
      "[4, 9, 10, 5]\n"
     ]
    }
   ],
   "source": [
    "fruits = ['kiwi', 'blueberry', 'strawberry', 'grape']\n",
    "\n",
    "## Your solution to FA-6 goes here:\n",
    "\n",
    "word_lengths=map(lambda x:len(x),fruits) #we use \",fruits\" in the end because we use map\n",
    "\n",
    "###########################\n",
    "\n",
    "print(list(word_lengths))  # Expected output: [4, 9, 10, 5]\n"
   ]
  },
  {
   "cell_type": "markdown",
   "metadata": {},
   "source": [
    "We will now use higher-order functions to retrieve and format relatively complex data.\n",
    "\n",
    "The data below contains a collection of products. It is structured in the following way:\n",
    "\n",
    "-- Each element in the dataset is a tuple containing three items: the name of the product, its category, and its total sales amount in US Dollars (USD).\n",
    "\n",
    "-- The name is a string representing the product's name.\n",
    "\n",
    "-- The category is a string that classifies the product (e.g., \"Electronics\", \"Furniture\").\n",
    "\n",
    "-- The sales amount is a floating-point number representing the total sales value for that product in dollars.\n",
    "\n",
    "-- The dataset contains diverse products to allow for a variety of analyses using higher-order functions.\n"
   ]
  },
  {
   "cell_type": "code",
   "execution_count": 31,
   "metadata": {},
   "outputs": [],
   "source": [
    "products = [\n",
    "    (\"Laptop\", \"Electronics\", 1200.50),\n",
    "    (\"Smartphone\", \"Electronics\", 899.99),\n",
    "    (\"Desk\", \"Furniture\", 250.00),\n",
    "    (\"Chair\", \"Furniture\", 120.75),\n",
    "    (\"Headphones\", \"Electronics\", 199.95),\n",
    "    (\"Sofa\", \"Furniture\", 999.99)\n",
    "]"
   ]
  },
  {
   "cell_type": "markdown",
   "metadata": {},
   "source": [
    "#### FA-7:\n",
    "\n",
    "The goal is to extract and print the sales amount from the data. This will allow us to perform various operations on the sales data in subsequent exercises.\n",
    "\n",
    "Define a function `sales` that takes a product tuple as input and returns the only sales amount (third element of the tuple).\n",
    "\n",
    "\n"
   ]
  },
  {
   "cell_type": "code",
   "execution_count": 32,
   "metadata": {},
   "outputs": [
    {
     "name": "stdout",
     "output_type": "stream",
     "text": [
      "1200.5\n"
     ]
    }
   ],
   "source": [
    "## Your solution to FA-7 goes here:\n",
    "\n",
    "sales=lambda x:x[2]\n",
    "\n",
    "###########################\n",
    "print(sales(products[0]))  # Expected output: 1200.5\n",
    "            #products[0] is (\"Laptop\", \"Electronics\", 1200.50),"
   ]
  },
  {
   "cell_type": "markdown",
   "metadata": {},
   "source": [
    "#### FA-8: \n",
    "\n",
    "Now let's use higher-order functions: Use the function `sales` as the key in the built-in `min` and `max` functions to find the product with the lowest and highest sales.\n",
    "\n",
    "The goal is to identify the products with the smallest and largest sales amounts.\n"
   ]
  },
  {
   "cell_type": "code",
   "execution_count": 33,
   "metadata": {},
   "outputs": [
    {
     "name": "stdout",
     "output_type": "stream",
     "text": [
      "('Chair', 'Furniture', 120.75)\n",
      "('Laptop', 'Electronics', 1200.5)\n"
     ]
    }
   ],
   "source": [
    "## Your solution to FA-8 goes here:\n",
    "\n",
    "\n",
    "#lowest_sales=  min(list(map(lambda x: sales(x),products))) #120.75\n",
    "#highest_sales=  list(map(lambda x: sales(x),products)) #[1200.5, 899.99, 250.0, 120.75, 199.95, 999.99]\n",
    "\n",
    "# its geting 1 by 1 tuples from products and inserting it into the function sales that is extracting\n",
    "# only sales out and finding the minimum sales and returning the whole tuple with minimum sales\n",
    "lowest_sales=  min(products,key=sales)\n",
    "highest_sales=  max(products,key=sales)\n",
    "###########################\n",
    "\n",
    "print(lowest_sales)  # Expected output: ('Chair', 'Furniture', 120.75)\n",
    "print(highest_sales)  # Expected output: ('Laptop', 'Electronics', 1200.50)\n"
   ]
  },
  {
   "cell_type": "markdown",
   "metadata": {},
   "source": [
    "#### FA-9:\n",
    "\n",
    "We can now use `sales` for many other manipulations of the data. For instance, sort the product data based on the sales amount in ascending order using the `sorted` function and `sales` as the key.\n",
    "\n",
    "\n"
   ]
  },
  {
   "cell_type": "code",
   "execution_count": 34,
   "metadata": {},
   "outputs": [
    {
     "name": "stdout",
     "output_type": "stream",
     "text": [
      "[('Laptop', 'Electronics', 1200.5), ('Smartphone', 'Electronics', 899.99), ('Desk', 'Furniture', 250.0), ('Chair', 'Furniture', 120.75), ('Headphones', 'Electronics', 199.95), ('Sofa', 'Furniture', 999.99)]\n"
     ]
    }
   ],
   "source": [
    "## Your solution to FA-9 goes here:\n",
    "\n",
    "sorted_products= sorted(products,key=sales) #sorted makes ascending order automatically and based on the sales becaues we pass sales as a key\n",
    "\n",
    "###########################\n",
    "\n",
    "#print(sorted_products)  # Expected output: [('Chair', 'Furniture', 120.75), ..., ('Laptop', 'Electronics', 1200.50)]\n",
    "print(products)"
   ]
  },
  {
   "cell_type": "code",
   "execution_count": 35,
   "metadata": {},
   "outputs": [],
   "source": [
    "# Note that the original data remains unchanged. \n",
    "# Why is this a desirable property?\n",
    "\n",
    "## Add your answer here: ##############################\n",
    "\n",
    "fa9_answer = \"Sorted function does not change the original list because it creates a new list and the original list remains unchanged.\"\n",
    "\n",
    "#######################################################\n"
   ]
  },
  {
   "cell_type": "markdown",
   "metadata": {},
   "source": [
    "#### FA-10:\n",
    "\n",
    "Define two lambda functions `product_name` and  `product_category` that return the name and category of a product, respectively.\n",
    "\n",
    "These functions will allow us to isolate specific attributes of the product data for further analysis.\n"
   ]
  },
  {
   "cell_type": "code",
   "execution_count": 36,
   "metadata": {},
   "outputs": [
    {
     "name": "stdout",
     "output_type": "stream",
     "text": [
      "Laptop\n",
      "Electronics\n"
     ]
    }
   ],
   "source": [
    "## Your solution to FA-10 goes here:\n",
    "#x==products[0]\n",
    "product_name=lambda x: x[0] #x[0] means going to products[0] and taking the element with index [0]\n",
    "product_category=lambda x: x[1]\n",
    "###########################\n",
    "\n",
    "# Check the name and categoly of the first sales (product[0]):\n",
    "print(product_name(products[0]))      # Expected output: 'Laptop'\n",
    "print(product_category(products[0]))  # Expected output: 'Electronics'\n"
   ]
  },
  {
   "cell_type": "markdown",
   "metadata": {},
   "source": [
    "#### FA-11:\n",
    "\n",
    "Our goal is to reformat the product data to show sales amounts in Euros, instead of US Dollars.\n",
    "\n",
    "Write a function `usd_to_euros()` that converts the sales amount of a product from US Dollars to Euros using a conversion rate of `1 USD = 0.85 EUR`. \n",
    "The function should return a new tuple with the sales amount in Euros. \n"
   ]
  },
  {
   "cell_type": "code",
   "execution_count": 37,
   "metadata": {},
   "outputs": [
    {
     "name": "stdout",
     "output_type": "stream",
     "text": [
      "('Laptop', 'Electronics', 1020.425)\n"
     ]
    }
   ],
   "source": [
    "## Your solution to FA-11 goes here:\n",
    "\n",
    "usd_to_euros=lambda x: (x[0],x[1],x[2]*0.85) #the original function\n",
    "\n",
    "###########################\n",
    "\n",
    "# Check the price for the first product (product[0]) in euro:\n",
    "print(usd_to_euros(products[0]))  # Expected output: ('Laptop', 'Electronics', 1020.425) #printing a tuple doesnt change the original value\n"
   ]
  },
  {
   "cell_type": "markdown",
   "metadata": {},
   "source": [
    "#### FA-12:\n",
    "\n",
    "Final, our goal is to transform the entire dataset to reflect sales amounts in Euros.\n",
    "Let's use the `map()` function to apply the `usd_to_euros()` function to all products in the dataset, and create a new list of products with sales in Euros."
   ]
  },
  {
   "cell_type": "code",
   "execution_count": 38,
   "metadata": {},
   "outputs": [
    {
     "name": "stdout",
     "output_type": "stream",
     "text": [
      "(('Laptop', 'Electronics', 1020.425), ('Smartphone', 'Electronics', 764.9915), ('Desk', 'Furniture', 212.5), ('Chair', 'Furniture', 102.6375), ('Headphones', 'Electronics', 169.95749999999998), ('Sofa', 'Furniture', 849.9915))\n"
     ]
    }
   ],
   "source": [
    "## Your solution to FA-12 goes here:\n",
    "\n",
    "# products = [\n",
    "#     (\"Laptop\", \"Electronics\", 1200.50),\n",
    "#     (\"Smartphone\", \"Electronics\", 899.99),\n",
    "#     (\"Desk\", \"Furniture\", 250.00),\n",
    "#     (\"Chair\", \"Furniture\", 120.75),\n",
    "#     (\"Headphones\", \"Electronics\", 199.95),\n",
    "#     (\"Sofa\", \"Furniture\", 999.99)\n",
    "# ]\n",
    "\n",
    "# map(=map(usd_to_euros,products) ,products) \n",
    "\n",
    "# usd_to_euros(products[0])  -> ('Laptop', 'Electronics', 1020.425)\n",
    "# usd_to_euros(products[1])  -> ('Smartphone', 'Electronics', 764.9915)\n",
    "# usd_to_euros(products[2])\n",
    "# usd_to_euros(products[3])\n",
    "# usd_to_euros(products[4])\n",
    "# usd_to_euros(products[5])\n",
    "\n",
    "# then its covering all the above tuple into another big tuple\n",
    "\n",
    "\n",
    "products_in_euros=map(usd_to_euros,products) #map works with list and tuple\n",
    "\n",
    "###########################\n",
    "\n",
    "print(tuple(products_in_euros))  # Expected output: [('Laptop', 'Electronics', 1020.425), ('Smartphone', 'Electronics', 764.9915), ('Desk', 'Furniture', 212.5), ...]"
   ]
  },
  {
   "cell_type": "markdown",
   "metadata": {},
   "source": [
    "Now, let's write another function `usd_to_yen()` to convert the US Dollars to the Japanese Yen (JPY) with a rate of 1 USD = 156.2 YEN."
   ]
  },
  {
   "cell_type": "code",
   "execution_count": 39,
   "metadata": {},
   "outputs": [
    {
     "name": "stdout",
     "output_type": "stream",
     "text": [
      "('Laptop', 'Electronics', 187518.09999999998)\n"
     ]
    }
   ],
   "source": [
    "usd_to_yen = lambda x: (product_name(x), product_category(x), sales(x) * 156.2) #all of these are lambda f-ns product_name(x) taking x as tuple products[0]\n",
    "print(usd_to_yen(products[0])) #products[0] goes to x"
   ]
  },
  {
   "cell_type": "markdown",
   "metadata": {},
   "source": [
    "#### FA-13:\n",
    "\n",
    "We may want to apply either `usd_to_euros()` or `usd_to_yen()` to our dataset. Write a function `convert()` that takes either function as an input argument, and applies it to the data. \n",
    "\n"
   ]
  },
  {
   "cell_type": "code",
   "execution_count": 40,
   "metadata": {},
   "outputs": [
    {
     "name": "stdout",
     "output_type": "stream",
     "text": [
      "(('Laptop', 'Electronics', 1020.425), ('Smartphone', 'Electronics', 764.9915), ('Desk', 'Furniture', 212.5), ('Chair', 'Furniture', 102.6375), ('Headphones', 'Electronics', 169.95749999999998), ('Sofa', 'Furniture', 849.9915)) \n",
      "\n",
      "(('Laptop', 'Electronics', 187518.09999999998), ('Smartphone', 'Electronics', 140578.438), ('Desk', 'Furniture', 39050.0), ('Chair', 'Furniture', 18861.149999999998), ('Headphones', 'Electronics', 31232.189999999995), ('Sofa', 'Furniture', 156198.438)) \n",
      "\n",
      "[('Laptop', 'Electronics', 1200.5), ('Smartphone', 'Electronics', 899.99), ('Desk', 'Furniture', 250.0), ('Chair', 'Furniture', 120.75), ('Headphones', 'Electronics', 199.95), ('Sofa', 'Furniture', 999.99)]\n"
     ]
    }
   ],
   "source": [
    "## Your solution to FA-13 goes here:\n",
    "\n",
    "convert= lambda function_obj, products_obj: map(function_obj,products_obj)\n",
    "               \n",
    "###########################\n",
    "\n",
    "sales_euro = convert(usd_to_euros, products)\n",
    "print(tuple(sales_euro), \"\\n\")  # Expected output: [('Laptop', 'Electronics', 1020.425), ...]\n",
    "\n",
    "sales_yen = convert(usd_to_yen, products)\n",
    "print(tuple(sales_yen), \"\\n\")   # Expected output: [('Laptop', 'Electronics', 187518.09999999998), ...]\n",
    "\n",
    "# Note again that the original products data has not changed!\n",
    "print(products)                 # Expected value: Original dataset remains unchanged.\n"
   ]
  },
  {
   "cell_type": "markdown",
   "metadata": {},
   "source": [
    "\n",
    "---\n",
    "\n",
    "## Composing functions with reduce"
   ]
  },
  {
   "cell_type": "markdown",
   "metadata": {},
   "source": [
    "As you know, `reduce()` can be a very useful function, although quite difficult to get used to. Be patient with these exercises :)\n",
    "\n",
    "Before using `reduce()`, let's create some auxiliary functions. \n"
   ]
  },
  {
   "cell_type": "markdown",
   "metadata": {},
   "source": [
    "#### FA-14:\n",
    "\n",
    "Create a lambda function  `triple` that returns three times an integer."
   ]
  },
  {
   "cell_type": "code",
   "execution_count": 41,
   "metadata": {},
   "outputs": [
    {
     "name": "stdout",
     "output_type": "stream",
     "text": [
      "12\n"
     ]
    }
   ],
   "source": [
    "## Your solution to FA-14 goes here:\n",
    "\n",
    "triple=lambda x: x*3\n",
    "\n",
    "###########################\n",
    "\n",
    "print(triple(4))  # Expected output : 12\n"
   ]
  },
  {
   "cell_type": "markdown",
   "metadata": {},
   "source": [
    "#### FA-15:\n",
    "Create a function `make_tuple()` that takes an arbitrary number of arguments and returns a tuple containing those arguments.\n",
    "\n",
    "**Hint:** the  __*args__  construct can come in handy. "
   ]
  },
  {
   "cell_type": "code",
   "execution_count": 42,
   "metadata": {},
   "outputs": [
    {
     "name": "stdout",
     "output_type": "stream",
     "text": [
      "(1, 2, 3)\n",
      "('a', 'b', 'c')\n"
     ]
    }
   ],
   "source": [
    "## Your solution to FA-15 goes here:\n",
    "\n",
    "make_tuple=lambda *args: args #i dont use (*args,)\n",
    "\n",
    "###########################\n",
    "\n",
    "print(make_tuple(1, 2, 3))  # => (1, 2, 3)\n",
    "print(make_tuple(\"a\", \"b\", \"c\"))  # => ('a', 'b', 'c')\n"
   ]
  },
  {
   "cell_type": "markdown",
   "metadata": {},
   "source": [
    "#### FA-16:\n",
    "\n",
    "Create a function  `add_all()` that takes an arbitrary number of arguments and sums them all. Use `reduce()` to implement it.\n",
    "\n",
    "**Hint**: review the lecture for an example of `reduce()` applied to only two arguments. Generalise it to multiple arguments using __*args__.\n",
    "\n",
    "\n",
    "\n",
    "\n"
   ]
  },
  {
   "cell_type": "code",
   "execution_count": 43,
   "metadata": {},
   "outputs": [
    {
     "name": "stdout",
     "output_type": "stream",
     "text": [
      "10\n",
      "30\n"
     ]
    }
   ],
   "source": [
    "from functools import reduce\n",
    "\n",
    "## Your solution to FA-16 goes here:\n",
    "            #when defining a func when using in a func then dont need *\n",
    "#add_all=lambda *args: reduce(lambda x,y:x+y,args) #1way\n",
    "#2nd way\n",
    "def add_all(*args):\n",
    "    return reduce(lambda x,y:x+y,args)\n",
    "###########################\n",
    "\n",
    "print(add_all(1, 2, 3, 4)) # => 10\n",
    "print(add_all(5, 10, 15))  # => 30"
   ]
  },
  {
   "cell_type": "markdown",
   "metadata": {},
   "source": [
    "#### FA-17:\n",
    "\n",
    "Create a function `div_all()` that divides the first argument by all the remaining arguments sequentially. Use `reduce()` to implement it.\n"
   ]
  },
  {
   "cell_type": "code",
   "execution_count": 44,
   "metadata": {},
   "outputs": [
    {
     "name": "stdout",
     "output_type": "stream",
     "text": [
      "10.0\n",
      "5.0\n"
     ]
    }
   ],
   "source": [
    "## Your solution to FA-17 goes here:\n",
    "\n",
    "div_all= lambda *args: reduce(lambda x,y: x/y,args)\n",
    "\n",
    "###########################\n",
    "\n",
    "print(div_all(100, 2, 5))  # => 10.0\n",
    "print(div_all(50, 5, 2))  # => 5.0\n"
   ]
  },
  {
   "cell_type": "markdown",
   "metadata": {},
   "source": [
    "#### FA-18:\n",
    "\n",
    "Create a function `combine()` that takes two functions and applies them in sequence. For example, `combine(triple, add_all)` should create a function that sums its arguments and then triples the result.\n"
   ]
  },
  {
   "cell_type": "code",
   "execution_count": 45,
   "metadata": {},
   "outputs": [
    {
     "name": "stdout",
     "output_type": "stream",
     "text": [
      "18\n"
     ]
    }
   ],
   "source": [
    "## Your solution to FA-18 goes here:\n",
    "#1way\n",
    "def combine(f,g):\n",
    "    def wrapper(*args):\n",
    "        my_args =  [f(arg) for arg in args]\n",
    "        return g(*my_args)\n",
    "    return wrapper\n",
    "\n",
    "#2nd way\n",
    "# combine=lambda f,g: lambda *args: g(*(f(arg) for arg in args)) #g needs multiple arguments, f needs one\n",
    "\n",
    "###########################\n",
    "\n",
    "result = combine(triple, add_all)(1, 2, 3)  # => triple(add_all(1, 2, 3)) = triple(6) = 18\n",
    "print(result)\n",
    "\n",
    "# Once you have a working function, check what happens with the following call:\n",
    "#print(combine(add_all,triple)(1, 2, 3))\n"
   ]
  },
  {
   "cell_type": "markdown",
   "metadata": {},
   "source": [
    "Explain why combine(triple, add_all) works while combine(add_all,triple) fails:"
   ]
  },
  {
   "cell_type": "code",
   "execution_count": 46,
   "metadata": {},
   "outputs": [],
   "source": [
    "## Add your answer here: ##############################\n",
    "\n",
    "fa18_answer = \"The triple takes one argument and add_all takes multiple arguments and if I switch the places, the arguments will mess up.\"\n",
    "\n",
    "#######################################################\n"
   ]
  },
  {
   "cell_type": "markdown",
   "metadata": {},
   "source": [
    "#### FA-19:\n",
    "\n",
    "Now let's create `combine_all()`, a version of `combine()` that takes any number of functions instead of only two. Use `reduce()` to compose them all.\n",
    "\n",
    "**Hint:** Notebooks are incremental, most solutions are based on what we have previously done.\n"
   ]
  },
  {
   "cell_type": "code",
   "execution_count": 47,
   "metadata": {},
   "outputs": [
    {
     "name": "stdout",
     "output_type": "stream",
     "text": [
      "(1, 2, 3, 1, 2, 3, 1, 2, 3)\n"
     ]
    }
   ],
   "source": [
    "# ## Your solution to FA-19 goes here:\n",
    "def combine_all(*args1):\n",
    "    def wrapper(*args2):\n",
    "        myfunc = lambda num,func: [func(*num)]\n",
    "        return reduce(myfunc,args1,args2)[0]\n",
    "    return wrapper\n",
    "\n",
    "\n",
    "# combine_all=lambda *args_1: lambda *args_2: reduce(lambda x: ,args_2)\n",
    "\n",
    "# def combine(*funct):\n",
    "#     def wrapper(*args):\n",
    "#         my_args =  [f(arg) for arg in args]\n",
    "#         return g(*my_args)\n",
    "#     return wrapper\n",
    "\n",
    "###########################\n",
    "\n",
    "composed_function = combine_all(make_tuple, triple, add_all)\n",
    "result = composed_function(1, 2, 3)    # equivalent of make_tuple(triple(add_all(1, 2, 3)))\n",
    "print(result)      # Expected output: (18,)\n"
   ]
  },
  {
   "cell_type": "markdown",
   "metadata": {},
   "source": [
    "### One last exercise to wrap up this notebook!"
   ]
  },
  {
   "cell_type": "markdown",
   "metadata": {},
   "source": [
    "#### FA-20:\n",
    "\n",
    "Create a function `count_odd()` that takes a list of numbers and counts how many of them are odd. Use `reduce()`.\n",
    "\n",
    "**Hint:** A odd number is not divisible by 2."
   ]
  },
  {
   "cell_type": "code",
   "execution_count": 48,
   "metadata": {},
   "outputs": [
    {
     "name": "stdout",
     "output_type": "stream",
     "text": [
      "5\n"
     ]
    }
   ],
   "source": [
    "## Your solution to FA-20 goes here:\n",
    "count_odd=lambda numbers: reduce(lambda count,x: count+1 if x%2!=0 else count,numbers)\n",
    "\n",
    "# Testing the function\n",
    "###########################\n",
    "\n",
    "numbers = [1, 2, 3, 4, 5, 6, 7, 8, 9]\n",
    "print(count_odd(numbers))    # Expected output: 5\n"
   ]
  }
 ],
 "metadata": {
  "kernelspec": {
   "display_name": "Python 3 (ipykernel)",
   "language": "python",
   "name": "python3"
  },
  "language_info": {
   "codemirror_mode": {
    "name": "ipython",
    "version": 3
   },
   "file_extension": ".py",
   "mimetype": "text/x-python",
   "name": "python",
   "nbconvert_exporter": "python",
   "pygments_lexer": "ipython3",
   "version": "3.9.7"
  }
 },
 "nbformat": 4,
 "nbformat_minor": 4
}
